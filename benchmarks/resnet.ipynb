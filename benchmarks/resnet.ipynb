{
 "cells": [
  {
   "cell_type": "code",
   "execution_count": 1,
   "id": "c9eadbef-5d40-4e48-83e1-69651ceae43a",
   "metadata": {},
   "outputs": [],
   "source": [
    "import os\n",
    "import cv2\n",
    "import torch\n",
    "import torch.nn as nn\n",
    "import torch.nn.functional as F\n",
    "import torchvision\n",
    "import torchvision.models as models\n",
    "import torchvision.io as io\n",
    "import torchvision.transforms as transforms\n",
    "import torch.optim as optim\n",
    "import numpy as np\n",
    "from tqdm import tqdm\n",
    "import matplotlib.pyplot as plt"
   ]
  },
  {
   "cell_type": "code",
   "execution_count": 2,
   "id": "5360f5ce-9139-4d95-a096-f5d8b37180bc",
   "metadata": {},
   "outputs": [],
   "source": [
    "model = models.resnet50(pretrained=True, progress=True)"
   ]
  },
  {
   "cell_type": "code",
   "execution_count": 3,
   "id": "e015a1ee-e5a9-4b83-8f0e-4da3407473b2",
   "metadata": {},
   "outputs": [],
   "source": [
    "# fine tune the last layer\n",
    "model.fc = nn.Linear(in_features=2048, out_features=8, bias=True)"
   ]
  },
  {
   "cell_type": "code",
   "execution_count": 4,
   "id": "ed867acb-12e9-4545-997c-83876eae997e",
   "metadata": {},
   "outputs": [],
   "source": [
    "augment = transforms.Compose([\n",
    "    transforms.ToPILImage(),\n",
    "    transforms.Resize((224, 224)),\n",
    "    transforms.RandomAffine(0, shear=10, scale=(0.8, 1.2)),\n",
    "    transforms.RandomHorizontalFlip(),\n",
    "    transforms.ToTensor(),\n",
    "    transforms.Normalize(mean=[0.485, 0.456, 0.405], std=[0.229, 0.224, 0.225])\n",
    "])"
   ]
  },
  {
   "cell_type": "code",
   "execution_count": 5,
   "id": "f6c3f357-8146-4e9c-bbda-402febd76c7d",
   "metadata": {},
   "outputs": [],
   "source": [
    "class Data(torch.utils.data.Dataset):\n",
    "    def __init__(self, augment):\n",
    "        self.data = []\n",
    "        self.labels = []\n",
    "        self.dir = 'D:/Data/hd/train'\n",
    "        self.augment = augment\n",
    "        \n",
    "        i = 0\n",
    "        for folder in os.listdir(self.dir):\n",
    "            label = i\n",
    "            for file in tqdm(os.listdir(os.path.join(self.dir, folder))):\n",
    "                img_path = os.path.join(os.path.join(self.dir, folder), file)\n",
    "                \n",
    "                # Open and apply augmentation\n",
    "                img = io.read_image(img_path)\n",
    "                img = self.augment(img)\n",
    "                 \n",
    "                # Append the image and its corresponding label to the output\n",
    "                self.data.append(img)\n",
    "                self.labels.append(label)\n",
    "            i += 1\n",
    "            \n",
    "    def __len__(self):\n",
    "        return len(self.data)\n",
    "    \n",
    "    def __getitem__(self, idx):\n",
    "        return self.data[idx], self.labels[idx]"
   ]
  },
  {
   "cell_type": "code",
   "execution_count": 6,
   "id": "1b5f86d9-1d1f-40a3-a432-4f4f4e8c97ef",
   "metadata": {},
   "outputs": [
    {
     "name": "stderr",
     "output_type": "stream",
     "text": [
      "100%|███████████████████████████████████████████████| 3587/3587 [00:49<00:00, 72.95it/s]\n",
      "100%|███████████████████████████████████████████████| 2215/2215 [00:31<00:00, 70.18it/s]\n",
      "100%|███████████████████████████████████████████████| 4518/4518 [01:04<00:00, 70.14it/s]\n",
      "100%|███████████████████████████████████████████████| 1493/1493 [00:21<00:00, 69.79it/s]\n",
      "100%|███████████████████████████████████████████████| 1751/1751 [00:24<00:00, 71.27it/s]\n",
      "100%|███████████████████████████████████████████████| 7165/7165 [01:46<00:00, 67.56it/s]\n",
      "100%|███████████████████████████████████████████████| 1585/1585 [00:22<00:00, 69.08it/s]\n",
      "100%|███████████████████████████████████████████████| 3210/3210 [00:49<00:00, 65.20it/s]\n"
     ]
    }
   ],
   "source": [
    "data = Data(augment)"
   ]
  },
  {
   "cell_type": "code",
   "execution_count": 7,
   "id": "876befb9-49c4-4ae0-b921-2f7a8f284874",
   "metadata": {},
   "outputs": [],
   "source": [
    "device = torch.device('cuda')"
   ]
  },
  {
   "cell_type": "code",
   "execution_count": 8,
   "id": "6f8b4d85-0946-44c6-8409-376cc49d6322",
   "metadata": {},
   "outputs": [],
   "source": [
    "model = model.to(device)\n",
    "optimizer = optim.AdamW(model.parameters(), lr=1e-3)\n",
    "loss = nn.CrossEntropyLoss()"
   ]
  },
  {
   "cell_type": "code",
   "execution_count": 9,
   "id": "17702335-bf9b-4241-8948-a7ccb79ac47b",
   "metadata": {},
   "outputs": [],
   "source": [
    "train, val = torch.utils.data.random_split(data, [22972, 2552])\n",
    "trainloader = torch.utils.data.DataLoader(train, shuffle=True, batch_size=32)\n",
    "valloader = torch.utils.data.DataLoader(val, shuffle=True, batch_size=32)"
   ]
  },
  {
   "cell_type": "code",
   "execution_count": 10,
   "id": "f0087176-ca86-4fd3-84f5-0f66f0ece546",
   "metadata": {},
   "outputs": [],
   "source": [
    "training_losses, val_losses = [], []\n",
    "avg_training_losses, avg_val_losses = [], []\n",
    "accuracies = []"
   ]
  },
  {
   "cell_type": "code",
   "execution_count": null,
   "id": "0c1bd788-888d-41b9-9c4b-9e03c7be6c60",
   "metadata": {},
   "outputs": [
    {
     "name": "stderr",
     "output_type": "stream",
     "text": [
      "  4%|█▉                                               | 1/25 [03:04<1:13:38, 184.10s/it]"
     ]
    },
    {
     "name": "stdout",
     "output_type": "stream",
     "text": [
      "Epoch: 0, Training Loss: 1.3199018239974976, Validation Loss: 1.0639394521713257, Accuracy: 0.6344043887147336\n"
     ]
    },
    {
     "name": "stderr",
     "output_type": "stream",
     "text": [
      "  8%|███▉                                             | 2/25 [06:06<1:10:15, 183.30s/it]"
     ]
    },
    {
     "name": "stdout",
     "output_type": "stream",
     "text": [
      "Epoch: 1, Training Loss: 1.1456713676452637, Validation Loss: 1.0228689908981323, Accuracy: 0.670846394984326\n"
     ]
    },
    {
     "name": "stderr",
     "output_type": "stream",
     "text": [
      " 12%|█████▉                                           | 3/25 [09:11<1:07:21, 183.70s/it]"
     ]
    },
    {
     "name": "stdout",
     "output_type": "stream",
     "text": [
      "Epoch: 2, Training Loss: 1.0398310422897339, Validation Loss: 0.9447796940803528, Accuracy: 0.7260971786833855\n"
     ]
    },
    {
     "name": "stderr",
     "output_type": "stream",
     "text": [
      " 16%|███████▊                                         | 4/25 [12:14<1:04:16, 183.64s/it]"
     ]
    },
    {
     "name": "stdout",
     "output_type": "stream",
     "text": [
      "Epoch: 3, Training Loss: 0.9592183232307434, Validation Loss: 0.9441755414009094, Accuracy: 0.6782915360501567\n"
     ]
    },
    {
     "name": "stderr",
     "output_type": "stream",
     "text": [
      " 20%|█████████▊                                       | 5/25 [15:18<1:01:16, 183.81s/it]"
     ]
    },
    {
     "name": "stdout",
     "output_type": "stream",
     "text": [
      "Epoch: 4, Training Loss: 0.8961654305458069, Validation Loss: 0.9001971483230591, Accuracy: 0.7594043887147336\n"
     ]
    },
    {
     "name": "stderr",
     "output_type": "stream",
     "text": [
      " 24%|████████████▏                                      | 6/25 [18:22<58:11, 183.78s/it]"
     ]
    },
    {
     "name": "stdout",
     "output_type": "stream",
     "text": [
      "Epoch: 5, Training Loss: 0.8426710963249207, Validation Loss: 0.8721647262573242, Accuracy: 0.7398119122257053\n"
     ]
    },
    {
     "name": "stderr",
     "output_type": "stream",
     "text": [
      " 28%|██████████████▎                                    | 7/25 [21:26<55:08, 183.82s/it]"
     ]
    },
    {
     "name": "stdout",
     "output_type": "stream",
     "text": [
      "Epoch: 6, Training Loss: 0.7966349720954895, Validation Loss: 0.8645821809768677, Accuracy: 0.7323667711598746\n"
     ]
    },
    {
     "name": "stderr",
     "output_type": "stream",
     "text": [
      " 32%|████████████████▎                                  | 8/25 [24:30<52:05, 183.86s/it]"
     ]
    },
    {
     "name": "stdout",
     "output_type": "stream",
     "text": [
      "Epoch: 7, Training Loss: 0.7556052207946777, Validation Loss: 0.852990448474884, Accuracy: 0.7496081504702194\n"
     ]
    },
    {
     "name": "stderr",
     "output_type": "stream",
     "text": [
      " 36%|██████████████████▎                                | 9/25 [27:34<49:04, 184.02s/it]"
     ]
    },
    {
     "name": "stdout",
     "output_type": "stream",
     "text": [
      "Epoch: 8, Training Loss: 0.7180514335632324, Validation Loss: 0.8322135210037231, Accuracy: 0.783307210031348\n"
     ]
    },
    {
     "name": "stderr",
     "output_type": "stream",
     "text": [
      " 40%|████████████████████                              | 10/25 [30:39<46:02, 184.16s/it]"
     ]
    },
    {
     "name": "stdout",
     "output_type": "stream",
     "text": [
      "Epoch: 9, Training Loss: 0.6834000945091248, Validation Loss: 0.8207184076309204, Accuracy: 0.7793887147335423\n"
     ]
    },
    {
     "name": "stderr",
     "output_type": "stream",
     "text": [
      " 44%|██████████████████████                            | 11/25 [33:43<42:58, 184.21s/it]"
     ]
    },
    {
     "name": "stdout",
     "output_type": "stream",
     "text": [
      "Epoch: 10, Training Loss: 0.649898886680603, Validation Loss: 0.8189390897750854, Accuracy: 0.7519592476489029\n"
     ]
    },
    {
     "name": "stderr",
     "output_type": "stream",
     "text": [
      " 48%|████████████████████████                          | 12/25 [36:47<39:56, 184.32s/it]"
     ]
    },
    {
     "name": "stdout",
     "output_type": "stream",
     "text": [
      "Epoch: 11, Training Loss: 0.6185158491134644, Validation Loss: 0.8173295259475708, Accuracy: 0.7891849529780565\n"
     ]
    },
    {
     "name": "stderr",
     "output_type": "stream",
     "text": [
      " 52%|██████████████████████████                        | 13/25 [39:52<36:52, 184.41s/it]"
     ]
    },
    {
     "name": "stdout",
     "output_type": "stream",
     "text": [
      "Epoch: 12, Training Loss: 0.5885476469993591, Validation Loss: 0.8203710913658142, Accuracy: 0.7648902821316614\n"
     ]
    },
    {
     "name": "stderr",
     "output_type": "stream",
     "text": [
      " 56%|████████████████████████████                      | 14/25 [42:57<33:49, 184.48s/it]"
     ]
    },
    {
     "name": "stdout",
     "output_type": "stream",
     "text": [
      "Epoch: 13, Training Loss: 0.5605670213699341, Validation Loss: 0.8257862329483032, Accuracy: 0.7644984326018809\n"
     ]
    },
    {
     "name": "stderr",
     "output_type": "stream",
     "text": [
      " 60%|██████████████████████████████                    | 15/25 [46:01<30:44, 184.44s/it]"
     ]
    },
    {
     "name": "stdout",
     "output_type": "stream",
     "text": [
      "Epoch: 14, Training Loss: 0.5347082018852234, Validation Loss: 0.8402426242828369, Accuracy: 0.7480407523510971\n"
     ]
    },
    {
     "name": "stderr",
     "output_type": "stream",
     "text": [
      " 64%|████████████████████████████████                  | 16/25 [49:05<27:39, 184.41s/it]"
     ]
    },
    {
     "name": "stdout",
     "output_type": "stream",
     "text": [
      "Epoch: 15, Training Loss: 0.5107452869415283, Validation Loss: 0.8515939712524414, Accuracy: 0.7503918495297806\n"
     ]
    },
    {
     "name": "stderr",
     "output_type": "stream",
     "text": [
      " 68%|██████████████████████████████████                | 17/25 [52:10<24:35, 184.40s/it]"
     ]
    },
    {
     "name": "stdout",
     "output_type": "stream",
     "text": [
      "Epoch: 16, Training Loss: 0.48894014954566956, Validation Loss: 0.858160138130188, Accuracy: 0.7621473354231975\n"
     ]
    }
   ],
   "source": [
    "for e in tqdm(range(7)):\n",
    "    for x, y in trainloader:\n",
    "        model.train()\n",
    "        optimizer.zero_grad()\n",
    "        x, y = x.to(device), y.to(device)\n",
    "        y_pred = model(x.float())\n",
    "        l = loss(y_pred, y)\n",
    "        l.backward()\n",
    "        optimizer.step()\n",
    "        npl = l.detach().cpu().numpy()\n",
    "        training_losses.append(npl)\n",
    "\n",
    "    acc = 0\n",
    "    acc_t, acc_p = [], []\n",
    "    with torch.no_grad():\n",
    "        for x, y in valloader:\n",
    "            model.eval()\n",
    "            x, y = x.to(device), y.to(device)\n",
    "            y_pred = model(x.float())\n",
    "            l = loss(y_pred, y)\n",
    "            npl = l.detach().cpu().numpy()\n",
    "            val_losses.append(npl)\n",
    "            \n",
    "            # accuracy metric as well\n",
    "            p = np.argmax(y_pred.detach().cpu().numpy(), axis=1)\n",
    "            tp = y.detach().cpu().numpy()\n",
    "            acc_p.append(p)\n",
    "            acc_t.append(tp)\n",
    "    \n",
    "    for x, y in zip(acc_p, acc_t):\n",
    "        for i, j in zip(x, y):\n",
    "            if i == j:\n",
    "                acc += 1\n",
    "                \n",
    "    val_acc = acc / 2552\n",
    "    avg_training_losses.append(np.mean(training_losses))\n",
    "    avg_val_losses.append(np.mean(val_losses))\n",
    "    accuracies.append(val_acc)\n",
    "\n",
    "    print(f'Epoch: {e}, Training Loss: {np.mean(training_losses)}, Validation Loss: {np.mean(val_losses)}, Accuracy: {val_acc}')"
   ]
  },
  {
   "cell_type": "code",
   "execution_count": null,
   "id": "be8fba06-a596-4619-a5b8-d54410dedcfd",
   "metadata": {},
   "outputs": [],
   "source": [
    "torch.save({\n",
    "    'model': model.state_dict(),\n",
    "    'optimizer': optimizer.state_dict(),\n",
    "    'loss': loss\n",
    "}, 'resnet50baseline.pth')"
   ]
  }
 ],
 "metadata": {
  "kernelspec": {
   "display_name": "Python 3 (ipykernel)",
   "language": "python",
   "name": "python3"
  },
  "language_info": {
   "codemirror_mode": {
    "name": "ipython",
    "version": 3
   },
   "file_extension": ".py",
   "mimetype": "text/x-python",
   "name": "python",
   "nbconvert_exporter": "python",
   "pygments_lexer": "ipython3",
   "version": "3.8.12"
  }
 },
 "nbformat": 4,
 "nbformat_minor": 5
}
