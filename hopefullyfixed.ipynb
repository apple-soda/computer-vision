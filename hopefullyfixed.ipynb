{
 "cells": [
  {
   "cell_type": "code",
   "execution_count": 1,
   "id": "4215e97c-a840-4107-a9c6-926f71a1a89b",
   "metadata": {},
   "outputs": [],
   "source": [
    "import torch\n",
    "import torch.nn as nn\n",
    "import torch.nn.functional as F\n",
    "\n",
    "import numpy as np\n",
    "import matplotlib.pyplot as plt\n",
    "\n",
    "from tqdm import tqdm"
   ]
  },
  {
   "cell_type": "code",
   "execution_count": 2,
   "id": "2126c864-9d18-4711-88f7-5c2f35865d3d",
   "metadata": {},
   "outputs": [],
   "source": [
    "class PositionalEmbedding1D(nn.Module):\n",
    "    \"\"\"Adds (optionally learned) positional embeddings to the inputs.\"\"\"\n",
    "\n",
    "    def __init__(self, seq_len, dim):\n",
    "        super().__init__()\n",
    "        self.pos_embedding = nn.Parameter(torch.zeros(1, seq_len, dim))\n",
    "    \n",
    "    def forward(self, x):\n",
    "        \"\"\"Input has shape `(batch_size, seq_len, emb_dim)`\"\"\"\n",
    "        # (1, 3, 14, 14) + (1, 3, 196) ? wtf\n",
    "        # ohhh flatten before embedding kek\n",
    "        return x + self.pos_embedding"
   ]
  },
  {
   "cell_type": "code",
   "execution_count": 3,
   "id": "cc454042-e611-4cae-8210-f51dc1c3da52",
   "metadata": {},
   "outputs": [],
   "source": [
    "class MLP(nn.Module):\n",
    "    def __init__(self, dim, ff_dim):\n",
    "        super().__init__()\n",
    "        self.fc1 = nn.Linear(dim, ff_dim)\n",
    "        self.fc2 = nn.Linear(ff_dim, dim)\n",
    "        \n",
    "    def forward(self, x):\n",
    "        out = self.fc2(F.gelu(self.fc1(x)))\n",
    "        return out"
   ]
  },
  {
   "cell_type": "code",
   "execution_count": 4,
   "id": "168fb4ea-14a8-4aba-bef9-e7e48633004b",
   "metadata": {},
   "outputs": [],
   "source": [
    "class MHSA(nn.Module):\n",
    "    def __init__(self, dim, n_heads):\n",
    "        super().__init__()\n",
    "        self.n_heads = n_heads\n",
    "        self.dim = dim\n",
    "        self.q_project = nn.Linear(dim, dim)\n",
    "        self.k_project = nn.Linear(dim, dim)\n",
    "        self.v_project = nn.Linear(dim, dim)\n",
    "        self.out_project = nn.Linear(dim, dim)\n",
    "        self.dropout = nn.Dropout(0.)\n",
    "        \n",
    "    def forward(self, x): # input shape [b, s, d]\n",
    "        # split into q, k, v : (query, key, values)\n",
    "        # expand by h (num heads... hence multi attention)\n",
    "        \n",
    "        q, k, v = self.q_project(x), self.k_project(x), self.v_project(x)\n",
    "        # convert q, k, v -> [b, h, s, w] where h = n_heads\n",
    "        # linearly project to refactor new features where new features are a weighted sum of the old features\n",
    "        # MHSA blocks will learn which features are important, hence attention. certain chunks of the image will have greater weight/importanc and attention will be greater\n",
    "        '''\n",
    "        b, s, d -> b, h, s, w\n",
    "        b, 197, 768 -> b, 12, 196, 64\n",
    "        torch.view should work here, if not use something else ig :/\n",
    "        '''\n",
    "        # q = q.view(q.shape[0], self.n_heads, q.shape[1], -1)\n",
    "        # k = k.view(k.shape[0], self.n_heads, k.shape[1], -1)\n",
    "        # v = v.view(v.shape[0], self.n_heads, v.shape[1], -1)\n",
    "        \n",
    "        q = q.permute()\n",
    "        \n",
    "        # scaled dot product attention on q, k (queries, keys) then matmul with values\n",
    "        # matmul + scale\n",
    "        # [b, h, s, w] @ [b, h, w, s] -> [b, h, s, s]\n",
    "        '''\n",
    "        p should be (b, 197, 197)\n",
    "        '''\n",
    "        k = k.transpose(-2, -1) # swap last two dimensions\n",
    "        # import pdb; pdb.set_trace()\n",
    "        p = torch.matmul(q, k)\n",
    "        p = p / np.sqrt(k.size(-1)) # where s is the dimension of k. p represents scalar dot product (all combinations of query-key pairs)\n",
    "\n",
    "        p = self.dropout(F.softmax(p, dim = -1)) # softmax across last dimension. zero some q-k weights... why?\n",
    "        \n",
    "        '''\n",
    "        need to apply .contiguous() on a tranposed tensor if you want to reshape it with .view()\n",
    "        out should be (b, 197, 768)\n",
    "        output: reweighted tensor with applied attention, certain patches are more important/relevant in classifying this specific image\n",
    "        '''\n",
    "        out = torch.matmul(p, v).transpose(1, 2) # [b, h, s, s] @ [b, h, s, w] -> [b, s, h, w]. i dont even think i need to call contiguous here\n",
    "        out = out.flatten(2) # [b, s, d]\n",
    "        out = self.out_project(out)\n",
    "        return out"
   ]
  },
  {
   "cell_type": "code",
   "execution_count": 5,
   "id": "0de52869-4ffa-4be1-b875-c16b18af1a4b",
   "metadata": {},
   "outputs": [],
   "source": [
    "# dont need linear and dont need dropout i think\n",
    "# add after if performance is shit\n",
    "\n",
    "# ADDED DROPOUT LAYERS\n",
    "'''\n",
    "generally apply dropout layers in front of linear projections\n",
    "    dropout before MHSA/MLP where the last layer in a linear projection\n",
    "    why dropout in front of softmax then? \n",
    "'''\n",
    "\n",
    "class Block(nn.Module): # inputs are B, S, D\n",
    "    def __init__(self, dim, n_heads, ff_dim):\n",
    "        super().__init__()\n",
    "        self.norm1 = nn.LayerNorm(dim, eps=1e-6)\n",
    "        self.MHSA = MHSA(dim, n_heads)\n",
    "        self.norm2 = nn.LayerNorm(dim, eps=1e-6)\n",
    "        self.mlp_channels = MLP(dim, ff_dim)\n",
    "        self.dropout = nn.Dropout(0.)\n",
    "        \n",
    "    def forward(self, x):\n",
    "        h = self.dropout(self.MHSA(self.norm1(x)))\n",
    "        x = x + h\n",
    "        h = self.dropout(self.mlp_channels(self.norm2(x)))\n",
    "        x = x + h\n",
    "        return x"
   ]
  },
  {
   "cell_type": "code",
   "execution_count": 6,
   "id": "a7beb667-2fc6-4786-bbc6-3c3960a3e1a7",
   "metadata": {},
   "outputs": [],
   "source": [
    "class Transformer(nn.Module):\n",
    "    def __init__(self, n_layers, dim, n_heads, ff_dim):\n",
    "        super().__init__()\n",
    "        self.blocks = nn.ModuleList([Block(dim, n_heads, ff_dim) for _ in range(n_layers)])\n",
    "    \n",
    "    def forward(self, x):\n",
    "        for block in self.blocks:\n",
    "            x = block(x)\n",
    "        return x"
   ]
  },
  {
   "cell_type": "code",
   "execution_count": 7,
   "id": "714c0e83-2177-43fe-90f1-acdbb24117e3",
   "metadata": {},
   "outputs": [
    {
     "data": {
      "text/plain": [
       "'\\nwith image 1, 3, 224, 224  and patch encoding of 16x16 we have\\n((224 - 16) / 16) + 1 = 14\\nseq len is 14 * 14 bro im trippin bullets\\nout = (1, 3, 14, 14)\\n'"
      ]
     },
     "execution_count": 7,
     "metadata": {},
     "output_type": "execute_result"
    }
   ],
   "source": [
    "'''\n",
    "with image 1, 3, 224, 224  and patch encoding of 16x16 we have\n",
    "((224 - 16) / 16) + 1 = 14\n",
    "seq len is 14 * 14 bro im trippin bullets\n",
    "out = (1, 3, 14, 14)\n",
    "'''"
   ]
  },
  {
   "cell_type": "code",
   "execution_count": 8,
   "id": "3c1e746a-e682-476f-87ec-58a6024bd600",
   "metadata": {},
   "outputs": [],
   "source": [
    "class ViT(nn.Module):\n",
    "    def __init__(self, in_channels, dim, fh, fw, n_layers, n_heads, ff_dim, num_classes):\n",
    "        super().__init__()\n",
    "        self.fw = fw\n",
    "        self.fh = fh\n",
    "        self.patch_encoding = nn.Conv2d(in_channels, dim, kernel_size=(self.fh, self.fw), stride=(self.fh, self.fw))\n",
    "        # [B, D, FH, FW]\n",
    "        \n",
    "        seq_len = 14 * 14 + 1 # for cls token\n",
    "        \n",
    "        self.cls_token = nn.Parameter(torch.zeros(1, 1, dim))\n",
    "            \n",
    "        self.positional_embedding = PositionalEmbedding1D(seq_len, dim) # inputs are seq len, dim\n",
    "        # [B, D, FH, FW]\n",
    "        \n",
    "        # flatten into [B, S, D]\n",
    "        self.Transformer = Transformer(n_layers, dim, n_heads, ff_dim)\n",
    "        \n",
    "        # if this doenst work then do it manually\n",
    "        self.norm = nn.LayerNorm(dim, eps=1e-6)\n",
    "        self.head = nn.Linear(dim, num_classes)\n",
    "        \n",
    "        # fine tune layer\n",
    "        self.finetune = nn.Linear(num_classes, 6)\n",
    "        \n",
    "    def forward(self, x):\n",
    "        b = x.shape[0] # batch size\n",
    "        x = self.patch_encoding(x) # [b, 768, 14, 14] out of the conv layer\n",
    "        # import pdb; pdb.set_trace()\n",
    "        x = x.flatten(2).transpose(1, 2) # [1, 768, 196] -> [1, 196, 768]\n",
    "        cls_token = self.cls_token.expand(b, -1, -1) # expand to batch size\n",
    "        x = torch.cat([cls_token, x], axis=1)\n",
    "        \n",
    "        x = self.positional_embedding(x) \n",
    "        x = self.Transformer(x)\n",
    "        x = self.norm(x)\n",
    "        '''\n",
    "        this step is extremely fuckign sus bro... like why just drop the entire sequence????\n",
    "        '''\n",
    "        x = x[:, 0] # use cls token for MLP head\n",
    "        x = self.head(x)\n",
    "        x = self.finetune(x)\n",
    "        return x"
   ]
  },
  {
   "cell_type": "code",
   "execution_count": 9,
   "id": "64fe747f-dcc7-45ed-b95c-b62ebaa8b437",
   "metadata": {},
   "outputs": [],
   "source": [
    "#hyperparameters\n",
    "fw = fh = 16\n",
    "dim = 768\n",
    "ff_dim = 3072\n",
    "n_heads = 12\n",
    "n_layers = 12\n",
    "in_channels = 3\n",
    "num_classes = 1000"
   ]
  },
  {
   "cell_type": "code",
   "execution_count": 10,
   "id": "439d23fb-45ac-41a4-80d5-b8a5ec397edc",
   "metadata": {},
   "outputs": [],
   "source": [
    "model = ViT(in_channels, dim, fh, fw, n_layers, n_heads, ff_dim, num_classes)"
   ]
  },
  {
   "cell_type": "code",
   "execution_count": 11,
   "id": "cc6bbcd6-47f1-4f19-8d6d-275d1d57652e",
   "metadata": {},
   "outputs": [],
   "source": [
    "x = torch.load(\"b16.pth\")"
   ]
  },
  {
   "cell_type": "code",
   "execution_count": 12,
   "id": "c5d70adf-9ff0-4130-8ee3-b046dfa405ce",
   "metadata": {},
   "outputs": [],
   "source": [
    "from collections import OrderedDict"
   ]
  },
  {
   "cell_type": "code",
   "execution_count": 13,
   "id": "e9cbf7da-1d61-4a22-92c1-c188b97bc226",
   "metadata": {},
   "outputs": [],
   "source": [
    "d = OrderedDict()"
   ]
  },
  {
   "cell_type": "code",
   "execution_count": 14,
   "id": "c8a69169-0040-4793-a55a-22ebc52560e8",
   "metadata": {},
   "outputs": [],
   "source": [
    "for i, j in x.items():\n",
    "    if i[:7] == \"blocks.\":\n",
    "        newkey = \"Transformer.\" + i\n",
    "        d[newkey] = j\n",
    "    else:\n",
    "        d[i] = j"
   ]
  },
  {
   "cell_type": "code",
   "execution_count": 15,
   "id": "93695eb0-d8dd-480c-b9ff-4f61afd85177",
   "metadata": {},
   "outputs": [],
   "source": [
    "dd = OrderedDict()"
   ]
  },
  {
   "cell_type": "code",
   "execution_count": 16,
   "id": "d5f66190-94eb-47b6-95fd-034853203114",
   "metadata": {},
   "outputs": [],
   "source": [
    "for i, j in d.items():\n",
    "    if i[21:31] != 'mlp_tokens':\n",
    "        dd[i] = j"
   ]
  },
  {
   "cell_type": "code",
   "execution_count": 17,
   "id": "5ddcfabe-ad51-4691-b7ab-ff67d4effb49",
   "metadata": {},
   "outputs": [],
   "source": [
    "ddd = OrderedDict()"
   ]
  },
  {
   "cell_type": "code",
   "execution_count": 18,
   "id": "d22f87f7-4aa4-44c9-9183-c86310bed22b",
   "metadata": {},
   "outputs": [],
   "source": [
    "for i, j in dd.items():\n",
    "    if i[22:32] != 'mlp_tokens':\n",
    "        ddd[i] = j"
   ]
  },
  {
   "cell_type": "code",
   "execution_count": 19,
   "id": "89f2c164-9db4-440e-8afc-5384797a1a1d",
   "metadata": {},
   "outputs": [
    {
     "data": {
      "text/plain": [
       "_IncompatibleKeys(missing_keys=['cls_token', 'patch_encoding.weight', 'patch_encoding.bias', 'positional_embedding.pos_embedding', 'Transformer.blocks.0.MHSA.q_project.weight', 'Transformer.blocks.0.MHSA.q_project.bias', 'Transformer.blocks.0.MHSA.k_project.weight', 'Transformer.blocks.0.MHSA.k_project.bias', 'Transformer.blocks.0.MHSA.v_project.weight', 'Transformer.blocks.0.MHSA.v_project.bias', 'Transformer.blocks.0.MHSA.out_project.weight', 'Transformer.blocks.0.MHSA.out_project.bias', 'Transformer.blocks.1.MHSA.q_project.weight', 'Transformer.blocks.1.MHSA.q_project.bias', 'Transformer.blocks.1.MHSA.k_project.weight', 'Transformer.blocks.1.MHSA.k_project.bias', 'Transformer.blocks.1.MHSA.v_project.weight', 'Transformer.blocks.1.MHSA.v_project.bias', 'Transformer.blocks.1.MHSA.out_project.weight', 'Transformer.blocks.1.MHSA.out_project.bias', 'Transformer.blocks.2.MHSA.q_project.weight', 'Transformer.blocks.2.MHSA.q_project.bias', 'Transformer.blocks.2.MHSA.k_project.weight', 'Transformer.blocks.2.MHSA.k_project.bias', 'Transformer.blocks.2.MHSA.v_project.weight', 'Transformer.blocks.2.MHSA.v_project.bias', 'Transformer.blocks.2.MHSA.out_project.weight', 'Transformer.blocks.2.MHSA.out_project.bias', 'Transformer.blocks.3.MHSA.q_project.weight', 'Transformer.blocks.3.MHSA.q_project.bias', 'Transformer.blocks.3.MHSA.k_project.weight', 'Transformer.blocks.3.MHSA.k_project.bias', 'Transformer.blocks.3.MHSA.v_project.weight', 'Transformer.blocks.3.MHSA.v_project.bias', 'Transformer.blocks.3.MHSA.out_project.weight', 'Transformer.blocks.3.MHSA.out_project.bias', 'Transformer.blocks.4.MHSA.q_project.weight', 'Transformer.blocks.4.MHSA.q_project.bias', 'Transformer.blocks.4.MHSA.k_project.weight', 'Transformer.blocks.4.MHSA.k_project.bias', 'Transformer.blocks.4.MHSA.v_project.weight', 'Transformer.blocks.4.MHSA.v_project.bias', 'Transformer.blocks.4.MHSA.out_project.weight', 'Transformer.blocks.4.MHSA.out_project.bias', 'Transformer.blocks.5.MHSA.q_project.weight', 'Transformer.blocks.5.MHSA.q_project.bias', 'Transformer.blocks.5.MHSA.k_project.weight', 'Transformer.blocks.5.MHSA.k_project.bias', 'Transformer.blocks.5.MHSA.v_project.weight', 'Transformer.blocks.5.MHSA.v_project.bias', 'Transformer.blocks.5.MHSA.out_project.weight', 'Transformer.blocks.5.MHSA.out_project.bias', 'Transformer.blocks.6.MHSA.q_project.weight', 'Transformer.blocks.6.MHSA.q_project.bias', 'Transformer.blocks.6.MHSA.k_project.weight', 'Transformer.blocks.6.MHSA.k_project.bias', 'Transformer.blocks.6.MHSA.v_project.weight', 'Transformer.blocks.6.MHSA.v_project.bias', 'Transformer.blocks.6.MHSA.out_project.weight', 'Transformer.blocks.6.MHSA.out_project.bias', 'Transformer.blocks.7.MHSA.q_project.weight', 'Transformer.blocks.7.MHSA.q_project.bias', 'Transformer.blocks.7.MHSA.k_project.weight', 'Transformer.blocks.7.MHSA.k_project.bias', 'Transformer.blocks.7.MHSA.v_project.weight', 'Transformer.blocks.7.MHSA.v_project.bias', 'Transformer.blocks.7.MHSA.out_project.weight', 'Transformer.blocks.7.MHSA.out_project.bias', 'Transformer.blocks.8.MHSA.q_project.weight', 'Transformer.blocks.8.MHSA.q_project.bias', 'Transformer.blocks.8.MHSA.k_project.weight', 'Transformer.blocks.8.MHSA.k_project.bias', 'Transformer.blocks.8.MHSA.v_project.weight', 'Transformer.blocks.8.MHSA.v_project.bias', 'Transformer.blocks.8.MHSA.out_project.weight', 'Transformer.blocks.8.MHSA.out_project.bias', 'Transformer.blocks.9.MHSA.q_project.weight', 'Transformer.blocks.9.MHSA.q_project.bias', 'Transformer.blocks.9.MHSA.k_project.weight', 'Transformer.blocks.9.MHSA.k_project.bias', 'Transformer.blocks.9.MHSA.v_project.weight', 'Transformer.blocks.9.MHSA.v_project.bias', 'Transformer.blocks.9.MHSA.out_project.weight', 'Transformer.blocks.9.MHSA.out_project.bias', 'Transformer.blocks.10.MHSA.q_project.weight', 'Transformer.blocks.10.MHSA.q_project.bias', 'Transformer.blocks.10.MHSA.k_project.weight', 'Transformer.blocks.10.MHSA.k_project.bias', 'Transformer.blocks.10.MHSA.v_project.weight', 'Transformer.blocks.10.MHSA.v_project.bias', 'Transformer.blocks.10.MHSA.out_project.weight', 'Transformer.blocks.10.MHSA.out_project.bias', 'Transformer.blocks.11.MHSA.q_project.weight', 'Transformer.blocks.11.MHSA.q_project.bias', 'Transformer.blocks.11.MHSA.k_project.weight', 'Transformer.blocks.11.MHSA.k_project.bias', 'Transformer.blocks.11.MHSA.v_project.weight', 'Transformer.blocks.11.MHSA.v_project.bias', 'Transformer.blocks.11.MHSA.out_project.weight', 'Transformer.blocks.11.MHSA.out_project.bias', 'finetune.weight', 'finetune.bias'], unexpected_keys=['stem.proj.bias', 'stem.proj.weight'])"
      ]
     },
     "execution_count": 19,
     "metadata": {},
     "output_type": "execute_result"
    }
   ],
   "source": [
    "# fuck the rest of these weights\n",
    "model.load_state_dict(ddd, strict=False)"
   ]
  },
  {
   "cell_type": "markdown",
   "id": "242b9dc1-b94e-48b6-83c5-061ce9312575",
   "metadata": {},
   "source": [
    "# load dataset and train"
   ]
  },
  {
   "cell_type": "code",
   "execution_count": 20,
   "id": "91cb1a2e-eefe-4748-861b-840274ddf8b4",
   "metadata": {},
   "outputs": [],
   "source": [
    "import torch\n",
    "import torch.nn as nn\n",
    "import torch.nn.functional as F\n",
    "import pandas as pd\n",
    "import numpy as np\n",
    "import sys\n",
    "import torchvision\n",
    "import torchvision.transforms as T\n",
    "from PIL import Image\n",
    "from tqdm import tqdm\n",
    "import os\n",
    "import cv2\n",
    "from torch.utils.data import Dataset\n",
    "from torchvision import datasets\n",
    "from torchvision.transforms import ToTensor\n",
    "from sklearn.utils import shuffle"
   ]
  },
  {
   "cell_type": "code",
   "execution_count": 21,
   "id": "526f6250-c99d-4ddc-9e74-75f35996a493",
   "metadata": {},
   "outputs": [],
   "source": [
    "labels = ['street', 'sea', 'mountain', 'glacier', 'forest', 'buildings']"
   ]
  },
  {
   "cell_type": "code",
   "execution_count": 22,
   "id": "298a3e11-ceaa-41a1-8bbe-43d9592dc043",
   "metadata": {},
   "outputs": [],
   "source": [
    "image_size = (224, 224)"
   ]
  },
  {
   "cell_type": "markdown",
   "id": "b2dea956-c7aa-4348-883b-a10509739f6a",
   "metadata": {},
   "source": [
    "# bro i cant even blame the vit model this get data function is just fucked LOL"
   ]
  },
  {
   "cell_type": "markdown",
   "id": "2e7eb06f-706a-4e51-a58f-349dca4d8732",
   "metadata": {},
   "source": [
    "### need to resize to 224 x 224 and shape (3, 224, 224)"
   ]
  },
  {
   "cell_type": "code",
   "execution_count": 23,
   "id": "ef8c9271-e2ce-45dc-bf94-45b926455c3d",
   "metadata": {},
   "outputs": [],
   "source": [
    "def get_images(directory):\n",
    "    Images = []\n",
    "    Labels = []  # 0 for Building , 1 for forest, 2 for glacier, 3 for mountain, 4 for Sea , 5 for Street\n",
    "    label = 0\n",
    "    \n",
    "    for labels in os.listdir(directory): #Main Directory where each class label is present as folder name.\n",
    "        if labels == 'glacier': #Folder contain Glacier Images get the '2' class label.\n",
    "            label = 2\n",
    "        elif labels == 'sea':\n",
    "            label = 4\n",
    "        elif labels == 'buildings':\n",
    "            label = 0\n",
    "        elif labels == 'forest':\n",
    "            label = 1\n",
    "        elif labels == 'street':\n",
    "            label = 5\n",
    "        elif labels == 'mountain':\n",
    "            label = 3\n",
    "        \n",
    "        for image_file in os.listdir(directory+labels): #Extracting the file name of the image from Class Label folder\n",
    "            image = cv2.imread(directory+labels+r'/'+image_file) #Reading the image (OpenCV)\n",
    "            image = cv2.resize(image, (224, 224)) #Resize the image, Some images are different sizes. (Resizing is very Important)\n",
    "            image = image.reshape(3, 224, 224) # RESHAPE TO CHANNEL FIRST\n",
    "            image = image / 255 # NORMALIZE\n",
    "            Images.append(image)\n",
    "            Labels.append(label)\n",
    "    \n",
    "    return shuffle(Images,Labels,random_state=817328462) #Shuffle the dataset you just prepared.\n",
    "\n",
    "def get_classlabel(class_code):\n",
    "    labels = {2:'glacier', 4:'sea', 0:'buildings', 1:'forest', 5:'street', 3:'mountain'}\n",
    "    \n",
    "    return labels[class_code]"
   ]
  },
  {
   "cell_type": "code",
   "execution_count": 24,
   "id": "8f4bf4f3-8fb3-41e0-a0b7-b82258bfb9c2",
   "metadata": {},
   "outputs": [],
   "source": [
    "images, labels = get_images('D:/Data/intel/seg_train/')"
   ]
  },
  {
   "cell_type": "code",
   "execution_count": 25,
   "id": "61719381-2bd2-4351-a5cf-6511c9d132dd",
   "metadata": {},
   "outputs": [
    {
     "data": {
      "text/plain": [
       "<matplotlib.image.AxesImage at 0x202fc93b400>"
      ]
     },
     "execution_count": 25,
     "metadata": {},
     "output_type": "execute_result"
    },
    {
     "data": {
      "image/png": "[encoded data removed]",
      "text/plain": [
       "<Figure size 432x288 with 1 Axes>"
      ]
     },
     "metadata": {
      "needs_background": "light"
     },
     "output_type": "display_data"
    }
   ],
   "source": [
    "plt.imshow(images[9000].reshape(224, 224, 3))"
   ]
  },
  {
   "cell_type": "code",
   "execution_count": 26,
   "id": "7a20230d-40b7-4f3c-a08a-e2917583f861",
   "metadata": {},
   "outputs": [],
   "source": [
    "class TorchData(torch.utils.data.Dataset):\n",
    "    def __init__(self, data, labels):\n",
    "        super().__init__()\n",
    "        self.data = data\n",
    "        self.labels = labels\n",
    "        \n",
    "    def __len__(self):\n",
    "        return len(self.labels)\n",
    "    \n",
    "    def __getitem__(self, idx):\n",
    "        return self.data[idx], self.labels[idx]"
   ]
  },
  {
   "cell_type": "code",
   "execution_count": 27,
   "id": "673f1f13-5dcf-45d7-951c-634ffd1709d4",
   "metadata": {},
   "outputs": [],
   "source": [
    "dataset = TorchData(images, labels)"
   ]
  },
  {
   "cell_type": "code",
   "execution_count": 28,
   "id": "cce0a94d-02c3-48f9-9347-85aeeaa51619",
   "metadata": {},
   "outputs": [],
   "source": [
    "train, val = torch.utils.data.random_split(dataset, [11226, 2808])"
   ]
  },
  {
   "cell_type": "markdown",
   "id": "1d6cc583-8f90-4079-9366-ec266a9fe7cc",
   "metadata": {},
   "source": [
    "## nn.CrossEntropyLoss doesnt take one hot"
   ]
  },
  {
   "cell_type": "code",
   "execution_count": 29,
   "id": "3c5e688b-f19e-414d-a00f-66abd4300b70",
   "metadata": {},
   "outputs": [],
   "source": [
    "trainloader = torch.utils.data.DataLoader(train, shuffle=True, batch_size=8)\n",
    "valloader = torch.utils.data.DataLoader(val, shuffle=True, batch_size=8)"
   ]
  },
  {
   "cell_type": "code",
   "execution_count": 30,
   "id": "01551412-f47e-4139-9c63-75776fe1bd11",
   "metadata": {},
   "outputs": [],
   "source": [
    "device = torch.device('cuda')\n",
    "import torch.optim as optim"
   ]
  },
  {
   "cell_type": "code",
   "execution_count": 31,
   "id": "512fb45d-cb3b-4703-b40b-db482024d523",
   "metadata": {},
   "outputs": [],
   "source": [
    "model = model.to(device)\n",
    "optimizer = optim.Adam(model.parameters(), lr=1e-3)"
   ]
  },
  {
   "cell_type": "code",
   "execution_count": 32,
   "id": "6a0ab46f-1e58-4bef-b2ba-47b19b1a4c12",
   "metadata": {},
   "outputs": [],
   "source": [
    "# has softmax in it\n",
    "loss = nn.CrossEntropyLoss()"
   ]
  },
  {
   "cell_type": "code",
   "execution_count": 33,
   "id": "edc7698e-3f6c-4376-85ff-71b6619599c1",
   "metadata": {},
   "outputs": [
    {
     "data": {
      "text/plain": [
       "ViT(\n",
       "  (patch_encoding): Conv2d(3, 768, kernel_size=(16, 16), stride=(16, 16))\n",
       "  (positional_embedding): PositionalEmbedding1D()\n",
       "  (Transformer): Transformer(\n",
       "    (blocks): ModuleList(\n",
       "      (0): Block(\n",
       "        (norm1): LayerNorm((768,), eps=1e-06, elementwise_affine=True)\n",
       "        (MHSA): MHSA(\n",
       "          (q_project): Linear(in_features=768, out_features=768, bias=True)\n",
       "          (k_project): Linear(in_features=768, out_features=768, bias=True)\n",
       "          (v_project): Linear(in_features=768, out_features=768, bias=True)\n",
       "          (out_project): Linear(in_features=768, out_features=768, bias=True)\n",
       "          (dropout): Dropout(p=0.1, inplace=False)\n",
       "        )\n",
       "        (norm2): LayerNorm((768,), eps=1e-06, elementwise_affine=True)\n",
       "        (mlp_channels): MLP(\n",
       "          (fc1): Linear(in_features=768, out_features=3072, bias=True)\n",
       "          (fc2): Linear(in_features=3072, out_features=768, bias=True)\n",
       "        )\n",
       "        (dropout): Dropout(p=0.1, inplace=False)\n",
       "      )\n",
       "      (1): Block(\n",
       "        (norm1): LayerNorm((768,), eps=1e-06, elementwise_affine=True)\n",
       "        (MHSA): MHSA(\n",
       "          (q_project): Linear(in_features=768, out_features=768, bias=True)\n",
       "          (k_project): Linear(in_features=768, out_features=768, bias=True)\n",
       "          (v_project): Linear(in_features=768, out_features=768, bias=True)\n",
       "          (out_project): Linear(in_features=768, out_features=768, bias=True)\n",
       "          (dropout): Dropout(p=0.1, inplace=False)\n",
       "        )\n",
       "        (norm2): LayerNorm((768,), eps=1e-06, elementwise_affine=True)\n",
       "        (mlp_channels): MLP(\n",
       "          (fc1): Linear(in_features=768, out_features=3072, bias=True)\n",
       "          (fc2): Linear(in_features=3072, out_features=768, bias=True)\n",
       "        )\n",
       "        (dropout): Dropout(p=0.1, inplace=False)\n",
       "      )\n",
       "      (2): Block(\n",
       "        (norm1): LayerNorm((768,), eps=1e-06, elementwise_affine=True)\n",
       "        (MHSA): MHSA(\n",
       "          (q_project): Linear(in_features=768, out_features=768, bias=True)\n",
       "          (k_project): Linear(in_features=768, out_features=768, bias=True)\n",
       "          (v_project): Linear(in_features=768, out_features=768, bias=True)\n",
       "          (out_project): Linear(in_features=768, out_features=768, bias=True)\n",
       "          (dropout): Dropout(p=0.1, inplace=False)\n",
       "        )\n",
       "        (norm2): LayerNorm((768,), eps=1e-06, elementwise_affine=True)\n",
       "        (mlp_channels): MLP(\n",
       "          (fc1): Linear(in_features=768, out_features=3072, bias=True)\n",
       "          (fc2): Linear(in_features=3072, out_features=768, bias=True)\n",
       "        )\n",
       "        (dropout): Dropout(p=0.1, inplace=False)\n",
       "      )\n",
       "      (3): Block(\n",
       "        (norm1): LayerNorm((768,), eps=1e-06, elementwise_affine=True)\n",
       "        (MHSA): MHSA(\n",
       "          (q_project): Linear(in_features=768, out_features=768, bias=True)\n",
       "          (k_project): Linear(in_features=768, out_features=768, bias=True)\n",
       "          (v_project): Linear(in_features=768, out_features=768, bias=True)\n",
       "          (out_project): Linear(in_features=768, out_features=768, bias=True)\n",
       "          (dropout): Dropout(p=0.1, inplace=False)\n",
       "        )\n",
       "        (norm2): LayerNorm((768,), eps=1e-06, elementwise_affine=True)\n",
       "        (mlp_channels): MLP(\n",
       "          (fc1): Linear(in_features=768, out_features=3072, bias=True)\n",
       "          (fc2): Linear(in_features=3072, out_features=768, bias=True)\n",
       "        )\n",
       "        (dropout): Dropout(p=0.1, inplace=False)\n",
       "      )\n",
       "      (4): Block(\n",
       "        (norm1): LayerNorm((768,), eps=1e-06, elementwise_affine=True)\n",
       "        (MHSA): MHSA(\n",
       "          (q_project): Linear(in_features=768, out_features=768, bias=True)\n",
       "          (k_project): Linear(in_features=768, out_features=768, bias=True)\n",
       "          (v_project): Linear(in_features=768, out_features=768, bias=True)\n",
       "          (out_project): Linear(in_features=768, out_features=768, bias=True)\n",
       "          (dropout): Dropout(p=0.1, inplace=False)\n",
       "        )\n",
       "        (norm2): LayerNorm((768,), eps=1e-06, elementwise_affine=True)\n",
       "        (mlp_channels): MLP(\n",
       "          (fc1): Linear(in_features=768, out_features=3072, bias=True)\n",
       "          (fc2): Linear(in_features=3072, out_features=768, bias=True)\n",
       "        )\n",
       "        (dropout): Dropout(p=0.1, inplace=False)\n",
       "      )\n",
       "      (5): Block(\n",
       "        (norm1): LayerNorm((768,), eps=1e-06, elementwise_affine=True)\n",
       "        (MHSA): MHSA(\n",
       "          (q_project): Linear(in_features=768, out_features=768, bias=True)\n",
       "          (k_project): Linear(in_features=768, out_features=768, bias=True)\n",
       "          (v_project): Linear(in_features=768, out_features=768, bias=True)\n",
       "          (out_project): Linear(in_features=768, out_features=768, bias=True)\n",
       "          (dropout): Dropout(p=0.1, inplace=False)\n",
       "        )\n",
       "        (norm2): LayerNorm((768,), eps=1e-06, elementwise_affine=True)\n",
       "        (mlp_channels): MLP(\n",
       "          (fc1): Linear(in_features=768, out_features=3072, bias=True)\n",
       "          (fc2): Linear(in_features=3072, out_features=768, bias=True)\n",
       "        )\n",
       "        (dropout): Dropout(p=0.1, inplace=False)\n",
       "      )\n",
       "      (6): Block(\n",
       "        (norm1): LayerNorm((768,), eps=1e-06, elementwise_affine=True)\n",
       "        (MHSA): MHSA(\n",
       "          (q_project): Linear(in_features=768, out_features=768, bias=True)\n",
       "          (k_project): Linear(in_features=768, out_features=768, bias=True)\n",
       "          (v_project): Linear(in_features=768, out_features=768, bias=True)\n",
       "          (out_project): Linear(in_features=768, out_features=768, bias=True)\n",
       "          (dropout): Dropout(p=0.1, inplace=False)\n",
       "        )\n",
       "        (norm2): LayerNorm((768,), eps=1e-06, elementwise_affine=True)\n",
       "        (mlp_channels): MLP(\n",
       "          (fc1): Linear(in_features=768, out_features=3072, bias=True)\n",
       "          (fc2): Linear(in_features=3072, out_features=768, bias=True)\n",
       "        )\n",
       "        (dropout): Dropout(p=0.1, inplace=False)\n",
       "      )\n",
       "      (7): Block(\n",
       "        (norm1): LayerNorm((768,), eps=1e-06, elementwise_affine=True)\n",
       "        (MHSA): MHSA(\n",
       "          (q_project): Linear(in_features=768, out_features=768, bias=True)\n",
       "          (k_project): Linear(in_features=768, out_features=768, bias=True)\n",
       "          (v_project): Linear(in_features=768, out_features=768, bias=True)\n",
       "          (out_project): Linear(in_features=768, out_features=768, bias=True)\n",
       "          (dropout): Dropout(p=0.1, inplace=False)\n",
       "        )\n",
       "        (norm2): LayerNorm((768,), eps=1e-06, elementwise_affine=True)\n",
       "        (mlp_channels): MLP(\n",
       "          (fc1): Linear(in_features=768, out_features=3072, bias=True)\n",
       "          (fc2): Linear(in_features=3072, out_features=768, bias=True)\n",
       "        )\n",
       "        (dropout): Dropout(p=0.1, inplace=False)\n",
       "      )\n",
       "      (8): Block(\n",
       "        (norm1): LayerNorm((768,), eps=1e-06, elementwise_affine=True)\n",
       "        (MHSA): MHSA(\n",
       "          (q_project): Linear(in_features=768, out_features=768, bias=True)\n",
       "          (k_project): Linear(in_features=768, out_features=768, bias=True)\n",
       "          (v_project): Linear(in_features=768, out_features=768, bias=True)\n",
       "          (out_project): Linear(in_features=768, out_features=768, bias=True)\n",
       "          (dropout): Dropout(p=0.1, inplace=False)\n",
       "        )\n",
       "        (norm2): LayerNorm((768,), eps=1e-06, elementwise_affine=True)\n",
       "        (mlp_channels): MLP(\n",
       "          (fc1): Linear(in_features=768, out_features=3072, bias=True)\n",
       "          (fc2): Linear(in_features=3072, out_features=768, bias=True)\n",
       "        )\n",
       "        (dropout): Dropout(p=0.1, inplace=False)\n",
       "      )\n",
       "      (9): Block(\n",
       "        (norm1): LayerNorm((768,), eps=1e-06, elementwise_affine=True)\n",
       "        (MHSA): MHSA(\n",
       "          (q_project): Linear(in_features=768, out_features=768, bias=True)\n",
       "          (k_project): Linear(in_features=768, out_features=768, bias=True)\n",
       "          (v_project): Linear(in_features=768, out_features=768, bias=True)\n",
       "          (out_project): Linear(in_features=768, out_features=768, bias=True)\n",
       "          (dropout): Dropout(p=0.1, inplace=False)\n",
       "        )\n",
       "        (norm2): LayerNorm((768,), eps=1e-06, elementwise_affine=True)\n",
       "        (mlp_channels): MLP(\n",
       "          (fc1): Linear(in_features=768, out_features=3072, bias=True)\n",
       "          (fc2): Linear(in_features=3072, out_features=768, bias=True)\n",
       "        )\n",
       "        (dropout): Dropout(p=0.1, inplace=False)\n",
       "      )\n",
       "      (10): Block(\n",
       "        (norm1): LayerNorm((768,), eps=1e-06, elementwise_affine=True)\n",
       "        (MHSA): MHSA(\n",
       "          (q_project): Linear(in_features=768, out_features=768, bias=True)\n",
       "          (k_project): Linear(in_features=768, out_features=768, bias=True)\n",
       "          (v_project): Linear(in_features=768, out_features=768, bias=True)\n",
       "          (out_project): Linear(in_features=768, out_features=768, bias=True)\n",
       "          (dropout): Dropout(p=0.1, inplace=False)\n",
       "        )\n",
       "        (norm2): LayerNorm((768,), eps=1e-06, elementwise_affine=True)\n",
       "        (mlp_channels): MLP(\n",
       "          (fc1): Linear(in_features=768, out_features=3072, bias=True)\n",
       "          (fc2): Linear(in_features=3072, out_features=768, bias=True)\n",
       "        )\n",
       "        (dropout): Dropout(p=0.1, inplace=False)\n",
       "      )\n",
       "      (11): Block(\n",
       "        (norm1): LayerNorm((768,), eps=1e-06, elementwise_affine=True)\n",
       "        (MHSA): MHSA(\n",
       "          (q_project): Linear(in_features=768, out_features=768, bias=True)\n",
       "          (k_project): Linear(in_features=768, out_features=768, bias=True)\n",
       "          (v_project): Linear(in_features=768, out_features=768, bias=True)\n",
       "          (out_project): Linear(in_features=768, out_features=768, bias=True)\n",
       "          (dropout): Dropout(p=0.1, inplace=False)\n",
       "        )\n",
       "        (norm2): LayerNorm((768,), eps=1e-06, elementwise_affine=True)\n",
       "        (mlp_channels): MLP(\n",
       "          (fc1): Linear(in_features=768, out_features=3072, bias=True)\n",
       "          (fc2): Linear(in_features=3072, out_features=768, bias=True)\n",
       "        )\n",
       "        (dropout): Dropout(p=0.1, inplace=False)\n",
       "      )\n",
       "    )\n",
       "  )\n",
       "  (norm): LayerNorm((768,), eps=1e-06, elementwise_affine=True)\n",
       "  (head): Linear(in_features=768, out_features=1000, bias=True)\n",
       "  (finetune): Linear(in_features=1000, out_features=6, bias=True)\n",
       ")"
      ]
     },
     "execution_count": 33,
     "metadata": {},
     "output_type": "execute_result"
    }
   ],
   "source": [
    "model.train()"
   ]
  },
  {
   "cell_type": "code",
   "execution_count": 34,
   "id": "ed3f1c84-c26c-4e0e-9c82-78a0ba78dbc9",
   "metadata": {},
   "outputs": [],
   "source": [
    "# this thing is probably gonna overfit but full send i sleep and check reuslts in morning"
   ]
  },
  {
   "cell_type": "code",
   "execution_count": 35,
   "id": "3f013f67-6ee9-4c0a-af6c-49870c5b6d99",
   "metadata": {},
   "outputs": [],
   "source": [
    "training_losses = []\n",
    "val_losses = []\n",
    "avg_training_losses = []\n",
    "avg_val_losses = []"
   ]
  },
  {
   "cell_type": "code",
   "execution_count": 36,
   "id": "59581a8a-5c51-4125-857a-9896233e76c0",
   "metadata": {
    "scrolled": true,
    "tags": []
   },
   "outputs": [
    {
     "name": "stderr",
     "output_type": "stream",
     "text": [
      " 10%|████████▏                                                                         | 1/10 [04:39<41:55, 279.48s/it]"
     ]
    },
    {
     "name": "stdout",
     "output_type": "stream",
     "text": [
      " *** Training Loss: 1.6134259700775146, Validation Loss: 1.385842204093933 *** \n"
     ]
    },
    {
     "name": "stderr",
     "output_type": "stream",
     "text": [
      " 20%|████████████████▍                                                                 | 2/10 [09:08<36:25, 273.24s/it]"
     ]
    },
    {
     "name": "stdout",
     "output_type": "stream",
     "text": [
      " *** Training Loss: 1.4958800077438354, Validation Loss: 1.423689842224121 *** \n"
     ]
    },
    {
     "name": "stderr",
     "output_type": "stream",
     "text": [
      " 30%|████████████████████████▌                                                         | 3/10 [13:37<31:39, 271.31s/it]"
     ]
    },
    {
     "name": "stdout",
     "output_type": "stream",
     "text": [
      " *** Training Loss: 1.4369295835494995, Validation Loss: 1.3738332986831665 *** \n"
     ]
    },
    {
     "name": "stderr",
     "output_type": "stream",
     "text": [
      " 40%|████████████████████████████████▊                                                 | 4/10 [17:59<26:46, 267.71s/it]"
     ]
    },
    {
     "name": "stdout",
     "output_type": "stream",
     "text": [
      " *** Training Loss: 1.3863749504089355, Validation Loss: 1.3398000001907349 *** \n"
     ]
    },
    {
     "name": "stderr",
     "output_type": "stream",
     "text": [
      " 50%|█████████████████████████████████████████                                         | 5/10 [22:27<22:18, 267.79s/it]"
     ]
    },
    {
     "name": "stdout",
     "output_type": "stream",
     "text": [
      " *** Training Loss: 1.3647183179855347, Validation Loss: 1.3432931900024414 *** \n"
     ]
    },
    {
     "name": "stderr",
     "output_type": "stream",
     "text": [
      " 60%|█████████████████████████████████████████████████▏                                | 6/10 [26:49<17:43, 265.96s/it]"
     ]
    },
    {
     "name": "stdout",
     "output_type": "stream",
     "text": [
      " *** Training Loss: 1.3680291175842285, Validation Loss: 1.3404983282089233 *** \n"
     ]
    },
    {
     "name": "stderr",
     "output_type": "stream",
     "text": [
      " 70%|█████████████████████████████████████████████████████████▍                        | 7/10 [31:17<13:19, 266.36s/it]"
     ]
    },
    {
     "name": "stdout",
     "output_type": "stream",
     "text": [
      " *** Training Loss: 1.3786120414733887, Validation Loss: 1.370476245880127 *** \n"
     ]
    },
    {
     "name": "stderr",
     "output_type": "stream",
     "text": [
      " 80%|█████████████████████████████████████████████████████████████████▌                | 8/10 [35:44<08:53, 266.67s/it]"
     ]
    },
    {
     "name": "stdout",
     "output_type": "stream",
     "text": [
      " *** Training Loss: 1.4011187553405762, Validation Loss: 1.4095040559768677 *** \n"
     ]
    },
    {
     "name": "stderr",
     "output_type": "stream",
     "text": [
      " 90%|█████████████████████████████████████████████████████████████████████████▊        | 9/10 [40:15<04:27, 267.98s/it]"
     ]
    },
    {
     "name": "stdout",
     "output_type": "stream",
     "text": [
      " *** Training Loss: 1.409366250038147, Validation Loss: 1.3987984657287598 *** \n"
     ]
    },
    {
     "name": "stderr",
     "output_type": "stream",
     "text": [
      "100%|█████████████████████████████████████████████████████████████████████████████████| 10/10 [44:46<00:00, 268.65s/it]"
     ]
    },
    {
     "name": "stdout",
     "output_type": "stream",
     "text": [
      " *** Training Loss: 1.4081377983093262, Validation Loss: 1.40605890750885 *** \n"
     ]
    },
    {
     "name": "stderr",
     "output_type": "stream",
     "text": [
      "\n"
     ]
    }
   ],
   "source": [
    "losses = []\n",
    "for e in tqdm(range(10)):\n",
    "    for x, y in trainloader:\n",
    "        torch.cuda.empty_cache()\n",
    "        x, y = x.to(device), y.to(device)\n",
    "        x = x.float()\n",
    "        \n",
    "        # train step\n",
    "        optimizer.zero_grad()\n",
    "        y_pred = model(x)\n",
    "        l = loss(y_pred, y)\n",
    "        t_l = l.detach().cpu().numpy()\n",
    "        l.backward()\n",
    "        optimizer.step()\n",
    "        \n",
    "        training_losses.append(t_l)\n",
    "    \n",
    "    # with torch.no_grad() but this doesnt really make that big of a difference\n",
    "    for i, j in valloader:\n",
    "        # no optim zero grad, step, l.backward\n",
    "        i, j = i.to(device), j.to(device)\n",
    "        i = i.float()\n",
    "        \n",
    "        y_pred = model(i)\n",
    "        ll = loss(y_pred, j)\n",
    "        v_l = ll.detach().cpu().numpy()\n",
    "        \n",
    "        val_losses.append(v_l)\n",
    "        \n",
    "    avg_training_losses.append(np.mean(training_losses))\n",
    "    avg_val_losses.append(np.mean(val_losses))\n",
    "        \n",
    "    print(f' *** Training Loss: {np.mean(training_losses)}, Validation Loss: {np.mean(val_losses)} *** ')"
   ]
  },
  {
   "cell_type": "markdown",
   "id": "02d50e8e-8a05-4b92-8755-aa147ec12460",
   "metadata": {},
   "source": [
    "## maybe training and validation loss have to converge first then they start going down together :O\n",
    "#### PLEASE BE THE CASE IM SO FUCKING DONE WITH THIS\n",
    "#### NAH BRO I SWEAR THEYRE BOTH JUST STUCK AFTER LIKE 3 EPOCHS"
   ]
  },
  {
   "cell_type": "code",
   "execution_count": 37,
   "id": "cffcc2c5-8500-4e5a-b3a4-8919fb7331e0",
   "metadata": {},
   "outputs": [
    {
     "data": {
      "text/plain": [
       "[<matplotlib.lines.Line2D at 0x202fecc62e0>]"
      ]
     },
     "execution_count": 37,
     "metadata": {},
     "output_type": "execute_result"
    },
    {
     "data": {
      "image/png": "[encoded data removed]",
      "text/plain": [
       "<Figure size 432x288 with 1 Axes>"
      ]
     },
     "metadata": {
      "needs_background": "light"
     },
     "output_type": "display_data"
    }
   ],
   "source": [
    "plt.plot(avg_training_losses)\n",
    "plt.plot(avg_val_losses)"
   ]
  },
  {
   "cell_type": "code",
   "execution_count": 38,
   "id": "3ee17ee9-45f0-447a-88ba-8b4836396b2f",
   "metadata": {},
   "outputs": [
    {
     "data": {
      "text/plain": [
       "ViT(\n",
       "  (patch_encoding): Conv2d(3, 768, kernel_size=(16, 16), stride=(16, 16))\n",
       "  (positional_embedding): PositionalEmbedding1D()\n",
       "  (Transformer): Transformer(\n",
       "    (blocks): ModuleList(\n",
       "      (0): Block(\n",
       "        (norm1): LayerNorm((768,), eps=1e-06, elementwise_affine=True)\n",
       "        (MHSA): MHSA(\n",
       "          (q_project): Linear(in_features=768, out_features=768, bias=True)\n",
       "          (k_project): Linear(in_features=768, out_features=768, bias=True)\n",
       "          (v_project): Linear(in_features=768, out_features=768, bias=True)\n",
       "          (out_project): Linear(in_features=768, out_features=768, bias=True)\n",
       "          (dropout): Dropout(p=0.1, inplace=False)\n",
       "        )\n",
       "        (norm2): LayerNorm((768,), eps=1e-06, elementwise_affine=True)\n",
       "        (mlp_channels): MLP(\n",
       "          (fc1): Linear(in_features=768, out_features=3072, bias=True)\n",
       "          (fc2): Linear(in_features=3072, out_features=768, bias=True)\n",
       "        )\n",
       "        (dropout): Dropout(p=0.1, inplace=False)\n",
       "      )\n",
       "      (1): Block(\n",
       "        (norm1): LayerNorm((768,), eps=1e-06, elementwise_affine=True)\n",
       "        (MHSA): MHSA(\n",
       "          (q_project): Linear(in_features=768, out_features=768, bias=True)\n",
       "          (k_project): Linear(in_features=768, out_features=768, bias=True)\n",
       "          (v_project): Linear(in_features=768, out_features=768, bias=True)\n",
       "          (out_project): Linear(in_features=768, out_features=768, bias=True)\n",
       "          (dropout): Dropout(p=0.1, inplace=False)\n",
       "        )\n",
       "        (norm2): LayerNorm((768,), eps=1e-06, elementwise_affine=True)\n",
       "        (mlp_channels): MLP(\n",
       "          (fc1): Linear(in_features=768, out_features=3072, bias=True)\n",
       "          (fc2): Linear(in_features=3072, out_features=768, bias=True)\n",
       "        )\n",
       "        (dropout): Dropout(p=0.1, inplace=False)\n",
       "      )\n",
       "      (2): Block(\n",
       "        (norm1): LayerNorm((768,), eps=1e-06, elementwise_affine=True)\n",
       "        (MHSA): MHSA(\n",
       "          (q_project): Linear(in_features=768, out_features=768, bias=True)\n",
       "          (k_project): Linear(in_features=768, out_features=768, bias=True)\n",
       "          (v_project): Linear(in_features=768, out_features=768, bias=True)\n",
       "          (out_project): Linear(in_features=768, out_features=768, bias=True)\n",
       "          (dropout): Dropout(p=0.1, inplace=False)\n",
       "        )\n",
       "        (norm2): LayerNorm((768,), eps=1e-06, elementwise_affine=True)\n",
       "        (mlp_channels): MLP(\n",
       "          (fc1): Linear(in_features=768, out_features=3072, bias=True)\n",
       "          (fc2): Linear(in_features=3072, out_features=768, bias=True)\n",
       "        )\n",
       "        (dropout): Dropout(p=0.1, inplace=False)\n",
       "      )\n",
       "      (3): Block(\n",
       "        (norm1): LayerNorm((768,), eps=1e-06, elementwise_affine=True)\n",
       "        (MHSA): MHSA(\n",
       "          (q_project): Linear(in_features=768, out_features=768, bias=True)\n",
       "          (k_project): Linear(in_features=768, out_features=768, bias=True)\n",
       "          (v_project): Linear(in_features=768, out_features=768, bias=True)\n",
       "          (out_project): Linear(in_features=768, out_features=768, bias=True)\n",
       "          (dropout): Dropout(p=0.1, inplace=False)\n",
       "        )\n",
       "        (norm2): LayerNorm((768,), eps=1e-06, elementwise_affine=True)\n",
       "        (mlp_channels): MLP(\n",
       "          (fc1): Linear(in_features=768, out_features=3072, bias=True)\n",
       "          (fc2): Linear(in_features=3072, out_features=768, bias=True)\n",
       "        )\n",
       "        (dropout): Dropout(p=0.1, inplace=False)\n",
       "      )\n",
       "      (4): Block(\n",
       "        (norm1): LayerNorm((768,), eps=1e-06, elementwise_affine=True)\n",
       "        (MHSA): MHSA(\n",
       "          (q_project): Linear(in_features=768, out_features=768, bias=True)\n",
       "          (k_project): Linear(in_features=768, out_features=768, bias=True)\n",
       "          (v_project): Linear(in_features=768, out_features=768, bias=True)\n",
       "          (out_project): Linear(in_features=768, out_features=768, bias=True)\n",
       "          (dropout): Dropout(p=0.1, inplace=False)\n",
       "        )\n",
       "        (norm2): LayerNorm((768,), eps=1e-06, elementwise_affine=True)\n",
       "        (mlp_channels): MLP(\n",
       "          (fc1): Linear(in_features=768, out_features=3072, bias=True)\n",
       "          (fc2): Linear(in_features=3072, out_features=768, bias=True)\n",
       "        )\n",
       "        (dropout): Dropout(p=0.1, inplace=False)\n",
       "      )\n",
       "      (5): Block(\n",
       "        (norm1): LayerNorm((768,), eps=1e-06, elementwise_affine=True)\n",
       "        (MHSA): MHSA(\n",
       "          (q_project): Linear(in_features=768, out_features=768, bias=True)\n",
       "          (k_project): Linear(in_features=768, out_features=768, bias=True)\n",
       "          (v_project): Linear(in_features=768, out_features=768, bias=True)\n",
       "          (out_project): Linear(in_features=768, out_features=768, bias=True)\n",
       "          (dropout): Dropout(p=0.1, inplace=False)\n",
       "        )\n",
       "        (norm2): LayerNorm((768,), eps=1e-06, elementwise_affine=True)\n",
       "        (mlp_channels): MLP(\n",
       "          (fc1): Linear(in_features=768, out_features=3072, bias=True)\n",
       "          (fc2): Linear(in_features=3072, out_features=768, bias=True)\n",
       "        )\n",
       "        (dropout): Dropout(p=0.1, inplace=False)\n",
       "      )\n",
       "      (6): Block(\n",
       "        (norm1): LayerNorm((768,), eps=1e-06, elementwise_affine=True)\n",
       "        (MHSA): MHSA(\n",
       "          (q_project): Linear(in_features=768, out_features=768, bias=True)\n",
       "          (k_project): Linear(in_features=768, out_features=768, bias=True)\n",
       "          (v_project): Linear(in_features=768, out_features=768, bias=True)\n",
       "          (out_project): Linear(in_features=768, out_features=768, bias=True)\n",
       "          (dropout): Dropout(p=0.1, inplace=False)\n",
       "        )\n",
       "        (norm2): LayerNorm((768,), eps=1e-06, elementwise_affine=True)\n",
       "        (mlp_channels): MLP(\n",
       "          (fc1): Linear(in_features=768, out_features=3072, bias=True)\n",
       "          (fc2): Linear(in_features=3072, out_features=768, bias=True)\n",
       "        )\n",
       "        (dropout): Dropout(p=0.1, inplace=False)\n",
       "      )\n",
       "      (7): Block(\n",
       "        (norm1): LayerNorm((768,), eps=1e-06, elementwise_affine=True)\n",
       "        (MHSA): MHSA(\n",
       "          (q_project): Linear(in_features=768, out_features=768, bias=True)\n",
       "          (k_project): Linear(in_features=768, out_features=768, bias=True)\n",
       "          (v_project): Linear(in_features=768, out_features=768, bias=True)\n",
       "          (out_project): Linear(in_features=768, out_features=768, bias=True)\n",
       "          (dropout): Dropout(p=0.1, inplace=False)\n",
       "        )\n",
       "        (norm2): LayerNorm((768,), eps=1e-06, elementwise_affine=True)\n",
       "        (mlp_channels): MLP(\n",
       "          (fc1): Linear(in_features=768, out_features=3072, bias=True)\n",
       "          (fc2): Linear(in_features=3072, out_features=768, bias=True)\n",
       "        )\n",
       "        (dropout): Dropout(p=0.1, inplace=False)\n",
       "      )\n",
       "      (8): Block(\n",
       "        (norm1): LayerNorm((768,), eps=1e-06, elementwise_affine=True)\n",
       "        (MHSA): MHSA(\n",
       "          (q_project): Linear(in_features=768, out_features=768, bias=True)\n",
       "          (k_project): Linear(in_features=768, out_features=768, bias=True)\n",
       "          (v_project): Linear(in_features=768, out_features=768, bias=True)\n",
       "          (out_project): Linear(in_features=768, out_features=768, bias=True)\n",
       "          (dropout): Dropout(p=0.1, inplace=False)\n",
       "        )\n",
       "        (norm2): LayerNorm((768,), eps=1e-06, elementwise_affine=True)\n",
       "        (mlp_channels): MLP(\n",
       "          (fc1): Linear(in_features=768, out_features=3072, bias=True)\n",
       "          (fc2): Linear(in_features=3072, out_features=768, bias=True)\n",
       "        )\n",
       "        (dropout): Dropout(p=0.1, inplace=False)\n",
       "      )\n",
       "      (9): Block(\n",
       "        (norm1): LayerNorm((768,), eps=1e-06, elementwise_affine=True)\n",
       "        (MHSA): MHSA(\n",
       "          (q_project): Linear(in_features=768, out_features=768, bias=True)\n",
       "          (k_project): Linear(in_features=768, out_features=768, bias=True)\n",
       "          (v_project): Linear(in_features=768, out_features=768, bias=True)\n",
       "          (out_project): Linear(in_features=768, out_features=768, bias=True)\n",
       "          (dropout): Dropout(p=0.1, inplace=False)\n",
       "        )\n",
       "        (norm2): LayerNorm((768,), eps=1e-06, elementwise_affine=True)\n",
       "        (mlp_channels): MLP(\n",
       "          (fc1): Linear(in_features=768, out_features=3072, bias=True)\n",
       "          (fc2): Linear(in_features=3072, out_features=768, bias=True)\n",
       "        )\n",
       "        (dropout): Dropout(p=0.1, inplace=False)\n",
       "      )\n",
       "      (10): Block(\n",
       "        (norm1): LayerNorm((768,), eps=1e-06, elementwise_affine=True)\n",
       "        (MHSA): MHSA(\n",
       "          (q_project): Linear(in_features=768, out_features=768, bias=True)\n",
       "          (k_project): Linear(in_features=768, out_features=768, bias=True)\n",
       "          (v_project): Linear(in_features=768, out_features=768, bias=True)\n",
       "          (out_project): Linear(in_features=768, out_features=768, bias=True)\n",
       "          (dropout): Dropout(p=0.1, inplace=False)\n",
       "        )\n",
       "        (norm2): LayerNorm((768,), eps=1e-06, elementwise_affine=True)\n",
       "        (mlp_channels): MLP(\n",
       "          (fc1): Linear(in_features=768, out_features=3072, bias=True)\n",
       "          (fc2): Linear(in_features=3072, out_features=768, bias=True)\n",
       "        )\n",
       "        (dropout): Dropout(p=0.1, inplace=False)\n",
       "      )\n",
       "      (11): Block(\n",
       "        (norm1): LayerNorm((768,), eps=1e-06, elementwise_affine=True)\n",
       "        (MHSA): MHSA(\n",
       "          (q_project): Linear(in_features=768, out_features=768, bias=True)\n",
       "          (k_project): Linear(in_features=768, out_features=768, bias=True)\n",
       "          (v_project): Linear(in_features=768, out_features=768, bias=True)\n",
       "          (out_project): Linear(in_features=768, out_features=768, bias=True)\n",
       "          (dropout): Dropout(p=0.1, inplace=False)\n",
       "        )\n",
       "        (norm2): LayerNorm((768,), eps=1e-06, elementwise_affine=True)\n",
       "        (mlp_channels): MLP(\n",
       "          (fc1): Linear(in_features=768, out_features=3072, bias=True)\n",
       "          (fc2): Linear(in_features=3072, out_features=768, bias=True)\n",
       "        )\n",
       "        (dropout): Dropout(p=0.1, inplace=False)\n",
       "      )\n",
       "    )\n",
       "  )\n",
       "  (norm): LayerNorm((768,), eps=1e-06, elementwise_affine=True)\n",
       "  (head): Linear(in_features=768, out_features=1000, bias=True)\n",
       "  (finetune): Linear(in_features=1000, out_features=6, bias=True)\n",
       ")"
      ]
     },
     "execution_count": 38,
     "metadata": {},
     "output_type": "execute_result"
    }
   ],
   "source": [
    "model.eval()"
   ]
  },
  {
   "cell_type": "code",
   "execution_count": 39,
   "id": "5330c7b6-1015-4188-9622-ab115d54ce98",
   "metadata": {},
   "outputs": [],
   "source": [
    "a, b = [], []\n",
    "\n",
    "for x, y in valloader:\n",
    "    x, y = x.to(device), y.to(device)\n",
    "    x = x.float()\n",
    "    y_pred = model(x)\n",
    "    y_pred, y = y_pred.detach().cpu().numpy(), y.detach().cpu().numpy()\n",
    "    yes = np.argmax(y_pred, axis=1)\n",
    "    a.append(yes)\n",
    "    b.append(y)"
   ]
  },
  {
   "cell_type": "code",
   "execution_count": 40,
   "id": "17b9e216-7a15-4ce8-a872-05db026a7384",
   "metadata": {},
   "outputs": [],
   "source": [
    "count = 0\n",
    "for i, j in zip(a, b):\n",
    "    for k, l in zip(i, j):\n",
    "        if k == l:\n",
    "            count += 1"
   ]
  },
  {
   "cell_type": "code",
   "execution_count": 41,
   "id": "bc6cace9-048e-46f2-be89-d7c39afce9ba",
   "metadata": {},
   "outputs": [
    {
     "data": {
      "text/plain": [
       "0.4188034188034188"
      ]
     },
     "execution_count": 41,
     "metadata": {},
     "output_type": "execute_result"
    }
   ],
   "source": [
    "# fuck this\n",
    "count/2808"
   ]
  },
  {
   "cell_type": "code",
   "execution_count": 42,
   "id": "43bebc87-a745-4a69-b482-0d211beac5de",
   "metadata": {},
   "outputs": [],
   "source": [
    "r, t = [], []\n",
    "\n",
    "for x, y in trainloader:\n",
    "    x, y = x.to(device), y.to(device)\n",
    "    x = x.float()\n",
    "    y_pred = model(x)\n",
    "    y_pred, y = y_pred.detach().cpu().numpy(), y.detach().cpu().numpy()\n",
    "    yes = np.argmax(y_pred, axis=1)\n",
    "    r.append(yes)\n",
    "    t.append(y)"
   ]
  },
  {
   "cell_type": "code",
   "execution_count": 45,
   "id": "5644f4b7-c116-4ef9-93c4-258c3cb41cd5",
   "metadata": {},
   "outputs": [],
   "source": [
    "count2 = 0\n",
    "for i, j in zip(r, t):\n",
    "    for k, l in zip(i, j):\n",
    "        if k == l:\n",
    "            count2 += 1"
   ]
  },
  {
   "cell_type": "code",
   "execution_count": 46,
   "id": "ad72a2df-f9d3-4813-a3a3-d7fcc06f87ac",
   "metadata": {},
   "outputs": [
    {
     "data": {
      "text/plain": [
       "0.3808392715756136"
      ]
     },
     "execution_count": 46,
     "metadata": {},
     "output_type": "execute_result"
    }
   ],
   "source": [
    "count2/12630"
   ]
  },
  {
   "cell_type": "markdown",
   "id": "d0f15a07-686b-463b-8c6f-d062f2d9d95d",
   "metadata": {},
   "source": [
    "* yo thats pretty insane for 10 epochs of training wtf\n",
    "* i used a bare minimum cnn architecture and it got 50% accuracy a while ago on this dataset and it trained on 90% 10% and this one trained on 50 50 lmao\n",
    "* this is also highly unoptimized i just did the bare minimum to try to get it to work\n",
    "* its pretty dope how it could learn hella fast from having 1000 num classes parameters tho"
   ]
  },
  {
   "cell_type": "markdown",
   "id": "43172009-3b34-4d5f-8e18-ca69be3cf75f",
   "metadata": {},
   "source": [
    "## to do:\n",
    "#### figure out a cleaner way to load state dict from pretrained weights\n",
    "#### figure out how to fine tune like a non idiot\n",
    "### clean up all code and refactor into clean structure"
   ]
  }
 ],
 "metadata": {
  "kernelspec": {
   "display_name": "Python 3 (ipykernel)",
   "language": "python",
   "name": "python3"
  },
  "language_info": {
   "codemirror_mode": {
    "name": "ipython",
    "version": 3
   },
   "file_extension": ".py",
   "mimetype": "text/x-python",
   "name": "python",
   "nbconvert_exporter": "python",
   "pygments_lexer": "ipython3",
   "version": "3.8.12"
  }
 },
 "nbformat": 4,
 "nbformat_minor": 5
}
