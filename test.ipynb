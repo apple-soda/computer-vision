{
 "cells": [
  {
   "cell_type": "code",
   "execution_count": 1,
   "id": "4215e97c-a840-4107-a9c6-926f71a1a89b",
   "metadata": {},
   "outputs": [],
   "source": [
    "import torch\n",
    "import torch.nn as nn\n",
    "import torch.nn.functional as F\n",
    "\n",
    "import numpy as np\n",
    "import matplotlib.pyplot as plt\n",
    "\n",
    "from tqdm import tqdm"
   ]
  },
  {
   "cell_type": "code",
   "execution_count": 2,
   "id": "2126c864-9d18-4711-88f7-5c2f35865d3d",
   "metadata": {},
   "outputs": [],
   "source": [
    "class PositionalEmbedding1D(nn.Module):\n",
    "    \"\"\"Adds (optionally learned) positional embeddings to the inputs.\"\"\"\n",
    "\n",
    "    def __init__(self, seq_len, dim):\n",
    "        super().__init__()\n",
    "        self.pos_embedding = nn.Parameter(torch.zeros(1, seq_len, dim))\n",
    "    \n",
    "    def forward(self, x):\n",
    "        \"\"\"Input has shape `(batch_size, seq_len, emb_dim)`\"\"\"\n",
    "        # (1, 3, 14, 14) + (1, 3, 196) ? wtf\n",
    "        # ohhh flatten before embedding kek\n",
    "        return x + self.pos_embedding"
   ]
  },
  {
   "cell_type": "code",
   "execution_count": 3,
   "id": "cc454042-e611-4cae-8210-f51dc1c3da52",
   "metadata": {},
   "outputs": [],
   "source": [
    "class MLP(nn.Module):\n",
    "    def __init__(self, dim, ff_dim):\n",
    "        super().__init__()\n",
    "        self.fc1 = nn.Linear(dim, ff_dim)\n",
    "        self.fc2 = nn.Linear(ff_dim, dim)\n",
    "        \n",
    "    def forward(self, x):\n",
    "        out = self.fc2(F.gelu(self.fc1(x)))\n",
    "        return out"
   ]
  },
  {
   "cell_type": "code",
   "execution_count": 4,
   "id": "168fb4ea-14a8-4aba-bef9-e7e48633004b",
   "metadata": {},
   "outputs": [],
   "source": [
    "class MHSA(nn.Module):\n",
    "    def __init__(self, dim, n_heads):\n",
    "        super().__init__()\n",
    "        self.n_heads = n_heads\n",
    "        self.dim = dim\n",
    "        self.project = nn.Linear(dim, dim)\n",
    "        \n",
    "    def forward(self, x): # input shape [b, s, d]\n",
    "        # split into q, k, v : (query, key, values)\n",
    "        # expand by h (num heads... hence multi attention)\n",
    "        \n",
    "        q, k, v = self.project(x), self.project(x), self.project(x)\n",
    "        # convert q, k, v -> [b, h, s, w] where h = n_heads\n",
    "        q = q.view(q.shape[0], self.n_heads, q.shape[1], -1)\n",
    "        k = k.view(k.shape[0], self.n_heads, k.shape[1], -1)\n",
    "        v = v.view(v.shape[0], self.n_heads, v.shape[1], -1)\n",
    "        \n",
    "        # scaled dot product attention on q, k (queries, keys) then matmul with values\n",
    "        # matmul + scale\n",
    "        # [b, h, s, w] @ [b, h, w, s] -> [b, h, s, s]\n",
    "        k = k.transpose(-2, -1) # swap last two dimensions\n",
    "        p = torch.matmul(q, k)\n",
    "        p = p / np.sqrt(k.size(-1)) # where s is the dimension of k\n",
    "\n",
    "        p = F.softmax(p, dim = -1) # softmax across last dimension\n",
    "        \n",
    "        out = torch.matmul(p, v) # [b, h, s, s] @ [b, h, s, w] -> [b, h, s, w]\n",
    "        out = out.view(out.shape[0], out.shape[2], -1) # [b, s, d]\n",
    "        return out"
   ]
  },
  {
   "cell_type": "code",
   "execution_count": 5,
   "id": "0de52869-4ffa-4be1-b875-c16b18af1a4b",
   "metadata": {},
   "outputs": [],
   "source": [
    "# dont need linear and dont need dropout i think\n",
    "# add after if performance is shit\n",
    "\n",
    "class Block(nn.Module): # inputs are B, S, D\n",
    "    def __init__(self, dim, n_heads, ff_dim):\n",
    "        super().__init__()\n",
    "        self.norm1 = nn.LayerNorm(dim, eps=1e-6)\n",
    "        self.MHSA = MHSA(dim, n_heads)\n",
    "        self.norm2 = nn.LayerNorm(dim, eps=1e-6)\n",
    "        self.mlp_channels = MLP(dim, ff_dim)\n",
    "        \n",
    "    def forward(self, x):\n",
    "        h = self.MHSA(self.norm1(x))\n",
    "        x = x + h\n",
    "        h = self.mlp_channels(self.norm2(x))\n",
    "        x = x + h\n",
    "        return x"
   ]
  },
  {
   "cell_type": "code",
   "execution_count": 6,
   "id": "a7beb667-2fc6-4786-bbc6-3c3960a3e1a7",
   "metadata": {},
   "outputs": [],
   "source": [
    "class Transformer(nn.Module):\n",
    "    def __init__(self, n_layers, dim, n_heads, ff_dim):\n",
    "        super().__init__()\n",
    "        self.blocks = nn.ModuleList([Block(dim, n_heads, ff_dim) for _ in range(n_layers)])\n",
    "    \n",
    "    def forward(self, x):\n",
    "        for block in self.blocks:\n",
    "            x = block(x)\n",
    "        return x"
   ]
  },
  {
   "cell_type": "code",
   "execution_count": 7,
   "id": "714c0e83-2177-43fe-90f1-acdbb24117e3",
   "metadata": {},
   "outputs": [
    {
     "data": {
      "text/plain": [
       "'\\nwith image 1, 3, 224, 224  and patch encoding of 16x16 we have\\n((224 - 16) / 16) + 1 = 14\\nseq len is 14 * 14 bro im trippin bullets\\nout = (1, 3, 14, 14)\\n'"
      ]
     },
     "execution_count": 7,
     "metadata": {},
     "output_type": "execute_result"
    }
   ],
   "source": [
    "'''\n",
    "with image 1, 3, 224, 224  and patch encoding of 16x16 we have\n",
    "((224 - 16) / 16) + 1 = 14\n",
    "seq len is 14 * 14 bro im trippin bullets\n",
    "out = (1, 3, 14, 14)\n",
    "'''"
   ]
  },
  {
   "cell_type": "code",
   "execution_count": 8,
   "id": "3c1e746a-e682-476f-87ec-58a6024bd600",
   "metadata": {},
   "outputs": [],
   "source": [
    "class ViT(nn.Module):\n",
    "    def __init__(self, in_channels, dim, fh, fw, n_layers, n_heads, ff_dim, num_classes):\n",
    "        super().__init__()\n",
    "        self.fw = fw\n",
    "        self.fh = fh\n",
    "        self.patch_encoding = nn.Conv2d(in_channels, dim, kernel_size=(self.fh, self.fw), stride=(self.fh, self.fw))\n",
    "        # [B, D, FH, FW]\n",
    "        \n",
    "        seq_len = 14 * 14\n",
    "            \n",
    "        self.positional_embedding = PositionalEmbedding1D(seq_len, dim) # inputs are seq len, dim\n",
    "        # [B, D, FH, FW]\n",
    "        \n",
    "        # flatten into [B, S, D]\n",
    "        self.Transformer = Transformer(n_layers, dim, n_heads, ff_dim)\n",
    "        \n",
    "        # if this doenst work then do it manually\n",
    "        self.norm = nn.LayerNorm(dim, eps=1e-6)\n",
    "        self.head = nn.Linear(dim, num_classes)\n",
    "        \n",
    "    def forward(self, x):\n",
    "        x = self.patch_encoding(x)\n",
    "        x = x.view(x.shape[0], -1, x.shape[1]) # b, s, d\n",
    "        x = self.positional_embedding(x) \n",
    "        x = self.Transformer(x)\n",
    "        x = self.norm(x)\n",
    "        x = x[:, -1, :] # b, s, d -> b, d\n",
    "        x = self.head(x)\n",
    "        return x"
   ]
  },
  {
   "cell_type": "code",
   "execution_count": 9,
   "id": "64fe747f-dcc7-45ed-b95c-b62ebaa8b437",
   "metadata": {},
   "outputs": [],
   "source": [
    "#hyperparameters\n",
    "fw = fh = 16\n",
    "dim = 768\n",
    "ff_dim = 3072\n",
    "n_heads = 12\n",
    "n_layers = 12\n",
    "in_channels = 3\n",
    "num_classes = 1000\n"
   ]
  },
  {
   "cell_type": "code",
   "execution_count": 10,
   "id": "439d23fb-45ac-41a4-80d5-b8a5ec397edc",
   "metadata": {},
   "outputs": [],
   "source": [
    "model = ViT(in_channels, dim, fh, fw, n_layers, n_heads, ff_dim, num_classes)"
   ]
  },
  {
   "cell_type": "code",
   "execution_count": 11,
   "id": "cc6bbcd6-47f1-4f19-8d6d-275d1d57652e",
   "metadata": {},
   "outputs": [],
   "source": [
    "x = torch.load(\"b16.pth\")"
   ]
  },
  {
   "cell_type": "code",
   "execution_count": 12,
   "id": "c5d70adf-9ff0-4130-8ee3-b046dfa405ce",
   "metadata": {},
   "outputs": [],
   "source": [
    "from collections import OrderedDict"
   ]
  },
  {
   "cell_type": "code",
   "execution_count": 13,
   "id": "e9cbf7da-1d61-4a22-92c1-c188b97bc226",
   "metadata": {},
   "outputs": [],
   "source": [
    "d = OrderedDict()"
   ]
  },
  {
   "cell_type": "code",
   "execution_count": 14,
   "id": "c8a69169-0040-4793-a55a-22ebc52560e8",
   "metadata": {},
   "outputs": [],
   "source": [
    "for i, j in x.items():\n",
    "    if i[:7] == \"blocks.\":\n",
    "        newkey = \"Transformer.\" + i\n",
    "        d[newkey] = j\n",
    "    else:\n",
    "        d[i] = j"
   ]
  },
  {
   "cell_type": "code",
   "execution_count": 15,
   "id": "93695eb0-d8dd-480c-b9ff-4f61afd85177",
   "metadata": {},
   "outputs": [],
   "source": [
    "dd = OrderedDict()"
   ]
  },
  {
   "cell_type": "code",
   "execution_count": 16,
   "id": "d5f66190-94eb-47b6-95fd-034853203114",
   "metadata": {},
   "outputs": [],
   "source": [
    "for i, j in d.items():\n",
    "    if i[21:31] != 'mlp_tokens':\n",
    "        dd[i] = j"
   ]
  },
  {
   "cell_type": "code",
   "execution_count": 17,
   "id": "5ddcfabe-ad51-4691-b7ab-ff67d4effb49",
   "metadata": {},
   "outputs": [],
   "source": [
    "ddd = OrderedDict()"
   ]
  },
  {
   "cell_type": "code",
   "execution_count": 18,
   "id": "d22f87f7-4aa4-44c9-9183-c86310bed22b",
   "metadata": {},
   "outputs": [],
   "source": [
    "for i, j in dd.items():\n",
    "    if i[22:32] != 'mlp_tokens':\n",
    "        ddd[i] = j"
   ]
  },
  {
   "cell_type": "code",
   "execution_count": 19,
   "id": "89f2c164-9db4-440e-8afc-5384797a1a1d",
   "metadata": {},
   "outputs": [
    {
     "data": {
      "text/plain": [
       "_IncompatibleKeys(missing_keys=['patch_encoding.weight', 'patch_encoding.bias', 'positional_embedding.pos_embedding', 'Transformer.blocks.0.MHSA.project.weight', 'Transformer.blocks.0.MHSA.project.bias', 'Transformer.blocks.1.MHSA.project.weight', 'Transformer.blocks.1.MHSA.project.bias', 'Transformer.blocks.2.MHSA.project.weight', 'Transformer.blocks.2.MHSA.project.bias', 'Transformer.blocks.3.MHSA.project.weight', 'Transformer.blocks.3.MHSA.project.bias', 'Transformer.blocks.4.MHSA.project.weight', 'Transformer.blocks.4.MHSA.project.bias', 'Transformer.blocks.5.MHSA.project.weight', 'Transformer.blocks.5.MHSA.project.bias', 'Transformer.blocks.6.MHSA.project.weight', 'Transformer.blocks.6.MHSA.project.bias', 'Transformer.blocks.7.MHSA.project.weight', 'Transformer.blocks.7.MHSA.project.bias', 'Transformer.blocks.8.MHSA.project.weight', 'Transformer.blocks.8.MHSA.project.bias', 'Transformer.blocks.9.MHSA.project.weight', 'Transformer.blocks.9.MHSA.project.bias', 'Transformer.blocks.10.MHSA.project.weight', 'Transformer.blocks.10.MHSA.project.bias', 'Transformer.blocks.11.MHSA.project.weight', 'Transformer.blocks.11.MHSA.project.bias'], unexpected_keys=['stem.proj.bias', 'stem.proj.weight'])"
      ]
     },
     "execution_count": 19,
     "metadata": {},
     "output_type": "execute_result"
    }
   ],
   "source": [
    "# fuck the rest of these weights\n",
    "model.load_state_dict(ddd, strict=False)"
   ]
  },
  {
   "cell_type": "markdown",
   "id": "242b9dc1-b94e-48b6-83c5-061ce9312575",
   "metadata": {},
   "source": [
    "# load dataset and train"
   ]
  },
  {
   "cell_type": "code",
   "execution_count": 20,
   "id": "91cb1a2e-eefe-4748-861b-840274ddf8b4",
   "metadata": {},
   "outputs": [],
   "source": [
    "import torch\n",
    "import torch.nn as nn\n",
    "import torch.nn.functional as F\n",
    "import pandas as pd\n",
    "import numpy as np\n",
    "import sys\n",
    "import torchvision\n",
    "import torchvision.transforms as T\n",
    "from PIL import Image\n",
    "from tqdm import tqdm\n",
    "import os\n",
    "import cv2"
   ]
  },
  {
   "cell_type": "code",
   "execution_count": 21,
   "id": "526f6250-c99d-4ddc-9e74-75f35996a493",
   "metadata": {},
   "outputs": [],
   "source": [
    "labels = ['street', 'sea', 'mountain', 'glacier', 'forest', 'buildings']"
   ]
  },
  {
   "cell_type": "code",
   "execution_count": 22,
   "id": "298a3e11-ceaa-41a1-8bbe-43d9592dc043",
   "metadata": {},
   "outputs": [],
   "source": [
    "image_size = (224, 224)"
   ]
  },
  {
   "cell_type": "code",
   "execution_count": 23,
   "id": "ef8c9271-e2ce-45dc-bf94-45b926455c3d",
   "metadata": {},
   "outputs": [],
   "source": [
    "class Data(torch.utils.data.Dataset):\n",
    "    def __init__(self, labels, image_size):\n",
    "        self.data = []\n",
    "        self.labels = []\n",
    "        self.dir = 'D:/Data/intel/seg_train'\n",
    "        \n",
    "        i = 0\n",
    "        for folder in os.listdir(self.dir):\n",
    "            label = i\n",
    "            for file in tqdm(os.listdir(os.path.join(self.dir, folder))):\n",
    "                img_path = os.path.join(os.path.join(self.dir, folder), file)\n",
    "                \n",
    "                # Open and resize the img\n",
    "                image = cv2.imread(img_path)\n",
    "                image = cv2.resize(image, image_size)\n",
    "                image = cv2.cvtColor(image, cv2.COLOR_BGR2RGB)\n",
    "                image = np.reshape(image, [3, 224, 224])\n",
    "                 \n",
    "                # Append the image and its corresponding label to the output\n",
    "                self.data.append(image)\n",
    "                self.labels.append(label)\n",
    "            i += 1\n",
    "            \n",
    "    def __len__(self):\n",
    "        return len(self.data)\n",
    "    \n",
    "    def __getitem__(self, idx):\n",
    "        return self.data[idx], self.labels[idx]"
   ]
  },
  {
   "cell_type": "code",
   "execution_count": 24,
   "id": "23d38682-cd76-4ac9-b8d4-60c63deeadbb",
   "metadata": {},
   "outputs": [],
   "source": [
    "import matplotlib.pyplot as plt"
   ]
  },
  {
   "cell_type": "code",
   "execution_count": 25,
   "id": "c388da01-ceb4-4896-8f33-1315661ab4ee",
   "metadata": {},
   "outputs": [],
   "source": [
    "test = cv2.imread('D:/Data/intel/seg_train/buildings/0.jpg')"
   ]
  },
  {
   "cell_type": "code",
   "execution_count": 26,
   "id": "b771bad6-351f-41a1-8863-4b9767658dff",
   "metadata": {},
   "outputs": [
    {
     "data": {
      "text/plain": [
       "<matplotlib.image.AxesImage at 0x19397f4a070>"
      ]
     },
     "execution_count": 26,
     "metadata": {},
     "output_type": "execute_result"
    },
    {
     "data": {
      "image/png": "[encoded data removed]",
      "text/plain": [
       "<Figure size 432x288 with 1 Axes>"
      ]
     },
     "metadata": {
      "needs_background": "light"
     },
     "output_type": "display_data"
    }
   ],
   "source": [
    "plt.imshow(test)"
   ]
  },
  {
   "cell_type": "code",
   "execution_count": 27,
   "id": "02339b1f-2cab-4c3c-8399-e0abd3c2252b",
   "metadata": {},
   "outputs": [
    {
     "name": "stderr",
     "output_type": "stream",
     "text": [
      "100%|█████████████████████████████████████████████████████████████████████████████| 2191/2191 [00:05<00:00, 388.54it/s]\n",
      "100%|█████████████████████████████████████████████████████████████████████████████| 2271/2271 [00:05<00:00, 383.20it/s]\n",
      "100%|█████████████████████████████████████████████████████████████████████████████| 2404/2404 [00:06<00:00, 393.59it/s]\n",
      "100%|█████████████████████████████████████████████████████████████████████████████| 2512/2512 [00:06<00:00, 395.92it/s]\n",
      "100%|█████████████████████████████████████████████████████████████████████████████| 2274/2274 [00:05<00:00, 403.89it/s]\n",
      "100%|█████████████████████████████████████████████████████████████████████████████| 2382/2382 [00:06<00:00, 387.01it/s]\n"
     ]
    }
   ],
   "source": [
    "data = Data(labels, image_size)"
   ]
  },
  {
   "cell_type": "code",
   "execution_count": 28,
   "id": "e7b43644-1aa4-4a1f-9135-c64b1c5ca64a",
   "metadata": {},
   "outputs": [],
   "source": [
    "from torch.utils.data import Dataset\n",
    "from torchvision import datasets\n",
    "from torchvision.transforms import ToTensor"
   ]
  },
  {
   "cell_type": "code",
   "execution_count": 29,
   "id": "72ba1e46-2296-4dc4-abaa-b3d8507cdc49",
   "metadata": {},
   "outputs": [],
   "source": [
    "# this step was fucking aids bruh\n",
    "lol = torch.LongTensor(data.labels)\n",
    "one_hot = F.one_hot(lol, 6)\n",
    "resized_labels = torch.cat([one_hot, torch.zeros(14034, 994)], axis=1)\n",
    "data.labels = resized_labels"
   ]
  },
  {
   "cell_type": "code",
   "execution_count": 30,
   "id": "2b7a19a4-d45c-414e-bdfa-efa34b10b726",
   "metadata": {},
   "outputs": [],
   "source": [
    "# train, val = torch.utils.data.random_split(x, [12630, 1404])\n",
    "train, val = torch.utils.data.random_split(data, [12630, 1404])"
   ]
  },
  {
   "cell_type": "code",
   "execution_count": 31,
   "id": "3c5e688b-f19e-414d-a00f-66abd4300b70",
   "metadata": {},
   "outputs": [],
   "source": [
    "trainloader = torch.utils.data.DataLoader(train, shuffle=True, batch_size=16)\n",
    "valloader = torch.utils.data.DataLoader(val, shuffle=True, batch_size=16)"
   ]
  },
  {
   "cell_type": "code",
   "execution_count": 32,
   "id": "01551412-f47e-4139-9c63-75776fe1bd11",
   "metadata": {},
   "outputs": [],
   "source": [
    "device = torch.device('cuda')\n",
    "import torch.optim as optim"
   ]
  },
  {
   "cell_type": "code",
   "execution_count": 33,
   "id": "512fb45d-cb3b-4703-b40b-db482024d523",
   "metadata": {},
   "outputs": [],
   "source": [
    "model = model.to(device)\n",
    "optimizer = optim.Adam(model.parameters(), lr=1e-3)"
   ]
  },
  {
   "cell_type": "code",
   "execution_count": 34,
   "id": "6a0ab46f-1e58-4bef-b2ba-47b19b1a4c12",
   "metadata": {},
   "outputs": [],
   "source": [
    "# has softmax in it\n",
    "loss = nn.CrossEntropyLoss()"
   ]
  },
  {
   "cell_type": "code",
   "execution_count": 35,
   "id": "edc7698e-3f6c-4376-85ff-71b6619599c1",
   "metadata": {},
   "outputs": [
    {
     "data": {
      "text/plain": [
       "ViT(\n",
       "  (patch_encoding): Conv2d(3, 768, kernel_size=(16, 16), stride=(16, 16))\n",
       "  (positional_embedding): PositionalEmbedding1D()\n",
       "  (Transformer): Transformer(\n",
       "    (blocks): ModuleList(\n",
       "      (0): Block(\n",
       "        (norm1): LayerNorm((768,), eps=1e-06, elementwise_affine=True)\n",
       "        (MHSA): MHSA(\n",
       "          (project): Linear(in_features=768, out_features=768, bias=True)\n",
       "        )\n",
       "        (norm2): LayerNorm((768,), eps=1e-06, elementwise_affine=True)\n",
       "        (mlp_channels): MLP(\n",
       "          (fc1): Linear(in_features=768, out_features=3072, bias=True)\n",
       "          (fc2): Linear(in_features=3072, out_features=768, bias=True)\n",
       "        )\n",
       "      )\n",
       "      (1): Block(\n",
       "        (norm1): LayerNorm((768,), eps=1e-06, elementwise_affine=True)\n",
       "        (MHSA): MHSA(\n",
       "          (project): Linear(in_features=768, out_features=768, bias=True)\n",
       "        )\n",
       "        (norm2): LayerNorm((768,), eps=1e-06, elementwise_affine=True)\n",
       "        (mlp_channels): MLP(\n",
       "          (fc1): Linear(in_features=768, out_features=3072, bias=True)\n",
       "          (fc2): Linear(in_features=3072, out_features=768, bias=True)\n",
       "        )\n",
       "      )\n",
       "      (2): Block(\n",
       "        (norm1): LayerNorm((768,), eps=1e-06, elementwise_affine=True)\n",
       "        (MHSA): MHSA(\n",
       "          (project): Linear(in_features=768, out_features=768, bias=True)\n",
       "        )\n",
       "        (norm2): LayerNorm((768,), eps=1e-06, elementwise_affine=True)\n",
       "        (mlp_channels): MLP(\n",
       "          (fc1): Linear(in_features=768, out_features=3072, bias=True)\n",
       "          (fc2): Linear(in_features=3072, out_features=768, bias=True)\n",
       "        )\n",
       "      )\n",
       "      (3): Block(\n",
       "        (norm1): LayerNorm((768,), eps=1e-06, elementwise_affine=True)\n",
       "        (MHSA): MHSA(\n",
       "          (project): Linear(in_features=768, out_features=768, bias=True)\n",
       "        )\n",
       "        (norm2): LayerNorm((768,), eps=1e-06, elementwise_affine=True)\n",
       "        (mlp_channels): MLP(\n",
       "          (fc1): Linear(in_features=768, out_features=3072, bias=True)\n",
       "          (fc2): Linear(in_features=3072, out_features=768, bias=True)\n",
       "        )\n",
       "      )\n",
       "      (4): Block(\n",
       "        (norm1): LayerNorm((768,), eps=1e-06, elementwise_affine=True)\n",
       "        (MHSA): MHSA(\n",
       "          (project): Linear(in_features=768, out_features=768, bias=True)\n",
       "        )\n",
       "        (norm2): LayerNorm((768,), eps=1e-06, elementwise_affine=True)\n",
       "        (mlp_channels): MLP(\n",
       "          (fc1): Linear(in_features=768, out_features=3072, bias=True)\n",
       "          (fc2): Linear(in_features=3072, out_features=768, bias=True)\n",
       "        )\n",
       "      )\n",
       "      (5): Block(\n",
       "        (norm1): LayerNorm((768,), eps=1e-06, elementwise_affine=True)\n",
       "        (MHSA): MHSA(\n",
       "          (project): Linear(in_features=768, out_features=768, bias=True)\n",
       "        )\n",
       "        (norm2): LayerNorm((768,), eps=1e-06, elementwise_affine=True)\n",
       "        (mlp_channels): MLP(\n",
       "          (fc1): Linear(in_features=768, out_features=3072, bias=True)\n",
       "          (fc2): Linear(in_features=3072, out_features=768, bias=True)\n",
       "        )\n",
       "      )\n",
       "      (6): Block(\n",
       "        (norm1): LayerNorm((768,), eps=1e-06, elementwise_affine=True)\n",
       "        (MHSA): MHSA(\n",
       "          (project): Linear(in_features=768, out_features=768, bias=True)\n",
       "        )\n",
       "        (norm2): LayerNorm((768,), eps=1e-06, elementwise_affine=True)\n",
       "        (mlp_channels): MLP(\n",
       "          (fc1): Linear(in_features=768, out_features=3072, bias=True)\n",
       "          (fc2): Linear(in_features=3072, out_features=768, bias=True)\n",
       "        )\n",
       "      )\n",
       "      (7): Block(\n",
       "        (norm1): LayerNorm((768,), eps=1e-06, elementwise_affine=True)\n",
       "        (MHSA): MHSA(\n",
       "          (project): Linear(in_features=768, out_features=768, bias=True)\n",
       "        )\n",
       "        (norm2): LayerNorm((768,), eps=1e-06, elementwise_affine=True)\n",
       "        (mlp_channels): MLP(\n",
       "          (fc1): Linear(in_features=768, out_features=3072, bias=True)\n",
       "          (fc2): Linear(in_features=3072, out_features=768, bias=True)\n",
       "        )\n",
       "      )\n",
       "      (8): Block(\n",
       "        (norm1): LayerNorm((768,), eps=1e-06, elementwise_affine=True)\n",
       "        (MHSA): MHSA(\n",
       "          (project): Linear(in_features=768, out_features=768, bias=True)\n",
       "        )\n",
       "        (norm2): LayerNorm((768,), eps=1e-06, elementwise_affine=True)\n",
       "        (mlp_channels): MLP(\n",
       "          (fc1): Linear(in_features=768, out_features=3072, bias=True)\n",
       "          (fc2): Linear(in_features=3072, out_features=768, bias=True)\n",
       "        )\n",
       "      )\n",
       "      (9): Block(\n",
       "        (norm1): LayerNorm((768,), eps=1e-06, elementwise_affine=True)\n",
       "        (MHSA): MHSA(\n",
       "          (project): Linear(in_features=768, out_features=768, bias=True)\n",
       "        )\n",
       "        (norm2): LayerNorm((768,), eps=1e-06, elementwise_affine=True)\n",
       "        (mlp_channels): MLP(\n",
       "          (fc1): Linear(in_features=768, out_features=3072, bias=True)\n",
       "          (fc2): Linear(in_features=3072, out_features=768, bias=True)\n",
       "        )\n",
       "      )\n",
       "      (10): Block(\n",
       "        (norm1): LayerNorm((768,), eps=1e-06, elementwise_affine=True)\n",
       "        (MHSA): MHSA(\n",
       "          (project): Linear(in_features=768, out_features=768, bias=True)\n",
       "        )\n",
       "        (norm2): LayerNorm((768,), eps=1e-06, elementwise_affine=True)\n",
       "        (mlp_channels): MLP(\n",
       "          (fc1): Linear(in_features=768, out_features=3072, bias=True)\n",
       "          (fc2): Linear(in_features=3072, out_features=768, bias=True)\n",
       "        )\n",
       "      )\n",
       "      (11): Block(\n",
       "        (norm1): LayerNorm((768,), eps=1e-06, elementwise_affine=True)\n",
       "        (MHSA): MHSA(\n",
       "          (project): Linear(in_features=768, out_features=768, bias=True)\n",
       "        )\n",
       "        (norm2): LayerNorm((768,), eps=1e-06, elementwise_affine=True)\n",
       "        (mlp_channels): MLP(\n",
       "          (fc1): Linear(in_features=768, out_features=3072, bias=True)\n",
       "          (fc2): Linear(in_features=3072, out_features=768, bias=True)\n",
       "        )\n",
       "      )\n",
       "    )\n",
       "  )\n",
       "  (norm): LayerNorm((768,), eps=1e-06, elementwise_affine=True)\n",
       "  (head): Linear(in_features=768, out_features=1000, bias=True)\n",
       ")"
      ]
     },
     "execution_count": 35,
     "metadata": {},
     "output_type": "execute_result"
    }
   ],
   "source": [
    "model.train()"
   ]
  },
  {
   "cell_type": "code",
   "execution_count": 36,
   "id": "ed3f1c84-c26c-4e0e-9c82-78a0ba78dbc9",
   "metadata": {},
   "outputs": [],
   "source": [
    "# this thing is probably gonna overfit but full send i sleep and check reuslts in morning"
   ]
  },
  {
   "cell_type": "code",
   "execution_count": 37,
   "id": "3f013f67-6ee9-4c0a-af6c-49870c5b6d99",
   "metadata": {},
   "outputs": [],
   "source": [
    "training_losses = []\n",
    "val_losses = []\n",
    "avg_training_losses = []\n",
    "avg_val_losses = []"
   ]
  },
  {
   "cell_type": "code",
   "execution_count": 38,
   "id": "59581a8a-5c51-4125-857a-9896233e76c0",
   "metadata": {
    "scrolled": true,
    "tags": []
   },
   "outputs": [
    {
     "name": "stderr",
     "output_type": "stream",
     "text": [
      "  1%|▊                                                                              | 1/100 [03:50<6:20:11, 230.42s/it]"
     ]
    },
    {
     "name": "stdout",
     "output_type": "stream",
     "text": [
      " *** Training Loss: 1.3666573762893677, Validation Loss: 1.2283785343170166 *** \n"
     ]
    },
    {
     "name": "stderr",
     "output_type": "stream",
     "text": [
      "  2%|█▌                                                                             | 2/100 [07:40<6:15:36, 229.97s/it]"
     ]
    },
    {
     "name": "stdout",
     "output_type": "stream",
     "text": [
      " *** Training Loss: 1.259026050567627, Validation Loss: 1.304595947265625 *** \n"
     ]
    },
    {
     "name": "stderr",
     "output_type": "stream",
     "text": [
      "  3%|██▎                                                                            | 3/100 [11:28<6:10:40, 229.28s/it]"
     ]
    },
    {
     "name": "stdout",
     "output_type": "stream",
     "text": [
      " *** Training Loss: 1.1819167137145996, Validation Loss: 1.06917405128479 *** \n"
     ]
    },
    {
     "name": "stderr",
     "output_type": "stream",
     "text": [
      "  4%|███▏                                                                           | 4/100 [15:17<6:06:50, 229.28s/it]"
     ]
    },
    {
     "name": "stdout",
     "output_type": "stream",
     "text": [
      " *** Training Loss: 1.1146107912063599, Validation Loss: 0.9957960247993469 *** \n"
     ]
    },
    {
     "name": "stderr",
     "output_type": "stream",
     "text": [
      "  5%|███▉                                                                           | 5/100 [19:07<6:03:00, 229.27s/it]"
     ]
    },
    {
     "name": "stdout",
     "output_type": "stream",
     "text": [
      " *** Training Loss: 1.047501564025879, Validation Loss: 0.8497501611709595 *** \n"
     ]
    },
    {
     "name": "stderr",
     "output_type": "stream",
     "text": [
      "  6%|████▋                                                                          | 6/100 [22:56<5:59:28, 229.45s/it]"
     ]
    },
    {
     "name": "stdout",
     "output_type": "stream",
     "text": [
      " *** Training Loss: 0.9773978590965271, Validation Loss: 0.7391743659973145 *** \n"
     ]
    },
    {
     "name": "stderr",
     "output_type": "stream",
     "text": [
      "  7%|█████▌                                                                         | 7/100 [26:46<5:55:52, 229.60s/it]"
     ]
    },
    {
     "name": "stdout",
     "output_type": "stream",
     "text": [
      " *** Training Loss: 0.9067740440368652, Validation Loss: 0.6697086691856384 *** \n"
     ]
    },
    {
     "name": "stderr",
     "output_type": "stream",
     "text": [
      "  8%|██████▎                                                                        | 8/100 [30:36<5:52:13, 229.71s/it]"
     ]
    },
    {
     "name": "stdout",
     "output_type": "stream",
     "text": [
      " *** Training Loss: 0.8372637629508972, Validation Loss: 0.5996837615966797 *** \n"
     ]
    },
    {
     "name": "stderr",
     "output_type": "stream",
     "text": [
      "  9%|███████                                                                        | 9/100 [34:26<5:48:28, 229.76s/it]"
     ]
    },
    {
     "name": "stdout",
     "output_type": "stream",
     "text": [
      " *** Training Loss: 0.7721478939056396, Validation Loss: 0.5349938869476318 *** \n"
     ]
    },
    {
     "name": "stderr",
     "output_type": "stream",
     "text": [
      " 10%|███████▊                                                                      | 10/100 [38:16<5:44:42, 229.80s/it]"
     ]
    },
    {
     "name": "stdout",
     "output_type": "stream",
     "text": [
      " *** Training Loss: 0.7127896547317505, Validation Loss: 0.4824185371398926 *** \n"
     ]
    },
    {
     "name": "stderr",
     "output_type": "stream",
     "text": [
      " 11%|████████▌                                                                     | 11/100 [42:06<5:40:58, 229.87s/it]"
     ]
    },
    {
     "name": "stdout",
     "output_type": "stream",
     "text": [
      " *** Training Loss: 0.6613919734954834, Validation Loss: 0.44265714287757874 *** \n"
     ]
    },
    {
     "name": "stderr",
     "output_type": "stream",
     "text": [
      " 12%|█████████▎                                                                    | 12/100 [45:56<5:37:17, 229.98s/it]"
     ]
    },
    {
     "name": "stdout",
     "output_type": "stream",
     "text": [
      " *** Training Loss: 0.6176672577857971, Validation Loss: 0.4067600667476654 *** \n"
     ]
    },
    {
     "name": "stderr",
     "output_type": "stream",
     "text": [
      " 13%|██████████▏                                                                   | 13/100 [49:46<5:33:31, 230.02s/it]"
     ]
    },
    {
     "name": "stdout",
     "output_type": "stream",
     "text": [
      " *** Training Loss: 0.5776761174201965, Validation Loss: 0.37577390670776367 *** \n"
     ]
    },
    {
     "name": "stderr",
     "output_type": "stream",
     "text": [
      " 14%|██████████▉                                                                   | 14/100 [53:36<5:29:41, 230.02s/it]"
     ]
    },
    {
     "name": "stdout",
     "output_type": "stream",
     "text": [
      " *** Training Loss: 0.5417178869247437, Validation Loss: 0.3498804569244385 *** \n"
     ]
    },
    {
     "name": "stderr",
     "output_type": "stream",
     "text": [
      " 15%|███████████▋                                                                  | 15/100 [57:26<5:25:47, 229.97s/it]"
     ]
    },
    {
     "name": "stdout",
     "output_type": "stream",
     "text": [
      " *** Training Loss: 0.511419415473938, Validation Loss: 0.3265710473060608 *** \n"
     ]
    },
    {
     "name": "stderr",
     "output_type": "stream",
     "text": [
      " 16%|████████████▏                                                               | 16/100 [1:01:16<5:22:00, 230.00s/it]"
     ]
    },
    {
     "name": "stdout",
     "output_type": "stream",
     "text": [
      " *** Training Loss: 0.48416420817375183, Validation Loss: 0.30666545033454895 *** \n"
     ]
    },
    {
     "name": "stderr",
     "output_type": "stream",
     "text": [
      " 17%|████████████▉                                                               | 17/100 [1:05:06<5:18:11, 230.02s/it]"
     ]
    },
    {
     "name": "stdout",
     "output_type": "stream",
     "text": [
      " *** Training Loss: 0.46092191338539124, Validation Loss: 0.2886303663253784 *** \n"
     ]
    },
    {
     "name": "stderr",
     "output_type": "stream",
     "text": [
      " 18%|█████████████▋                                                              | 18/100 [1:08:56<5:14:22, 230.03s/it]"
     ]
    },
    {
     "name": "stdout",
     "output_type": "stream",
     "text": [
      " *** Training Loss: 0.4394306540489197, Validation Loss: 0.27259624004364014 *** \n"
     ]
    },
    {
     "name": "stderr",
     "output_type": "stream",
     "text": [
      " 19%|██████████████▍                                                             | 19/100 [1:12:46<5:10:29, 230.00s/it]"
     ]
    },
    {
     "name": "stdout",
     "output_type": "stream",
     "text": [
      " *** Training Loss: 0.4186980426311493, Validation Loss: 0.25878649950027466 *** \n"
     ]
    },
    {
     "name": "stderr",
     "output_type": "stream",
     "text": [
      " 20%|███████████████▏                                                            | 20/100 [1:16:36<5:06:34, 229.93s/it]"
     ]
    },
    {
     "name": "stdout",
     "output_type": "stream",
     "text": [
      " *** Training Loss: 0.4028136134147644, Validation Loss: 0.24587440490722656 *** \n"
     ]
    },
    {
     "name": "stderr",
     "output_type": "stream",
     "text": [
      " 21%|███████████████▉                                                            | 21/100 [1:20:26<5:02:39, 229.87s/it]"
     ]
    },
    {
     "name": "stdout",
     "output_type": "stream",
     "text": [
      " *** Training Loss: 0.3857629895210266, Validation Loss: 0.23416763544082642 *** \n"
     ]
    },
    {
     "name": "stderr",
     "output_type": "stream",
     "text": [
      " 22%|████████████████▋                                                           | 22/100 [1:24:16<4:58:50, 229.88s/it]"
     ]
    },
    {
     "name": "stdout",
     "output_type": "stream",
     "text": [
      " *** Training Loss: 0.37045806646347046, Validation Loss: 0.2235272377729416 *** \n"
     ]
    },
    {
     "name": "stderr",
     "output_type": "stream",
     "text": [
      " 23%|█████████████████▍                                                          | 23/100 [1:28:06<4:55:01, 229.89s/it]"
     ]
    },
    {
     "name": "stdout",
     "output_type": "stream",
     "text": [
      " *** Training Loss: 0.35596802830696106, Validation Loss: 0.21383045613765717 *** \n"
     ]
    },
    {
     "name": "stderr",
     "output_type": "stream",
     "text": [
      " 24%|██████████████████▏                                                         | 24/100 [1:31:56<4:51:14, 229.93s/it]"
     ]
    },
    {
     "name": "stdout",
     "output_type": "stream",
     "text": [
      " *** Training Loss: 0.344204843044281, Validation Loss: 0.20492100715637207 *** \n"
     ]
    },
    {
     "name": "stderr",
     "output_type": "stream",
     "text": [
      " 25%|███████████████████                                                         | 25/100 [1:35:46<4:47:24, 229.92s/it]"
     ]
    },
    {
     "name": "stdout",
     "output_type": "stream",
     "text": [
      " *** Training Loss: 0.3320154547691345, Validation Loss: 0.19711367785930634 *** \n"
     ]
    },
    {
     "name": "stderr",
     "output_type": "stream",
     "text": [
      " 26%|███████████████████▊                                                        | 26/100 [1:39:35<4:43:30, 229.88s/it]"
     ]
    },
    {
     "name": "stdout",
     "output_type": "stream",
     "text": [
      " *** Training Loss: 0.3212422728538513, Validation Loss: 0.18957377970218658 *** \n"
     ]
    },
    {
     "name": "stderr",
     "output_type": "stream",
     "text": [
      " 27%|████████████████████▌                                                       | 27/100 [1:43:25<4:39:38, 229.84s/it]"
     ]
    },
    {
     "name": "stdout",
     "output_type": "stream",
     "text": [
      " *** Training Loss: 0.3107600212097168, Validation Loss: 0.18257321417331696 *** \n"
     ]
    },
    {
     "name": "stderr",
     "output_type": "stream",
     "text": [
      " 28%|█████████████████████▎                                                      | 28/100 [1:47:15<4:35:46, 229.82s/it]"
     ]
    },
    {
     "name": "stdout",
     "output_type": "stream",
     "text": [
      " *** Training Loss: 0.30103757977485657, Validation Loss: 0.17606279253959656 *** \n"
     ]
    },
    {
     "name": "stderr",
     "output_type": "stream",
     "text": [
      " 29%|██████████████████████                                                      | 29/100 [1:51:05<4:32:00, 229.86s/it]"
     ]
    },
    {
     "name": "stdout",
     "output_type": "stream",
     "text": [
      " *** Training Loss: 0.2923266291618347, Validation Loss: 0.1699918806552887 *** \n"
     ]
    },
    {
     "name": "stderr",
     "output_type": "stream",
     "text": [
      " 30%|██████████████████████▊                                                     | 30/100 [1:54:55<4:28:12, 229.89s/it]"
     ]
    },
    {
     "name": "stdout",
     "output_type": "stream",
     "text": [
      " *** Training Loss: 0.2841993272304535, Validation Loss: 0.1643676906824112 *** \n"
     ]
    },
    {
     "name": "stderr",
     "output_type": "stream",
     "text": [
      " 31%|███████████████████████▌                                                    | 31/100 [1:58:45<4:24:20, 229.86s/it]"
     ]
    },
    {
     "name": "stdout",
     "output_type": "stream",
     "text": [
      " *** Training Loss: 0.27612343430519104, Validation Loss: 0.1593925654888153 *** \n"
     ]
    },
    {
     "name": "stderr",
     "output_type": "stream",
     "text": [
      " 32%|████████████████████████▎                                                   | 32/100 [2:02:36<4:21:07, 230.40s/it]"
     ]
    },
    {
     "name": "stdout",
     "output_type": "stream",
     "text": [
      " *** Training Loss: 0.26845893263816833, Validation Loss: 0.1544209122657776 *** \n"
     ]
    },
    {
     "name": "stderr",
     "output_type": "stream",
     "text": [
      " 33%|█████████████████████████                                                   | 33/100 [2:06:27<4:17:22, 230.48s/it]"
     ]
    },
    {
     "name": "stdout",
     "output_type": "stream",
     "text": [
      " *** Training Loss: 0.2614477872848511, Validation Loss: 0.1497509926557541 *** \n"
     ]
    },
    {
     "name": "stderr",
     "output_type": "stream",
     "text": [
      " 34%|█████████████████████████▊                                                  | 34/100 [2:10:20<4:14:28, 231.34s/it]"
     ]
    },
    {
     "name": "stdout",
     "output_type": "stream",
     "text": [
      " *** Training Loss: 0.25506195425987244, Validation Loss: 0.14537298679351807 *** \n"
     ]
    },
    {
     "name": "stderr",
     "output_type": "stream",
     "text": [
      " 35%|██████████████████████████▌                                                 | 35/100 [2:14:16<4:12:08, 232.74s/it]"
     ]
    },
    {
     "name": "stdout",
     "output_type": "stream",
     "text": [
      " *** Training Loss: 0.2508266568183899, Validation Loss: 0.14135964214801788 *** \n"
     ]
    },
    {
     "name": "stderr",
     "output_type": "stream",
     "text": [
      " 36%|███████████████████████████▎                                                | 36/100 [2:18:07<4:07:46, 232.29s/it]"
     ]
    },
    {
     "name": "stdout",
     "output_type": "stream",
     "text": [
      " *** Training Loss: 0.24413293600082397, Validation Loss: 0.13744708895683289 *** \n"
     ]
    },
    {
     "name": "stderr",
     "output_type": "stream",
     "text": [
      " 37%|████████████████████████████                                                | 37/100 [2:21:58<4:03:25, 231.84s/it]"
     ]
    },
    {
     "name": "stdout",
     "output_type": "stream",
     "text": [
      " *** Training Loss: 0.238790825009346, Validation Loss: 0.13376830518245697 *** \n"
     ]
    },
    {
     "name": "stderr",
     "output_type": "stream",
     "text": [
      " 38%|████████████████████████████▉                                               | 38/100 [2:25:49<3:59:10, 231.45s/it]"
     ]
    },
    {
     "name": "stdout",
     "output_type": "stream",
     "text": [
      " *** Training Loss: 0.23311325907707214, Validation Loss: 0.13026869297027588 *** \n"
     ]
    },
    {
     "name": "stderr",
     "output_type": "stream",
     "text": [
      " 39%|█████████████████████████████▋                                              | 39/100 [2:29:39<3:55:02, 231.19s/it]"
     ]
    },
    {
     "name": "stdout",
     "output_type": "stream",
     "text": [
      " *** Training Loss: 0.22765295207500458, Validation Loss: 0.1269286572933197 *** \n"
     ]
    },
    {
     "name": "stderr",
     "output_type": "stream",
     "text": [
      " 40%|██████████████████████████████▍                                             | 40/100 [2:33:30<3:50:59, 231.00s/it]"
     ]
    },
    {
     "name": "stdout",
     "output_type": "stream",
     "text": [
      " *** Training Loss: 0.2229723185300827, Validation Loss: 0.12376007437705994 *** \n"
     ]
    },
    {
     "name": "stderr",
     "output_type": "stream",
     "text": [
      " 41%|███████████████████████████████▏                                            | 41/100 [2:37:21<3:47:01, 230.87s/it]"
     ]
    },
    {
     "name": "stdout",
     "output_type": "stream",
     "text": [
      " *** Training Loss: 0.21860122680664062, Validation Loss: 0.12080744653940201 *** \n"
     ]
    },
    {
     "name": "stderr",
     "output_type": "stream",
     "text": [
      " 42%|███████████████████████████████▉                                            | 42/100 [2:41:11<3:43:07, 230.82s/it]"
     ]
    },
    {
     "name": "stdout",
     "output_type": "stream",
     "text": [
      " *** Training Loss: 0.21403947472572327, Validation Loss: 0.11793435364961624 *** \n"
     ]
    },
    {
     "name": "stderr",
     "output_type": "stream",
     "text": [
      " 43%|████████████████████████████████▋                                           | 43/100 [2:45:02<3:39:13, 230.77s/it]"
     ]
    },
    {
     "name": "stdout",
     "output_type": "stream",
     "text": [
      " *** Training Loss: 0.20931825041770935, Validation Loss: 0.11523927003145218 *** \n"
     ]
    },
    {
     "name": "stderr",
     "output_type": "stream",
     "text": [
      " 44%|█████████████████████████████████▍                                          | 44/100 [2:48:53<3:35:23, 230.78s/it]"
     ]
    },
    {
     "name": "stdout",
     "output_type": "stream",
     "text": [
      " *** Training Loss: 0.20532584190368652, Validation Loss: 0.11262050271034241 *** \n"
     ]
    },
    {
     "name": "stderr",
     "output_type": "stream",
     "text": [
      " 45%|██████████████████████████████████▏                                         | 45/100 [2:52:43<3:31:30, 230.73s/it]"
     ]
    },
    {
     "name": "stdout",
     "output_type": "stream",
     "text": [
      " *** Training Loss: 0.2015000432729721, Validation Loss: 0.11012173444032669 *** \n"
     ]
    },
    {
     "name": "stderr",
     "output_type": "stream",
     "text": [
      " 46%|██████████████████████████████████▉                                         | 46/100 [2:56:34<3:27:34, 230.65s/it]"
     ]
    },
    {
     "name": "stdout",
     "output_type": "stream",
     "text": [
      " *** Training Loss: 0.1974240094423294, Validation Loss: 0.10778305679559708 *** \n"
     ]
    },
    {
     "name": "stderr",
     "output_type": "stream",
     "text": [
      " 47%|███████████████████████████████████▋                                        | 47/100 [3:00:24<3:23:42, 230.60s/it]"
     ]
    },
    {
     "name": "stdout",
     "output_type": "stream",
     "text": [
      " *** Training Loss: 0.193956196308136, Validation Loss: 0.10558220744132996 *** \n"
     ]
    },
    {
     "name": "stderr",
     "output_type": "stream",
     "text": [
      " 48%|████████████████████████████████████▍                                       | 48/100 [3:04:15<3:19:51, 230.60s/it]"
     ]
    },
    {
     "name": "stdout",
     "output_type": "stream",
     "text": [
      " *** Training Loss: 0.19047728180885315, Validation Loss: 0.10338336229324341 *** \n"
     ]
    },
    {
     "name": "stderr",
     "output_type": "stream",
     "text": [
      " 49%|█████████████████████████████████████▏                                      | 49/100 [3:08:05<3:16:00, 230.60s/it]"
     ]
    },
    {
     "name": "stdout",
     "output_type": "stream",
     "text": [
      " *** Training Loss: 0.18682974576950073, Validation Loss: 0.10127943754196167 *** \n"
     ]
    },
    {
     "name": "stderr",
     "output_type": "stream",
     "text": [
      " 50%|██████████████████████████████████████                                      | 50/100 [3:11:56<3:12:09, 230.59s/it]"
     ]
    },
    {
     "name": "stdout",
     "output_type": "stream",
     "text": [
      " *** Training Loss: 0.18333913385868073, Validation Loss: 0.09925385564565659 *** \n"
     ]
    },
    {
     "name": "stderr",
     "output_type": "stream",
     "text": [
      " 51%|██████████████████████████████████████▊                                     | 51/100 [3:15:47<3:08:19, 230.61s/it]"
     ]
    },
    {
     "name": "stdout",
     "output_type": "stream",
     "text": [
      " *** Training Loss: 0.18041545152664185, Validation Loss: 0.09734829515218735 *** \n"
     ]
    },
    {
     "name": "stderr",
     "output_type": "stream",
     "text": [
      " 52%|███████████████████████████████████████▌                                    | 52/100 [3:19:37<3:04:27, 230.57s/it]"
     ]
    },
    {
     "name": "stdout",
     "output_type": "stream",
     "text": [
      " *** Training Loss: 0.1774851679801941, Validation Loss: 0.09548080712556839 *** \n"
     ]
    },
    {
     "name": "stderr",
     "output_type": "stream",
     "text": [
      " 53%|████████████████████████████████████████▎                                   | 53/100 [3:23:28<3:00:34, 230.53s/it]"
     ]
    },
    {
     "name": "stdout",
     "output_type": "stream",
     "text": [
      " *** Training Loss: 0.1742779016494751, Validation Loss: 0.09367997944355011 *** \n"
     ]
    },
    {
     "name": "stderr",
     "output_type": "stream",
     "text": [
      " 54%|█████████████████████████████████████████                                   | 54/100 [3:27:18<2:56:44, 230.54s/it]"
     ]
    },
    {
     "name": "stdout",
     "output_type": "stream",
     "text": [
      " *** Training Loss: 0.171409472823143, Validation Loss: 0.09194566309452057 *** \n"
     ]
    },
    {
     "name": "stderr",
     "output_type": "stream",
     "text": [
      " 55%|█████████████████████████████████████████▊                                  | 55/100 [3:31:09<2:52:55, 230.56s/it]"
     ]
    },
    {
     "name": "stdout",
     "output_type": "stream",
     "text": [
      " *** Training Loss: 0.1689562052488327, Validation Loss: 0.09027442336082458 *** \n"
     ]
    },
    {
     "name": "stderr",
     "output_type": "stream",
     "text": [
      " 56%|██████████████████████████████████████████▌                                 | 56/100 [3:34:59<2:49:02, 230.51s/it]"
     ]
    },
    {
     "name": "stdout",
     "output_type": "stream",
     "text": [
      " *** Training Loss: 0.16634827852249146, Validation Loss: 0.08866293728351593 *** \n"
     ]
    },
    {
     "name": "stderr",
     "output_type": "stream",
     "text": [
      " 57%|███████████████████████████████████████████▎                                | 57/100 [3:38:49<2:45:08, 230.44s/it]"
     ]
    },
    {
     "name": "stdout",
     "output_type": "stream",
     "text": [
      " *** Training Loss: 0.16376975178718567, Validation Loss: 0.08710773289203644 *** \n"
     ]
    },
    {
     "name": "stderr",
     "output_type": "stream",
     "text": [
      " 58%|████████████████████████████████████████████                                | 58/100 [3:42:40<2:41:17, 230.43s/it]"
     ]
    },
    {
     "name": "stdout",
     "output_type": "stream",
     "text": [
      " *** Training Loss: 0.16107791662216187, Validation Loss: 0.0856069028377533 *** \n"
     ]
    },
    {
     "name": "stderr",
     "output_type": "stream",
     "text": [
      " 59%|████████████████████████████████████████████▊                               | 59/100 [3:46:30<2:37:27, 230.42s/it]"
     ]
    },
    {
     "name": "stdout",
     "output_type": "stream",
     "text": [
      " *** Training Loss: 0.15878647565841675, Validation Loss: 0.08418556302785873 *** \n"
     ]
    },
    {
     "name": "stderr",
     "output_type": "stream",
     "text": [
      " 60%|█████████████████████████████████████████████▌                              | 60/100 [3:50:21<2:33:38, 230.47s/it]"
     ]
    },
    {
     "name": "stdout",
     "output_type": "stream",
     "text": [
      " *** Training Loss: 0.15638013184070587, Validation Loss: 0.08280767500400543 *** \n"
     ]
    },
    {
     "name": "stderr",
     "output_type": "stream",
     "text": [
      " 61%|██████████████████████████████████████████████▎                             | 61/100 [3:54:11<2:29:48, 230.48s/it]"
     ]
    },
    {
     "name": "stdout",
     "output_type": "stream",
     "text": [
      " *** Training Loss: 0.1543114334344864, Validation Loss: 0.0814720094203949 *** \n"
     ]
    },
    {
     "name": "stderr",
     "output_type": "stream",
     "text": [
      " 62%|███████████████████████████████████████████████                             | 62/100 [3:58:02<2:25:58, 230.49s/it]"
     ]
    },
    {
     "name": "stdout",
     "output_type": "stream",
     "text": [
      " *** Training Loss: 0.15206606686115265, Validation Loss: 0.08015795052051544 *** \n"
     ]
    },
    {
     "name": "stderr",
     "output_type": "stream",
     "text": [
      " 63%|███████████████████████████████████████████████▉                            | 63/100 [4:01:53<2:22:11, 230.57s/it]"
     ]
    },
    {
     "name": "stdout",
     "output_type": "stream",
     "text": [
      " *** Training Loss: 0.14995893836021423, Validation Loss: 0.07889381796121597 *** \n"
     ]
    },
    {
     "name": "stderr",
     "output_type": "stream",
     "text": [
      " 64%|████████████████████████████████████████████████▋                           | 64/100 [4:05:43<2:18:20, 230.56s/it]"
     ]
    },
    {
     "name": "stdout",
     "output_type": "stream",
     "text": [
      " *** Training Loss: 0.14790207147598267, Validation Loss: 0.07766124606132507 *** \n"
     ]
    },
    {
     "name": "stderr",
     "output_type": "stream",
     "text": [
      " 65%|█████████████████████████████████████████████████▍                          | 65/100 [4:09:34<2:14:27, 230.51s/it]"
     ]
    },
    {
     "name": "stdout",
     "output_type": "stream",
     "text": [
      " *** Training Loss: 0.14580374956130981, Validation Loss: 0.07646646350622177 *** \n"
     ]
    },
    {
     "name": "stderr",
     "output_type": "stream",
     "text": [
      " 66%|██████████████████████████████████████████████████▏                         | 66/100 [4:13:24<2:10:35, 230.45s/it]"
     ]
    },
    {
     "name": "stdout",
     "output_type": "stream",
     "text": [
      " *** Training Loss: 0.14396429061889648, Validation Loss: 0.07531872391700745 *** \n"
     ]
    },
    {
     "name": "stderr",
     "output_type": "stream",
     "text": [
      " 67%|██████████████████████████████████████████████████▉                         | 67/100 [4:17:14<2:06:44, 230.44s/it]"
     ]
    },
    {
     "name": "stdout",
     "output_type": "stream",
     "text": [
      " *** Training Loss: 0.14205054938793182, Validation Loss: 0.07423669099807739 *** \n"
     ]
    },
    {
     "name": "stderr",
     "output_type": "stream",
     "text": [
      " 68%|███████████████████████████████████████████████████▋                        | 68/100 [4:21:05<2:02:53, 230.43s/it]"
     ]
    },
    {
     "name": "stdout",
     "output_type": "stream",
     "text": [
      " *** Training Loss: 0.140310600399971, Validation Loss: 0.0731523185968399 *** \n"
     ]
    },
    {
     "name": "stderr",
     "output_type": "stream",
     "text": [
      " 69%|████████████████████████████████████████████████████▍                       | 69/100 [4:24:55<1:59:02, 230.40s/it]"
     ]
    },
    {
     "name": "stdout",
     "output_type": "stream",
     "text": [
      " *** Training Loss: 0.1384526789188385, Validation Loss: 0.07209214568138123 *** \n"
     ]
    },
    {
     "name": "stderr",
     "output_type": "stream",
     "text": [
      " 70%|█████████████████████████████████████████████████████▏                      | 70/100 [4:28:45<1:55:10, 230.37s/it]"
     ]
    },
    {
     "name": "stdout",
     "output_type": "stream",
     "text": [
      " *** Training Loss: 0.1367044299840927, Validation Loss: 0.07107096165418625 *** \n"
     ]
    },
    {
     "name": "stderr",
     "output_type": "stream",
     "text": [
      " 71%|█████████████████████████████████████████████████████▉                      | 71/100 [4:32:36<1:51:19, 230.33s/it]"
     ]
    },
    {
     "name": "stdout",
     "output_type": "stream",
     "text": [
      " *** Training Loss: 0.13511711359024048, Validation Loss: 0.07017570734024048 *** \n"
     ]
    },
    {
     "name": "stderr",
     "output_type": "stream",
     "text": [
      " 72%|██████████████████████████████████████████████████████▋                     | 72/100 [4:36:26<1:47:27, 230.28s/it]"
     ]
    },
    {
     "name": "stdout",
     "output_type": "stream",
     "text": [
      " *** Training Loss: 0.13340389728546143, Validation Loss: 0.06920325756072998 *** \n"
     ]
    },
    {
     "name": "stderr",
     "output_type": "stream",
     "text": [
      " 73%|███████████████████████████████████████████████████████▍                    | 73/100 [4:40:16<1:43:38, 230.31s/it]"
     ]
    },
    {
     "name": "stdout",
     "output_type": "stream",
     "text": [
      " *** Training Loss: 0.13165141642093658, Validation Loss: 0.06825527548789978 *** \n"
     ]
    },
    {
     "name": "stderr",
     "output_type": "stream",
     "text": [
      " 74%|████████████████████████████████████████████████████████▏                   | 74/100 [4:44:06<1:39:48, 230.33s/it]"
     ]
    },
    {
     "name": "stdout",
     "output_type": "stream",
     "text": [
      " *** Training Loss: 0.13026899099349976, Validation Loss: 0.06733804196119308 *** \n"
     ]
    },
    {
     "name": "stderr",
     "output_type": "stream",
     "text": [
      " 75%|█████████████████████████████████████████████████████████                   | 75/100 [4:47:57<1:35:57, 230.31s/it]"
     ]
    },
    {
     "name": "stdout",
     "output_type": "stream",
     "text": [
      " *** Training Loss: 0.12870880961418152, Validation Loss: 0.06644117087125778 *** \n"
     ]
    },
    {
     "name": "stderr",
     "output_type": "stream",
     "text": [
      " 76%|█████████████████████████████████████████████████████████▊                  | 76/100 [4:51:47<1:32:07, 230.31s/it]"
     ]
    },
    {
     "name": "stdout",
     "output_type": "stream",
     "text": [
      " *** Training Loss: 0.1272018998861313, Validation Loss: 0.06557318568229675 *** \n"
     ]
    },
    {
     "name": "stderr",
     "output_type": "stream",
     "text": [
      " 77%|██████████████████████████████████████████████████████████▌                 | 77/100 [4:55:37<1:28:17, 230.31s/it]"
     ]
    },
    {
     "name": "stdout",
     "output_type": "stream",
     "text": [
      " *** Training Loss: 0.1257663071155548, Validation Loss: 0.06472476571798325 *** \n"
     ]
    },
    {
     "name": "stderr",
     "output_type": "stream",
     "text": [
      " 78%|███████████████████████████████████████████████████████████▎                | 78/100 [4:59:28<1:24:26, 230.29s/it]"
     ]
    },
    {
     "name": "stdout",
     "output_type": "stream",
     "text": [
      " *** Training Loss: 0.12433979660272598, Validation Loss: 0.06389521062374115 *** \n"
     ]
    },
    {
     "name": "stderr",
     "output_type": "stream",
     "text": [
      " 79%|████████████████████████████████████████████████████████████                | 79/100 [5:03:18<1:20:36, 230.30s/it]"
     ]
    },
    {
     "name": "stdout",
     "output_type": "stream",
     "text": [
      " *** Training Loss: 0.12304466962814331, Validation Loss: 0.06309463083744049 *** \n"
     ]
    },
    {
     "name": "stderr",
     "output_type": "stream",
     "text": [
      " 80%|████████████████████████████████████████████████████████████▊               | 80/100 [5:07:08<1:16:46, 230.31s/it]"
     ]
    },
    {
     "name": "stdout",
     "output_type": "stream",
     "text": [
      " *** Training Loss: 0.12166056782007217, Validation Loss: 0.06230597943067551 *** \n"
     ]
    },
    {
     "name": "stderr",
     "output_type": "stream",
     "text": [
      " 81%|█████████████████████████████████████████████████████████████▌              | 81/100 [5:10:58<1:12:55, 230.27s/it]"
     ]
    },
    {
     "name": "stdout",
     "output_type": "stream",
     "text": [
      " *** Training Loss: 0.1202545240521431, Validation Loss: 0.06153702735900879 *** \n"
     ]
    },
    {
     "name": "stderr",
     "output_type": "stream",
     "text": [
      " 82%|██████████████████████████████████████████████████████████████▎             | 82/100 [5:14:49<1:09:04, 230.26s/it]"
     ]
    },
    {
     "name": "stdout",
     "output_type": "stream",
     "text": [
      " *** Training Loss: 0.11909465491771698, Validation Loss: 0.060786619782447815 *** \n"
     ]
    },
    {
     "name": "stderr",
     "output_type": "stream",
     "text": [
      " 83%|███████████████████████████████████████████████████████████████             | 83/100 [5:18:39<1:05:14, 230.25s/it]"
     ]
    },
    {
     "name": "stdout",
     "output_type": "stream",
     "text": [
      " *** Training Loss: 0.11780574172735214, Validation Loss: 0.060054268687963486 *** \n"
     ]
    },
    {
     "name": "stderr",
     "output_type": "stream",
     "text": [
      " 84%|███████████████████████████████████████████████████████████████▊            | 84/100 [5:22:29<1:01:23, 230.21s/it]"
     ]
    },
    {
     "name": "stdout",
     "output_type": "stream",
     "text": [
      " *** Training Loss: 0.11662407964468002, Validation Loss: 0.05933934822678566 *** \n"
     ]
    },
    {
     "name": "stderr",
     "output_type": "stream",
     "text": [
      " 85%|██████████████████████████████████████████████████████████████████▎           | 85/100 [5:26:19<57:32, 230.18s/it]"
     ]
    },
    {
     "name": "stdout",
     "output_type": "stream",
     "text": [
      " *** Training Loss: 0.1153898686170578, Validation Loss: 0.058658625930547714 *** \n"
     ]
    },
    {
     "name": "stderr",
     "output_type": "stream",
     "text": [
      " 86%|███████████████████████████████████████████████████████████████████           | 86/100 [5:30:09<53:42, 230.16s/it]"
     ]
    },
    {
     "name": "stdout",
     "output_type": "stream",
     "text": [
      " *** Training Loss: 0.11418279260396957, Validation Loss: 0.05797886475920677 *** \n"
     ]
    },
    {
     "name": "stderr",
     "output_type": "stream",
     "text": [
      " 87%|███████████████████████████████████████████████████████████████████▊          | 87/100 [5:33:59<49:51, 230.09s/it]"
     ]
    },
    {
     "name": "stdout",
     "output_type": "stream",
     "text": [
      " *** Training Loss: 0.11312844604253769, Validation Loss: 0.057321660220623016 *** \n"
     ]
    },
    {
     "name": "stderr",
     "output_type": "stream",
     "text": [
      " 88%|████████████████████████████████████████████████████████████████████▋         | 88/100 [5:37:49<46:00, 230.07s/it]"
     ]
    },
    {
     "name": "stdout",
     "output_type": "stream",
     "text": [
      " *** Training Loss: 0.11191843450069427, Validation Loss: 0.056673914194107056 *** \n"
     ]
    },
    {
     "name": "stderr",
     "output_type": "stream",
     "text": [
      " 89%|█████████████████████████████████████████████████████████████████████▍        | 89/100 [5:41:39<42:10, 230.08s/it]"
     ]
    },
    {
     "name": "stdout",
     "output_type": "stream",
     "text": [
      " *** Training Loss: 0.1107947900891304, Validation Loss: 0.056038156151771545 *** \n"
     ]
    },
    {
     "name": "stderr",
     "output_type": "stream",
     "text": [
      " 90%|██████████████████████████████████████████████████████████████████████▏       | 90/100 [5:45:29<38:20, 230.10s/it]"
     ]
    },
    {
     "name": "stdout",
     "output_type": "stream",
     "text": [
      " *** Training Loss: 0.10979539901018143, Validation Loss: 0.05541559308767319 *** \n"
     ]
    },
    {
     "name": "stderr",
     "output_type": "stream",
     "text": [
      " 91%|██████████████████████████████████████████████████████████████████████▉       | 91/100 [5:49:19<34:30, 230.10s/it]"
     ]
    },
    {
     "name": "stdout",
     "output_type": "stream",
     "text": [
      " *** Training Loss: 0.10873531550168991, Validation Loss: 0.0548076368868351 *** \n"
     ]
    },
    {
     "name": "stderr",
     "output_type": "stream",
     "text": [
      " 92%|███████████████████████████████████████████████████████████████████████▊      | 92/100 [5:53:10<30:40, 230.10s/it]"
     ]
    },
    {
     "name": "stdout",
     "output_type": "stream",
     "text": [
      " *** Training Loss: 0.1075994223356247, Validation Loss: 0.05422225594520569 *** \n"
     ]
    },
    {
     "name": "stderr",
     "output_type": "stream",
     "text": [
      " 93%|████████████████████████████████████████████████████████████████████████▌     | 93/100 [5:57:00<26:50, 230.10s/it]"
     ]
    },
    {
     "name": "stdout",
     "output_type": "stream",
     "text": [
      " *** Training Loss: 0.1066657155752182, Validation Loss: 0.053646501153707504 *** \n"
     ]
    },
    {
     "name": "stderr",
     "output_type": "stream",
     "text": [
      " 94%|█████████████████████████████████████████████████████████████████████████▎    | 94/100 [6:00:50<23:00, 230.12s/it]"
     ]
    },
    {
     "name": "stdout",
     "output_type": "stream",
     "text": [
      " *** Training Loss: 0.10558240115642548, Validation Loss: 0.053075797855854034 *** \n"
     ]
    },
    {
     "name": "stderr",
     "output_type": "stream",
     "text": [
      " 95%|██████████████████████████████████████████████████████████████████████████    | 95/100 [6:04:40<19:10, 230.15s/it]"
     ]
    },
    {
     "name": "stdout",
     "output_type": "stream",
     "text": [
      " *** Training Loss: 0.10454925149679184, Validation Loss: 0.052518270909786224 *** \n"
     ]
    },
    {
     "name": "stderr",
     "output_type": "stream",
     "text": [
      " 96%|██████████████████████████████████████████████████████████████████████████▉   | 96/100 [6:08:33<15:23, 230.85s/it]"
     ]
    },
    {
     "name": "stdout",
     "output_type": "stream",
     "text": [
      " *** Training Loss: 0.103683702647686, Validation Loss: 0.05198528617620468 *** \n"
     ]
    },
    {
     "name": "stderr",
     "output_type": "stream",
     "text": [
      " 97%|███████████████████████████████████████████████████████████████████████████▋  | 97/100 [6:12:29<11:37, 232.57s/it]"
     ]
    },
    {
     "name": "stdout",
     "output_type": "stream",
     "text": [
      " *** Training Loss: 0.10271152853965759, Validation Loss: 0.05144943669438362 *** \n"
     ]
    },
    {
     "name": "stderr",
     "output_type": "stream",
     "text": [
      " 98%|████████████████████████████████████████████████████████████████████████████▍ | 98/100 [6:16:26<07:47, 233.99s/it]"
     ]
    },
    {
     "name": "stdout",
     "output_type": "stream",
     "text": [
      " *** Training Loss: 0.10169506818056107, Validation Loss: 0.05092460662126541 *** \n"
     ]
    },
    {
     "name": "stderr",
     "output_type": "stream",
     "text": [
      " 99%|█████████████████████████████████████████████████████████████████████████████▏| 99/100 [6:20:24<03:55, 235.14s/it]"
     ]
    },
    {
     "name": "stdout",
     "output_type": "stream",
     "text": [
      " *** Training Loss: 0.10069575905799866, Validation Loss: 0.050410255789756775 *** \n"
     ]
    },
    {
     "name": "stderr",
     "output_type": "stream",
     "text": [
      "100%|█████████████████████████████████████████████████████████████████████████████| 100/100 [6:24:22<00:00, 230.62s/it]"
     ]
    },
    {
     "name": "stdout",
     "output_type": "stream",
     "text": [
      " *** Training Loss: 0.09971313178539276, Validation Loss: 0.04990623518824577 *** \n"
     ]
    },
    {
     "name": "stderr",
     "output_type": "stream",
     "text": [
      "\n"
     ]
    }
   ],
   "source": [
    "losses = []\n",
    "for e in tqdm(range(100)):\n",
    "    for x, y in trainloader:\n",
    "        torch.cuda.empty_cache()\n",
    "        x, y = x.to(device), y.to(device)\n",
    "        x = x.float()\n",
    "        \n",
    "        # train step\n",
    "        optimizer.zero_grad()\n",
    "        y_pred = model(x)\n",
    "        l = loss(y_pred, y)\n",
    "        t_l = l.detach().cpu().numpy()\n",
    "        l.backward()\n",
    "        optimizer.step()\n",
    "        \n",
    "        training_losses.append(t_l)\n",
    "        \n",
    "    for i, j in valloader:\n",
    "        # no optim zero grad, step, l.backward\n",
    "        x, y = x.to(device), y.to(device)\n",
    "        x = x.float()\n",
    "        \n",
    "        y_pred = model(x)\n",
    "        ll = loss(y_pred, y)\n",
    "        v_l = ll.detach().cpu().numpy()\n",
    "        \n",
    "        val_losses.append(v_l)\n",
    "        \n",
    "    avg_training_losses.append(np.mean(training_losses))\n",
    "    avg_val_losses.append(np.mean(val_losses))\n",
    "        \n",
    "    print(f' *** Training Loss: {np.mean(training_losses)}, Validation Loss: {np.mean(val_losses)} *** ')"
   ]
  },
  {
   "cell_type": "code",
   "execution_count": 39,
   "id": "cffcc2c5-8500-4e5a-b3a4-8919fb7331e0",
   "metadata": {},
   "outputs": [
    {
     "data": {
      "text/plain": [
       "[<matplotlib.lines.Line2D at 0x193884907f0>]"
      ]
     },
     "execution_count": 39,
     "metadata": {},
     "output_type": "execute_result"
    },
    {
     "data": {
      "image/png": "[encoded data removed]",
      "text/plain": [
       "<Figure size 432x288 with 1 Axes>"
      ]
     },
     "metadata": {
      "needs_background": "light"
     },
     "output_type": "display_data"
    }
   ],
   "source": [
    "plt.plot(avg_training_losses)\n",
    "plt.plot(avg_val_losses)"
   ]
  },
  {
   "cell_type": "code",
   "execution_count": 40,
   "id": "3ee17ee9-45f0-447a-88ba-8b4836396b2f",
   "metadata": {},
   "outputs": [
    {
     "data": {
      "text/plain": [
       "ViT(\n",
       "  (patch_encoding): Conv2d(3, 768, kernel_size=(16, 16), stride=(16, 16))\n",
       "  (positional_embedding): PositionalEmbedding1D()\n",
       "  (Transformer): Transformer(\n",
       "    (blocks): ModuleList(\n",
       "      (0): Block(\n",
       "        (norm1): LayerNorm((768,), eps=1e-06, elementwise_affine=True)\n",
       "        (MHSA): MHSA(\n",
       "          (project): Linear(in_features=768, out_features=768, bias=True)\n",
       "        )\n",
       "        (norm2): LayerNorm((768,), eps=1e-06, elementwise_affine=True)\n",
       "        (mlp_channels): MLP(\n",
       "          (fc1): Linear(in_features=768, out_features=3072, bias=True)\n",
       "          (fc2): Linear(in_features=3072, out_features=768, bias=True)\n",
       "        )\n",
       "      )\n",
       "      (1): Block(\n",
       "        (norm1): LayerNorm((768,), eps=1e-06, elementwise_affine=True)\n",
       "        (MHSA): MHSA(\n",
       "          (project): Linear(in_features=768, out_features=768, bias=True)\n",
       "        )\n",
       "        (norm2): LayerNorm((768,), eps=1e-06, elementwise_affine=True)\n",
       "        (mlp_channels): MLP(\n",
       "          (fc1): Linear(in_features=768, out_features=3072, bias=True)\n",
       "          (fc2): Linear(in_features=3072, out_features=768, bias=True)\n",
       "        )\n",
       "      )\n",
       "      (2): Block(\n",
       "        (norm1): LayerNorm((768,), eps=1e-06, elementwise_affine=True)\n",
       "        (MHSA): MHSA(\n",
       "          (project): Linear(in_features=768, out_features=768, bias=True)\n",
       "        )\n",
       "        (norm2): LayerNorm((768,), eps=1e-06, elementwise_affine=True)\n",
       "        (mlp_channels): MLP(\n",
       "          (fc1): Linear(in_features=768, out_features=3072, bias=True)\n",
       "          (fc2): Linear(in_features=3072, out_features=768, bias=True)\n",
       "        )\n",
       "      )\n",
       "      (3): Block(\n",
       "        (norm1): LayerNorm((768,), eps=1e-06, elementwise_affine=True)\n",
       "        (MHSA): MHSA(\n",
       "          (project): Linear(in_features=768, out_features=768, bias=True)\n",
       "        )\n",
       "        (norm2): LayerNorm((768,), eps=1e-06, elementwise_affine=True)\n",
       "        (mlp_channels): MLP(\n",
       "          (fc1): Linear(in_features=768, out_features=3072, bias=True)\n",
       "          (fc2): Linear(in_features=3072, out_features=768, bias=True)\n",
       "        )\n",
       "      )\n",
       "      (4): Block(\n",
       "        (norm1): LayerNorm((768,), eps=1e-06, elementwise_affine=True)\n",
       "        (MHSA): MHSA(\n",
       "          (project): Linear(in_features=768, out_features=768, bias=True)\n",
       "        )\n",
       "        (norm2): LayerNorm((768,), eps=1e-06, elementwise_affine=True)\n",
       "        (mlp_channels): MLP(\n",
       "          (fc1): Linear(in_features=768, out_features=3072, bias=True)\n",
       "          (fc2): Linear(in_features=3072, out_features=768, bias=True)\n",
       "        )\n",
       "      )\n",
       "      (5): Block(\n",
       "        (norm1): LayerNorm((768,), eps=1e-06, elementwise_affine=True)\n",
       "        (MHSA): MHSA(\n",
       "          (project): Linear(in_features=768, out_features=768, bias=True)\n",
       "        )\n",
       "        (norm2): LayerNorm((768,), eps=1e-06, elementwise_affine=True)\n",
       "        (mlp_channels): MLP(\n",
       "          (fc1): Linear(in_features=768, out_features=3072, bias=True)\n",
       "          (fc2): Linear(in_features=3072, out_features=768, bias=True)\n",
       "        )\n",
       "      )\n",
       "      (6): Block(\n",
       "        (norm1): LayerNorm((768,), eps=1e-06, elementwise_affine=True)\n",
       "        (MHSA): MHSA(\n",
       "          (project): Linear(in_features=768, out_features=768, bias=True)\n",
       "        )\n",
       "        (norm2): LayerNorm((768,), eps=1e-06, elementwise_affine=True)\n",
       "        (mlp_channels): MLP(\n",
       "          (fc1): Linear(in_features=768, out_features=3072, bias=True)\n",
       "          (fc2): Linear(in_features=3072, out_features=768, bias=True)\n",
       "        )\n",
       "      )\n",
       "      (7): Block(\n",
       "        (norm1): LayerNorm((768,), eps=1e-06, elementwise_affine=True)\n",
       "        (MHSA): MHSA(\n",
       "          (project): Linear(in_features=768, out_features=768, bias=True)\n",
       "        )\n",
       "        (norm2): LayerNorm((768,), eps=1e-06, elementwise_affine=True)\n",
       "        (mlp_channels): MLP(\n",
       "          (fc1): Linear(in_features=768, out_features=3072, bias=True)\n",
       "          (fc2): Linear(in_features=3072, out_features=768, bias=True)\n",
       "        )\n",
       "      )\n",
       "      (8): Block(\n",
       "        (norm1): LayerNorm((768,), eps=1e-06, elementwise_affine=True)\n",
       "        (MHSA): MHSA(\n",
       "          (project): Linear(in_features=768, out_features=768, bias=True)\n",
       "        )\n",
       "        (norm2): LayerNorm((768,), eps=1e-06, elementwise_affine=True)\n",
       "        (mlp_channels): MLP(\n",
       "          (fc1): Linear(in_features=768, out_features=3072, bias=True)\n",
       "          (fc2): Linear(in_features=3072, out_features=768, bias=True)\n",
       "        )\n",
       "      )\n",
       "      (9): Block(\n",
       "        (norm1): LayerNorm((768,), eps=1e-06, elementwise_affine=True)\n",
       "        (MHSA): MHSA(\n",
       "          (project): Linear(in_features=768, out_features=768, bias=True)\n",
       "        )\n",
       "        (norm2): LayerNorm((768,), eps=1e-06, elementwise_affine=True)\n",
       "        (mlp_channels): MLP(\n",
       "          (fc1): Linear(in_features=768, out_features=3072, bias=True)\n",
       "          (fc2): Linear(in_features=3072, out_features=768, bias=True)\n",
       "        )\n",
       "      )\n",
       "      (10): Block(\n",
       "        (norm1): LayerNorm((768,), eps=1e-06, elementwise_affine=True)\n",
       "        (MHSA): MHSA(\n",
       "          (project): Linear(in_features=768, out_features=768, bias=True)\n",
       "        )\n",
       "        (norm2): LayerNorm((768,), eps=1e-06, elementwise_affine=True)\n",
       "        (mlp_channels): MLP(\n",
       "          (fc1): Linear(in_features=768, out_features=3072, bias=True)\n",
       "          (fc2): Linear(in_features=3072, out_features=768, bias=True)\n",
       "        )\n",
       "      )\n",
       "      (11): Block(\n",
       "        (norm1): LayerNorm((768,), eps=1e-06, elementwise_affine=True)\n",
       "        (MHSA): MHSA(\n",
       "          (project): Linear(in_features=768, out_features=768, bias=True)\n",
       "        )\n",
       "        (norm2): LayerNorm((768,), eps=1e-06, elementwise_affine=True)\n",
       "        (mlp_channels): MLP(\n",
       "          (fc1): Linear(in_features=768, out_features=3072, bias=True)\n",
       "          (fc2): Linear(in_features=3072, out_features=768, bias=True)\n",
       "        )\n",
       "      )\n",
       "    )\n",
       "  )\n",
       "  (norm): LayerNorm((768,), eps=1e-06, elementwise_affine=True)\n",
       "  (head): Linear(in_features=768, out_features=1000, bias=True)\n",
       ")"
      ]
     },
     "execution_count": 40,
     "metadata": {},
     "output_type": "execute_result"
    }
   ],
   "source": [
    "model.eval()"
   ]
  },
  {
   "cell_type": "code",
   "execution_count": 41,
   "id": "5330c7b6-1015-4188-9622-ab115d54ce98",
   "metadata": {},
   "outputs": [],
   "source": [
    "a, b = [], []\n",
    "\n",
    "for x, y in valloader:\n",
    "    x, y = x.to(device), y.to(device)\n",
    "    x = x.float()\n",
    "    y_pred = model(x)\n",
    "    y_pred, y = y_pred.detach().cpu().numpy(), y.detach().cpu().numpy()\n",
    "    yes, sir = np.argmax(y_pred, axis=1), np.argmax(y, axis=1)\n",
    "    a.append(yes)\n",
    "    b.append(sir)"
   ]
  },
  {
   "cell_type": "code",
   "execution_count": 42,
   "id": "d113edf1-c0e1-4f46-a4c4-a9bddbbea538",
   "metadata": {},
   "outputs": [
    {
     "data": {
      "text/plain": [
       "790"
      ]
     },
     "execution_count": 42,
     "metadata": {},
     "output_type": "execute_result"
    }
   ],
   "source": [
    "len(trainloader)"
   ]
  },
  {
   "cell_type": "code",
   "execution_count": 45,
   "id": "3686d0f0-1508-4ee9-a6df-7608ef36c482",
   "metadata": {},
   "outputs": [
    {
     "data": {
      "text/plain": [
       "88"
      ]
     },
     "execution_count": 45,
     "metadata": {},
     "output_type": "execute_result"
    }
   ],
   "source": [
    "len(valloader)"
   ]
  },
  {
   "cell_type": "code",
   "execution_count": 43,
   "id": "17b9e216-7a15-4ce8-a872-05db026a7384",
   "metadata": {},
   "outputs": [],
   "source": [
    "count = 0\n",
    "for i, j in zip(a, b):\n",
    "    for k, l in zip(i, j):\n",
    "        if k == l:\n",
    "            count += 1"
   ]
  },
  {
   "cell_type": "code",
   "execution_count": 46,
   "id": "bc6cace9-048e-46f2-be89-d7c39afce9ba",
   "metadata": {},
   "outputs": [
    {
     "data": {
      "text/plain": [
       "0.6463068181818182"
      ]
     },
     "execution_count": 46,
     "metadata": {},
     "output_type": "execute_result"
    }
   ],
   "source": [
    "# it overfit\n",
    "count/1408"
   ]
  },
  {
   "cell_type": "markdown",
   "id": "d0f15a07-686b-463b-8c6f-d062f2d9d95d",
   "metadata": {},
   "source": [
    "* yo thats pretty insane for 10 epochs of training wtf\n",
    "* i used a bare minimum cnn architecture and it got 50% accuracy a while ago on this dataset and it trained on 90% 10% and this one trained on 50 50 lmao\n",
    "* this is also highly unoptimized i just did the bare minimum to try to get it to work\n",
    "* its pretty dope how it could learn hella fast from having 1000 num classes parameters tho"
   ]
  },
  {
   "cell_type": "markdown",
   "id": "43172009-3b34-4d5f-8e18-ca69be3cf75f",
   "metadata": {},
   "source": [
    "## to do:\n",
    "#### figure out a cleaner way to load state dict from pretrained weights\n",
    "#### figure out how to fine tune like a non idiot\n",
    "### clean up all code and refactor into clean structure"
   ]
  },
  {
   "cell_type": "code",
   "execution_count": null,
   "id": "02199689-5057-4535-b573-f067ac9badab",
   "metadata": {},
   "outputs": [],
   "source": [
    "# [0, 3, 3, 0, 1, 1, 0, 2, 3, 3, 2, 0, 5, 4, 1, 0]\n",
    "# [0, 3, 3, 1, 0, 1, 5, 2, 2, 2, 3, 0, 1, 4, 1, 0]"
   ]
  },
  {
   "cell_type": "code",
   "execution_count": 47,
   "id": "556dba83-c9c9-46ad-8da4-3f70f740ac76",
   "metadata": {},
   "outputs": [
    {
     "data": {
      "text/plain": [
       "[array([0, 3, 3, 1, 0, 1, 5, 2, 2, 2, 3, 0, 1, 4, 1, 0], dtype=int64),\n",
       " array([5, 0, 0, 3, 2, 3, 4, 0, 5, 4, 3, 0, 5, 5, 4, 1], dtype=int64),\n",
       " array([5, 2, 0, 5, 0, 4, 4, 5, 4, 2, 4, 5, 4, 0, 2, 0], dtype=int64),\n",
       " array([0, 3, 0, 3, 5, 4, 1, 5, 5, 5, 1, 3, 0, 5, 3, 4], dtype=int64),\n",
       " array([4, 2, 3, 2, 0, 5, 1, 0, 4, 3, 5, 1, 2, 3, 5, 0], dtype=int64),\n",
       " array([2, 1, 0, 5, 3, 3, 5, 5, 2, 5, 5, 5, 2, 4, 5, 5], dtype=int64),\n",
       " array([3, 2, 2, 1, 4, 1, 5, 5, 5, 1, 2, 3, 2, 3, 5, 2], dtype=int64),\n",
       " array([2, 3, 4, 0, 4, 3, 2, 1, 1, 3, 3, 4, 5, 2, 2, 5], dtype=int64),\n",
       " array([2, 0, 0, 4, 5, 2, 3, 1, 2, 2, 0, 3, 2, 1, 2, 3], dtype=int64),\n",
       " array([1, 4, 5, 0, 5, 4, 1, 3, 4, 3, 0, 0, 1, 1, 2, 0], dtype=int64),\n",
       " array([3, 0, 3, 2, 4, 2, 3, 2, 5, 5, 5, 5, 4, 1, 5, 1], dtype=int64),\n",
       " array([0, 0, 1, 4, 1, 4, 2, 0, 3, 2, 4, 5, 4, 2, 1, 5], dtype=int64),\n",
       " array([2, 4, 3, 2, 2, 3, 1, 5, 5, 3, 1, 3, 4, 4, 2, 3], dtype=int64),\n",
       " array([0, 5, 2, 4, 5, 5, 1, 1, 3, 1, 5, 3, 2, 3, 1, 0], dtype=int64),\n",
       " array([5, 3, 3, 1, 3, 5, 5, 5, 3, 4, 0, 0, 0, 1, 0, 4], dtype=int64),\n",
       " array([3, 4, 4, 2, 2, 5, 0, 4, 2, 2, 0, 1, 0, 2, 4, 1], dtype=int64),\n",
       " array([1, 2, 4, 5, 3, 3, 2, 3, 3, 2, 3, 0, 0, 4, 1, 5], dtype=int64),\n",
       " array([5, 4, 1, 5, 1, 4, 1, 3, 3, 4, 0, 3, 0, 3, 3, 1], dtype=int64),\n",
       " array([4, 0, 1, 3, 3, 1, 2, 1, 4, 4, 0, 0, 4, 4, 2, 4], dtype=int64),\n",
       " array([1, 0, 0, 2, 2, 0, 1, 3, 4, 1, 0, 1, 5, 2, 0, 3], dtype=int64),\n",
       " array([4, 0, 5, 0, 1, 5, 3, 4, 1, 1, 5, 2, 2, 5, 0, 2], dtype=int64),\n",
       " array([3, 1, 0, 5, 1, 4, 2, 5, 2, 0, 5, 2, 2, 0, 4, 5], dtype=int64),\n",
       " array([4, 4, 0, 4, 1, 4, 4, 0, 0, 3, 2, 1, 3, 3, 4, 4], dtype=int64),\n",
       " array([5, 5, 5, 2, 2, 1, 2, 2, 0, 4, 3, 3, 4, 2, 0, 2], dtype=int64),\n",
       " array([2, 0, 3, 1, 2, 0, 3, 3, 2, 0, 0, 3, 0, 5, 4, 0], dtype=int64),\n",
       " array([3, 0, 0, 3, 5, 4, 4, 4, 1, 2, 1, 5, 0, 4, 0, 0], dtype=int64),\n",
       " array([3, 3, 1, 4, 3, 5, 0, 4, 1, 4, 0, 1, 2, 5, 0, 1], dtype=int64),\n",
       " array([5, 1, 3, 0, 2, 0, 3, 0, 5, 1, 3, 4, 5, 4, 1, 4], dtype=int64),\n",
       " array([5, 1, 5, 0, 4, 1, 5, 0, 2, 3, 0, 3, 0, 5, 3, 0], dtype=int64),\n",
       " array([3, 4, 4, 2, 5, 1, 2, 4, 5, 3, 5, 0, 3, 3, 2, 2], dtype=int64),\n",
       " array([5, 0, 4, 4, 3, 1, 2, 0, 2, 1, 3, 0, 2, 2, 2, 5], dtype=int64),\n",
       " array([5, 3, 4, 4, 1, 2, 3, 0, 2, 4, 1, 4, 4, 2, 2, 3], dtype=int64),\n",
       " array([0, 2, 5, 3, 5, 3, 5, 3, 1, 1, 3, 3, 4, 1, 2, 2], dtype=int64),\n",
       " array([0, 4, 2, 0, 4, 1, 0, 3, 2, 0, 4, 2, 4, 1, 2, 4], dtype=int64),\n",
       " array([4, 5, 1, 1, 2, 2, 5, 2, 5, 2, 5, 3, 2, 3, 4, 3], dtype=int64),\n",
       " array([2, 1, 0, 1, 1, 1, 2, 3, 0, 3, 2, 0, 5, 5, 2, 1], dtype=int64),\n",
       " array([2, 3, 3, 1, 3, 5, 3, 1, 5, 3, 2, 0, 4, 5, 0, 1], dtype=int64),\n",
       " array([4, 4, 5, 1, 0, 0, 5, 4, 4, 3, 2, 1, 2, 2, 1, 5], dtype=int64),\n",
       " array([5, 3, 5, 2, 4, 2, 0, 5, 1, 3, 4, 3, 4, 2, 3, 0], dtype=int64),\n",
       " array([4, 1, 1, 3, 5, 1, 2, 2, 3, 1, 4, 0, 0, 5, 5, 4], dtype=int64),\n",
       " array([1, 5, 0, 5, 2, 0, 0, 0, 5, 0, 4, 0, 3, 5, 5, 2], dtype=int64),\n",
       " array([3, 5, 0, 3, 1, 3, 1, 3, 2, 4, 2, 3, 1, 0, 2, 1], dtype=int64),\n",
       " array([0, 4, 2, 1, 4, 5, 0, 4, 3, 1, 5, 3, 2, 1, 3, 0], dtype=int64),\n",
       " array([0, 2, 1, 4, 2, 3, 1, 3, 4, 3, 2, 0, 0, 4, 0, 1], dtype=int64),\n",
       " array([0, 1, 1, 1, 2, 2, 0, 3, 5, 4, 4, 2, 4, 0, 1, 1], dtype=int64),\n",
       " array([2, 4, 4, 0, 5, 4, 0, 3, 1, 3, 3, 4, 0, 3, 3, 1], dtype=int64),\n",
       " array([4, 4, 4, 4, 2, 1, 1, 2, 3, 4, 2, 5, 1, 1, 0, 4], dtype=int64),\n",
       " array([5, 0, 3, 5, 1, 0, 0, 1, 0, 3, 0, 5, 4, 4, 3, 4], dtype=int64),\n",
       " array([1, 2, 1, 2, 5, 4, 4, 3, 3, 5, 5, 4, 5, 2, 0, 4], dtype=int64),\n",
       " array([2, 2, 3, 2, 3, 5, 0, 0, 0, 2, 2, 3, 5, 5, 2, 0], dtype=int64),\n",
       " array([2, 1, 2, 1, 5, 2, 3, 3, 3, 5, 5, 4, 1, 5, 4, 5], dtype=int64),\n",
       " array([0, 2, 2, 2, 4, 0, 1, 3, 5, 2, 2, 1, 4, 2, 5, 0], dtype=int64),\n",
       " array([5, 0, 2, 5, 3, 2, 5, 5, 2, 2, 3, 5, 3, 0, 5, 1], dtype=int64),\n",
       " array([4, 0, 5, 3, 3, 3, 3, 1, 5, 3, 0, 0, 2, 1, 1, 3], dtype=int64),\n",
       " array([1, 4, 1, 2, 3, 3, 3, 4, 0, 5, 5, 0, 2, 5, 0, 2], dtype=int64),\n",
       " array([5, 4, 1, 1, 2, 3, 0, 2, 3, 1, 3, 1, 5, 4, 0, 3], dtype=int64),\n",
       " array([2, 5, 3, 0, 3, 3, 3, 0, 1, 0, 5, 3, 2, 5, 4, 1], dtype=int64),\n",
       " array([5, 5, 2, 1, 0, 4, 1, 5, 5, 4, 5, 5, 2, 5, 5, 3], dtype=int64),\n",
       " array([5, 3, 1, 5, 2, 2, 1, 5, 1, 2, 3, 3, 2, 3, 1, 1], dtype=int64),\n",
       " array([3, 5, 3, 1, 2, 5, 5, 4, 3, 5, 3, 3, 1, 2, 1, 1], dtype=int64),\n",
       " array([4, 2, 2, 3, 2, 1, 3, 4, 5, 4, 0, 2, 5, 0, 5, 0], dtype=int64),\n",
       " array([1, 3, 0, 4, 4, 5, 1, 2, 2, 1, 4, 1, 4, 0, 4, 0], dtype=int64),\n",
       " array([2, 2, 3, 1, 0, 3, 5, 4, 0, 5, 2, 2, 5, 2, 4, 0], dtype=int64),\n",
       " array([3, 2, 4, 3, 1, 2, 2, 3, 2, 0, 4, 3, 0, 2, 3, 4], dtype=int64),\n",
       " array([2, 4, 5, 2, 2, 5, 2, 3, 2, 1, 4, 3, 1, 3, 0, 0], dtype=int64),\n",
       " array([5, 5, 3, 0, 3, 5, 0, 3, 1, 0, 4, 1, 4, 3, 4, 5], dtype=int64),\n",
       " array([3, 5, 3, 4, 0, 0, 2, 4, 4, 5, 3, 3, 0, 1, 3, 5], dtype=int64),\n",
       " array([2, 0, 5, 4, 0, 3, 2, 2, 0, 5, 5, 5, 4, 1, 1, 0], dtype=int64),\n",
       " array([4, 5, 4, 3, 5, 0, 4, 3, 3, 4, 5, 5, 0, 3, 3, 2], dtype=int64),\n",
       " array([4, 3, 1, 4, 1, 1, 2, 2, 0, 2, 4, 1, 2, 3, 1, 5], dtype=int64),\n",
       " array([2, 2, 2, 5, 3, 0, 4, 5, 0, 2, 0, 0, 4, 0, 0, 1], dtype=int64),\n",
       " array([5, 4, 0, 1, 1, 4, 4, 1, 5, 5, 1, 5, 2, 2, 1, 2], dtype=int64),\n",
       " array([5, 1, 5, 4, 1, 2, 3, 0, 2, 2, 1, 0, 3, 5, 3, 1], dtype=int64),\n",
       " array([1, 1, 0, 1, 4, 2, 2, 0, 0, 2, 2, 3, 3, 3, 2, 2], dtype=int64),\n",
       " array([4, 4, 1, 4, 1, 3, 2, 2, 3, 2, 0, 1, 1, 1, 0, 3], dtype=int64),\n",
       " array([3, 2, 4, 1, 1, 2, 1, 3, 0, 5, 2, 1, 2, 4, 0, 4], dtype=int64),\n",
       " array([3, 3, 0, 2, 2, 5, 0, 5, 5, 2, 3, 5, 2, 2, 1, 2], dtype=int64),\n",
       " array([3, 5, 3, 2, 1, 5, 5, 4, 3, 1, 5, 1, 4, 5, 2, 3], dtype=int64),\n",
       " array([4, 2, 5, 2, 1, 3, 3, 3, 5, 3, 1, 2, 0, 5, 0, 4], dtype=int64),\n",
       " array([3, 0, 2, 4, 0, 0, 2, 3, 0, 0, 5, 2, 1, 2, 0, 0], dtype=int64),\n",
       " array([2, 4, 1, 4, 3, 2, 0, 0, 0, 3, 1, 4, 0, 2, 3, 2], dtype=int64),\n",
       " array([1, 2, 1, 2, 5, 2, 1, 3, 5, 3, 1, 3, 3, 0, 3, 1], dtype=int64),\n",
       " array([3, 0, 4, 1, 1, 1, 1, 0, 5, 5, 4, 5, 5, 0, 4, 0], dtype=int64),\n",
       " array([2, 0, 1, 0, 2, 3, 5, 4, 4, 0, 3, 0, 3, 2, 4, 4], dtype=int64),\n",
       " array([5, 3, 4, 5, 0, 1, 4, 2, 2, 3, 4, 1, 5, 1, 3, 4], dtype=int64),\n",
       " array([5, 4, 0, 1, 2, 0, 1, 0, 3, 2, 5, 0, 1, 4, 2, 3], dtype=int64),\n",
       " array([0, 2, 0, 4, 3, 0, 3, 2, 1, 4, 1, 2, 3, 2, 5, 4], dtype=int64),\n",
       " array([3, 0, 0, 3, 3, 2, 5, 1, 4, 4, 3, 1], dtype=int64)]"
      ]
     },
     "execution_count": 47,
     "metadata": {},
     "output_type": "execute_result"
    }
   ],
   "source": [
    "a"
   ]
  },
  {
   "cell_type": "code",
   "execution_count": 48,
   "id": "51be12aa-146b-4aad-adc6-22f66cb5f283",
   "metadata": {},
   "outputs": [
    {
     "data": {
      "text/plain": [
       "[array([0, 3, 3, 0, 1, 1, 0, 2, 3, 3, 2, 0, 5, 4, 1, 0], dtype=int64),\n",
       " array([5, 0, 0, 2, 2, 3, 4, 5, 1, 4, 3, 0, 5, 5, 3, 1], dtype=int64),\n",
       " array([5, 2, 0, 5, 0, 4, 4, 5, 2, 2, 4, 5, 4, 0, 4, 5], dtype=int64),\n",
       " array([0, 3, 4, 0, 2, 0, 5, 1, 5, 5, 4, 0, 4, 5, 3, 4], dtype=int64),\n",
       " array([3, 4, 3, 2, 0, 5, 1, 0, 4, 5, 3, 1, 2, 4, 5, 5], dtype=int64),\n",
       " array([2, 1, 4, 4, 3, 3, 5, 5, 2, 5, 5, 5, 3, 4, 1, 5], dtype=int64),\n",
       " array([3, 2, 2, 1, 2, 4, 1, 0, 5, 3, 2, 2, 2, 3, 5, 2], dtype=int64),\n",
       " array([2, 0, 4, 3, 4, 3, 4, 1, 1, 3, 3, 4, 5, 2, 2, 5], dtype=int64),\n",
       " array([2, 1, 0, 4, 5, 3, 3, 1, 2, 2, 0, 2, 2, 4, 2, 3], dtype=int64),\n",
       " array([1, 4, 5, 5, 4, 4, 1, 4, 2, 3, 3, 0, 2, 1, 4, 0], dtype=int64),\n",
       " array([4, 0, 3, 4, 4, 2, 3, 2, 1, 0, 5, 1, 4, 1, 3, 1], dtype=int64),\n",
       " array([2, 3, 1, 2, 1, 4, 2, 0, 3, 3, 4, 5, 4, 4, 1, 5], dtype=int64),\n",
       " array([3, 2, 3, 2, 3, 4, 1, 5, 5, 3, 1, 4, 4, 4, 3, 4], dtype=int64),\n",
       " array([0, 5, 2, 5, 5, 1, 1, 1, 3, 1, 5, 4, 2, 3, 0, 5], dtype=int64),\n",
       " array([0, 3, 0, 0, 3, 5, 5, 5, 2, 4, 5, 1, 0, 1, 3, 4], dtype=int64),\n",
       " array([4, 0, 0, 2, 2, 0, 0, 3, 2, 2, 0, 1, 3, 2, 2, 1], dtype=int64),\n",
       " array([1, 2, 4, 0, 2, 4, 2, 3, 3, 2, 3, 5, 5, 4, 1, 5], dtype=int64),\n",
       " array([5, 4, 1, 5, 1, 4, 1, 3, 3, 4, 0, 3, 0, 0, 3, 1], dtype=int64),\n",
       " array([4, 5, 1, 3, 4, 1, 2, 1, 4, 5, 5, 4, 0, 3, 2, 3], dtype=int64),\n",
       " array([1, 0, 0, 2, 0, 5, 2, 2, 4, 1, 5, 1, 0, 2, 0, 3], dtype=int64),\n",
       " array([4, 0, 5, 0, 1, 5, 3, 2, 1, 1, 5, 2, 2, 5, 2, 4], dtype=int64),\n",
       " array([3, 1, 0, 0, 1, 4, 2, 5, 0, 5, 0, 2, 2, 0, 4, 4], dtype=int64),\n",
       " array([4, 4, 0, 4, 1, 4, 3, 5, 1, 3, 4, 0, 3, 0, 4, 1], dtype=int64),\n",
       " array([5, 3, 5, 5, 4, 1, 2, 3, 3, 5, 4, 2, 4, 2, 0, 2], dtype=int64),\n",
       " array([2, 1, 3, 1, 3, 0, 3, 3, 3, 2, 2, 3, 1, 5, 4, 1], dtype=int64),\n",
       " array([3, 5, 0, 0, 5, 4, 4, 4, 1, 4, 5, 5, 3, 4, 0, 2], dtype=int64),\n",
       " array([2, 3, 1, 4, 3, 1, 0, 4, 1, 4, 4, 1, 2, 5, 0, 1], dtype=int64),\n",
       " array([3, 1, 3, 1, 2, 5, 3, 0, 5, 1, 2, 5, 0, 3, 1, 4], dtype=int64),\n",
       " array([5, 1, 5, 0, 4, 1, 5, 0, 4, 3, 0, 0, 0, 5, 3, 0], dtype=int64),\n",
       " array([3, 0, 4, 2, 5, 1, 2, 2, 0, 3, 5, 0, 4, 3, 2, 4], dtype=int64),\n",
       " array([0, 5, 3, 4, 3, 4, 4, 0, 4, 1, 3, 1, 2, 3, 0, 0], dtype=int64),\n",
       " array([0, 3, 4, 4, 0, 2, 3, 3, 5, 4, 1, 4, 4, 2, 4, 3], dtype=int64),\n",
       " array([5, 2, 0, 4, 5, 2, 5, 3, 2, 1, 3, 4, 2, 1, 0, 2], dtype=int64),\n",
       " array([4, 2, 5, 0, 2, 1, 3, 3, 4, 0, 4, 2, 4, 1, 2, 5], dtype=int64),\n",
       " array([3, 5, 1, 1, 2, 2, 5, 3, 5, 2, 5, 3, 2, 3, 4, 3], dtype=int64),\n",
       " array([2, 1, 0, 1, 1, 1, 2, 3, 0, 3, 2, 1, 5, 5, 2, 1], dtype=int64),\n",
       " array([2, 3, 4, 1, 0, 1, 3, 1, 5, 2, 2, 4, 4, 5, 0, 5], dtype=int64),\n",
       " array([3, 3, 5, 5, 1, 0, 0, 4, 4, 3, 5, 1, 2, 3, 1, 4], dtype=int64),\n",
       " array([5, 3, 5, 2, 2, 2, 0, 5, 1, 3, 4, 2, 4, 2, 2, 0], dtype=int64),\n",
       " array([3, 1, 1, 4, 3, 1, 5, 2, 2, 1, 4, 0, 0, 5, 5, 4], dtype=int64),\n",
       " array([1, 5, 0, 5, 2, 0, 5, 0, 2, 5, 3, 4, 4, 3, 5, 2], dtype=int64),\n",
       " array([3, 4, 0, 3, 1, 3, 1, 5, 3, 4, 2, 4, 1, 5, 4, 1], dtype=int64),\n",
       " array([0, 5, 5, 0, 4, 5, 5, 4, 3, 1, 1, 3, 2, 1, 5, 5], dtype=int64),\n",
       " array([3, 0, 0, 4, 2, 0, 1, 5, 2, 3, 2, 1, 0, 0, 0, 1], dtype=int64),\n",
       " array([5, 1, 1, 1, 2, 2, 4, 3, 3, 3, 4, 0, 4, 0, 1, 1], dtype=int64),\n",
       " array([2, 5, 4, 0, 5, 1, 2, 3, 5, 3, 0, 2, 0, 3, 2, 1], dtype=int64),\n",
       " array([5, 3, 4, 4, 2, 0, 1, 2, 3, 4, 2, 5, 1, 1, 5, 5], dtype=int64),\n",
       " array([0, 0, 3, 1, 1, 5, 0, 1, 0, 3, 4, 0, 4, 0, 3, 4], dtype=int64),\n",
       " array([1, 2, 1, 2, 0, 4, 4, 0, 2, 5, 3, 4, 5, 2, 0, 4], dtype=int64),\n",
       " array([3, 3, 4, 2, 2, 1, 3, 0, 0, 2, 5, 3, 5, 5, 2, 2], dtype=int64),\n",
       " array([2, 1, 4, 1, 1, 2, 3, 3, 3, 5, 5, 3, 1, 5, 2, 5], dtype=int64),\n",
       " array([5, 2, 4, 3, 4, 0, 1, 3, 5, 2, 2, 1, 3, 2, 1, 5], dtype=int64),\n",
       " array([5, 0, 2, 5, 3, 3, 1, 5, 0, 2, 3, 5, 4, 0, 5, 1], dtype=int64),\n",
       " array([2, 4, 5, 1, 4, 4, 3, 1, 5, 3, 0, 0, 2, 1, 1, 4], dtype=int64),\n",
       " array([1, 4, 0, 2, 0, 3, 3, 4, 3, 5, 5, 5, 4, 3, 0, 2], dtype=int64),\n",
       " array([5, 4, 1, 1, 2, 3, 0, 3, 3, 1, 3, 3, 2, 4, 3, 0], dtype=int64),\n",
       " array([0, 5, 3, 3, 3, 1, 3, 0, 1, 0, 1, 4, 2, 5, 4, 0], dtype=int64),\n",
       " array([5, 5, 4, 4, 0, 4, 1, 5, 5, 4, 5, 5, 3, 1, 0, 3], dtype=int64),\n",
       " array([5, 3, 1, 1, 2, 2, 1, 5, 1, 2, 3, 2, 4, 4, 1, 1], dtype=int64),\n",
       " array([3, 5, 3, 1, 2, 5, 2, 0, 3, 5, 3, 4, 1, 4, 1, 1], dtype=int64),\n",
       " array([3, 2, 2, 3, 2, 1, 0, 3, 5, 4, 4, 2, 5, 2, 5, 0], dtype=int64),\n",
       " array([1, 4, 0, 2, 5, 0, 3, 3, 2, 1, 2, 1, 3, 0, 3, 4], dtype=int64),\n",
       " array([2, 2, 4, 1, 5, 0, 5, 4, 0, 5, 2, 3, 5, 2, 2, 0], dtype=int64),\n",
       " array([2, 3, 4, 3, 1, 3, 2, 3, 2, 0, 4, 0, 0, 4, 3, 3], dtype=int64),\n",
       " array([3, 4, 5, 2, 2, 5, 3, 3, 4, 1, 4, 3, 1, 3, 1, 0], dtype=int64),\n",
       " array([5, 5, 3, 0, 3, 5, 0, 3, 2, 0, 4, 1, 4, 4, 2, 1], dtype=int64),\n",
       " array([2, 5, 0, 2, 5, 5, 2, 2, 4, 5, 5, 4, 5, 1, 3, 4], dtype=int64),\n",
       " array([2, 0, 5, 4, 0, 3, 2, 2, 0, 0, 5, 5, 4, 1, 1, 0], dtype=int64),\n",
       " array([4, 0, 2, 4, 5, 3, 4, 2, 3, 2, 1, 5, 0, 3, 3, 2], dtype=int64),\n",
       " array([4, 3, 1, 4, 1, 5, 2, 2, 1, 4, 4, 3, 2, 3, 5, 5], dtype=int64),\n",
       " array([4, 2, 2, 5, 0, 5, 2, 5, 0, 2, 3, 2, 4, 0, 1, 1], dtype=int64),\n",
       " array([5, 3, 0, 1, 0, 4, 4, 1, 5, 5, 1, 0, 2, 3, 1, 3], dtype=int64),\n",
       " array([1, 5, 5, 4, 1, 4, 3, 0, 2, 3, 1, 0, 4, 5, 2, 0], dtype=int64),\n",
       " array([5, 4, 5, 1, 4, 2, 2, 5, 5, 2, 3, 3, 3, 3, 2, 2], dtype=int64),\n",
       " array([2, 4, 1, 4, 1, 3, 5, 2, 4, 2, 0, 1, 2, 1, 1, 3], dtype=int64),\n",
       " array([3, 2, 5, 0, 1, 3, 1, 4, 0, 1, 2, 1, 0, 3, 0, 4], dtype=int64),\n",
       " array([2, 3, 0, 2, 2, 5, 0, 5, 4, 0, 4, 0, 4, 2, 1, 2], dtype=int64),\n",
       " array([2, 5, 3, 2, 1, 0, 5, 4, 3, 1, 0, 1, 4, 0, 2, 4], dtype=int64),\n",
       " array([5, 2, 5, 2, 0, 3, 2, 4, 5, 3, 1, 2, 5, 5, 0, 5], dtype=int64),\n",
       " array([3, 0, 4, 4, 5, 0, 2, 4, 3, 0, 0, 2, 1, 2, 0, 0], dtype=int64),\n",
       " array([5, 4, 1, 4, 0, 0, 0, 0, 0, 4, 1, 4, 2, 4, 3, 0], dtype=int64),\n",
       " array([1, 2, 1, 2, 5, 2, 1, 0, 5, 2, 1, 0, 3, 2, 4, 1], dtype=int64),\n",
       " array([2, 0, 4, 1, 1, 1, 1, 0, 5, 5, 4, 5, 5, 5, 3, 5], dtype=int64),\n",
       " array([2, 5, 1, 5, 2, 4, 5, 4, 4, 0, 3, 0, 4, 3, 3, 3], dtype=int64),\n",
       " array([5, 3, 4, 5, 5, 1, 4, 2, 4, 4, 4, 1, 5, 1, 3, 2], dtype=int64),\n",
       " array([1, 2, 0, 0, 2, 0, 1, 4, 3, 2, 3, 2, 1, 3, 4, 4], dtype=int64),\n",
       " array([0, 2, 0, 4, 3, 2, 4, 4, 1, 2, 1, 2, 3, 3, 3, 3], dtype=int64),\n",
       " array([3, 0, 0, 0, 3, 2, 5, 4, 3, 4, 3, 5], dtype=int64)]"
      ]
     },
     "execution_count": 48,
     "metadata": {},
     "output_type": "execute_result"
    }
   ],
   "source": [
    "b"
   ]
  },
  {
   "cell_type": "code",
   "execution_count": null,
   "id": "34077866-ba3b-461c-9e7c-8ef180d1b2b5",
   "metadata": {},
   "outputs": [],
   "source": []
  }
 ],
 "metadata": {
  "kernelspec": {
   "display_name": "Python 3 (ipykernel)",
   "language": "python",
   "name": "python3"
  },
  "language_info": {
   "codemirror_mode": {
    "name": "ipython",
    "version": 3
   },
   "file_extension": ".py",
   "mimetype": "text/x-python",
   "name": "python",
   "nbconvert_exporter": "python",
   "pygments_lexer": "ipython3",
   "version": "3.8.12"
  }
 },
 "nbformat": 4,
 "nbformat_minor": 5
}
