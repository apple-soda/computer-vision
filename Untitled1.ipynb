{
 "cells": [
  {
   "cell_type": "code",
   "execution_count": 1,
   "id": "4215e97c-a840-4107-a9c6-926f71a1a89b",
   "metadata": {},
   "outputs": [],
   "source": [
    "import torch\n",
    "import torch.nn as nn\n",
    "import torch.nn.functional as F\n",
    "\n",
    "import numpy as np"
   ]
  },
  {
   "cell_type": "code",
   "execution_count": 2,
   "id": "2126c864-9d18-4711-88f7-5c2f35865d3d",
   "metadata": {},
   "outputs": [],
   "source": [
    "class PositionalEmbedding1D(nn.Module):\n",
    "    \"\"\"Adds (optionally learned) positional embeddings to the inputs.\"\"\"\n",
    "\n",
    "    def __init__(self, seq_len, dim):\n",
    "        super().__init__()\n",
    "        self.pos_embedding = nn.Parameter(torch.zeros(1, seq_len, dim))\n",
    "    \n",
    "    def forward(self, x):\n",
    "        \"\"\"Input has shape `(batch_size, seq_len, emb_dim)`\"\"\"\n",
    "        # (1, 3, 14, 14) + (1, 3, 196) ? wtf\n",
    "        # ohhh flatten before embedding kek\n",
    "        return x + self.pos_embedding"
   ]
  },
  {
   "cell_type": "code",
   "execution_count": 3,
   "id": "cc454042-e611-4cae-8210-f51dc1c3da52",
   "metadata": {},
   "outputs": [],
   "source": [
    "class MLP(nn.Module):\n",
    "    def __init__(self, dim, ff_dim):\n",
    "        super().__init__()\n",
    "        self.l1 = nn.Linear(dim, ff_dim)\n",
    "        self.l2 = nn.Linear(ff_dim, dim)\n",
    "        \n",
    "    def forward(self, x):\n",
    "        out = self.l2(F.gelu(self.l1(x)))\n",
    "        return out"
   ]
  },
  {
   "cell_type": "code",
   "execution_count": 4,
   "id": "168fb4ea-14a8-4aba-bef9-e7e48633004b",
   "metadata": {},
   "outputs": [],
   "source": [
    "class MHSA(nn.Module):\n",
    "    def __init__(self, dim, n_heads):\n",
    "        super().__init__()\n",
    "        self.n_heads = n_heads\n",
    "        self.dim = dim\n",
    "        self.project = nn.Linear(dim, dim)\n",
    "        \n",
    "    def forward(self, x): # input shape [b, s, d]\n",
    "        # split into q, k, v : (query, key, values)\n",
    "        # expand by h (num heads... hence multi attention)\n",
    "        \n",
    "        q, k, v = self.project(x), self.project(x), self.project(x)\n",
    "        # convert q, k, v -> [b, h, s, w] where h = n_heads\n",
    "        q = q.view(q.shape[0], self.n_heads, q.shape[1], -1)\n",
    "        k = k.view(k.shape[0], self.n_heads, k.shape[1], -1)\n",
    "        v = v.view(v.shape[0], self.n_heads, v.shape[1], -1)\n",
    "        \n",
    "        # scaled dot product attention on q, k (queries, keys) then matmul with values\n",
    "        # matmul + scale\n",
    "        # [b, h, s, w] @ [b, h, w, s] -> [b, h, s, s]\n",
    "        k = k.transpose(-2, -1) # swap last two dimensions\n",
    "        p = torch.matmul(q, k)\n",
    "        p = p / np.sqrt(k.size(-1)) # where s is the dimension of k\n",
    "\n",
    "        p = F.softmax(p, dim = -1) # softmax across last dimension\n",
    "        \n",
    "        out = torch.matmul(p, v) # [b, h, s, s] @ [b, h, s, w] -> [b, h, s, w]\n",
    "        out = out.view(out.shape[0], out.shape[2], -1) # [b, s, d]\n",
    "        return out"
   ]
  },
  {
   "cell_type": "code",
   "execution_count": 5,
   "id": "0de52869-4ffa-4be1-b875-c16b18af1a4b",
   "metadata": {},
   "outputs": [],
   "source": [
    "# dont need linear and dont need dropout i think\n",
    "# add after if performance is shit\n",
    "\n",
    "class Block(nn.Module): # inputs are B, S, D\n",
    "    def __init__(self, dim, n_heads, ff_dim):\n",
    "        super().__init__()\n",
    "        self.norm1 = nn.LayerNorm(dim, eps=1e-6)\n",
    "        self.MHSA = MHSA(dim, n_heads)\n",
    "        self.norm2 = nn.LayerNorm(dim, eps=1e-6)\n",
    "        self.MLP = MLP(dim, ff_dim)\n",
    "        \n",
    "    def forward(self, x):\n",
    "        h = self.MHSA(self.norm1(x))\n",
    "        x = x + h\n",
    "        h = self.MLP(self.norm2(x))\n",
    "        x = x + h\n",
    "        return x"
   ]
  },
  {
   "cell_type": "code",
   "execution_count": 6,
   "id": "a7beb667-2fc6-4786-bbc6-3c3960a3e1a7",
   "metadata": {},
   "outputs": [],
   "source": [
    "class Transformer(nn.Module):\n",
    "    def __init__(self, n_layers, dim, n_heads, ff_dim):\n",
    "        super().__init__()\n",
    "        self.block = nn.ModuleList([Block(dim, n_heads, ff_dim) for _ in range(n_layers)])\n",
    "    \n",
    "    def forward(self, x):\n",
    "        for block in self.block:\n",
    "            x = block(x)\n",
    "        return x"
   ]
  },
  {
   "cell_type": "code",
   "execution_count": 7,
   "id": "3c1e746a-e682-476f-87ec-58a6024bd600",
   "metadata": {},
   "outputs": [],
   "source": [
    "class ViT(nn.Module):\n",
    "    def __init__(self, in_channels, dim, fh, fw, n_layers, n_heads, ff_dim, num_classes):\n",
    "        super().__init__()\n",
    "        self.fw = fw\n",
    "        self.fh = fh\n",
    "        self.patch_encoding = nn.Conv2d(in_channels, dim, kernel_size=(self.fh, self.fw), stride=(self.fh, self.fw))\n",
    "        # [B, D, FH, FW]\n",
    "        '''\n",
    "        with image 1, 3, 224, 224  and patch encoding of 16x16 we have\n",
    "        ((224 - 16) / 16) + 1 = 14\n",
    "        seq len is 14 * 14 bro im trippin bullets\n",
    "        out = (1, 3, 14, 14)\n",
    "        '''\n",
    "        self.positional_embedding = PositionalEmbedding1D(14 * 14, dim) # inputs are seq len, dim\n",
    "        # [B, D, FH, FW]\n",
    "        \n",
    "        # flatten into [B, S, D]\n",
    "        self.Transformer = Transformer(n_layers, dim, n_heads, ff_dim)\n",
    "        \n",
    "        # if this doenst work then do it manually\n",
    "        self.norm = nn.LayerNorm(dim, eps=1e-6)\n",
    "        self.mlp_head = nn.Linear(dim, num_classes)\n",
    "        \n",
    "    def forward(self, x):\n",
    "        x = self.patch_encoding(x)\n",
    "        x = x.view(x.shape[0], -1, x.shape[1]) # b, s, d\n",
    "        x = self.positional_embedding(x) \n",
    "        x = self.Transformer(x)\n",
    "        x = self.norm(x)\n",
    "        x = x[:, -1, :] # b, s, d -> b, d\n",
    "        x = self.mlp_head(x)\n",
    "        return x"
   ]
  },
  {
   "cell_type": "code",
   "execution_count": 8,
   "id": "64fe747f-dcc7-45ed-b95c-b62ebaa8b437",
   "metadata": {},
   "outputs": [],
   "source": [
    "#hyperparameters\n",
    "fw = fh = 16\n",
    "dim = 768\n",
    "ff_dim = 3072\n",
    "n_heads = 12\n",
    "n_layers = 12\n",
    "in_channels = 3\n",
    "num_classes = 10\n"
   ]
  },
  {
   "cell_type": "code",
   "execution_count": 9,
   "id": "439d23fb-45ac-41a4-80d5-b8a5ec397edc",
   "metadata": {},
   "outputs": [],
   "source": [
    "model = ViT(in_channels, dim, fh, fw, n_layers, n_heads, ff_dim, num_classes)"
   ]
  },
  {
   "cell_type": "code",
   "execution_count": 10,
   "id": "55bec6c0-b353-4c88-80c2-392f1eedfbf9",
   "metadata": {},
   "outputs": [],
   "source": [
    "# test input of (1, 3, 224, 224) like in research paper\n",
    "x = torch.rand(1, 3, 224, 224)"
   ]
  },
  {
   "cell_type": "code",
   "execution_count": 11,
   "id": "fd0b6d98-ac55-4faa-9d68-91c4adb0d846",
   "metadata": {},
   "outputs": [],
   "source": [
    "out = model(x)"
   ]
  },
  {
   "cell_type": "code",
   "execution_count": 14,
   "id": "253459c7-1453-4fb3-bae1-32359f426319",
   "metadata": {},
   "outputs": [
    {
     "data": {
      "text/plain": [
       "tensor([[ 0.1031,  0.1460, -0.1724,  1.0007, -0.5453,  0.1851,  1.3547, -0.3695,\n",
       "         -1.0684,  0.5839]], grad_fn=<AddmmBackward0>)"
      ]
     },
     "execution_count": 14,
     "metadata": {},
     "output_type": "execute_result"
    }
   ],
   "source": [
    "out"
   ]
  },
  {
   "cell_type": "code",
   "execution_count": 16,
   "id": "7d8d0d0b-7727-4315-bbfc-899d6fe7fa09",
   "metadata": {},
   "outputs": [
    {
     "data": {
      "text/plain": [
       "tensor(6)"
      ]
     },
     "execution_count": 16,
     "metadata": {},
     "output_type": "execute_result"
    }
   ],
   "source": [
    "torch.argmax(out)"
   ]
  },
  {
   "cell_type": "code",
   "execution_count": null,
   "id": "f69ee295-ee26-4ce3-9b8a-ae00687278f5",
   "metadata": {},
   "outputs": [],
   "source": []
  }
 ],
 "metadata": {
  "kernelspec": {
   "display_name": "Python 3 (ipykernel)",
   "language": "python",
   "name": "python3"
  },
  "language_info": {
   "codemirror_mode": {
    "name": "ipython",
    "version": 3
   },
   "file_extension": ".py",
   "mimetype": "text/x-python",
   "name": "python",
   "nbconvert_exporter": "python",
   "pygments_lexer": "ipython3",
   "version": "3.8.12"
  }
 },
 "nbformat": 4,
 "nbformat_minor": 5
}
